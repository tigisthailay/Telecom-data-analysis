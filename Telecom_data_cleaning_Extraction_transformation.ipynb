{
 "cells": [
  {
   "cell_type": "code",
   "execution_count": 155,
   "id": "0ce1ee27",
   "metadata": {},
   "outputs": [],
   "source": [
    "#Import Libraries that used for data cleaning and other tasks\n",
    "import pandas as pd\n",
    "import numpy as np\n",
    "import seaborn as sns\n",
    "import matplotlib.pyplot as plt"
   ]
  },
  {
   "cell_type": "code",
   "execution_count": 156,
   "id": "a7cc518d",
   "metadata": {},
   "outputs": [
    {
     "data": {
      "text/html": [
       "<div>\n",
       "<style scoped>\n",
       "    .dataframe tbody tr th:only-of-type {\n",
       "        vertical-align: middle;\n",
       "    }\n",
       "\n",
       "    .dataframe tbody tr th {\n",
       "        vertical-align: top;\n",
       "    }\n",
       "\n",
       "    .dataframe thead th {\n",
       "        text-align: right;\n",
       "    }\n",
       "</style>\n",
       "<table border=\"1\" class=\"dataframe\">\n",
       "  <thead>\n",
       "    <tr style=\"text-align: right;\">\n",
       "      <th></th>\n",
       "      <th>Bearer Id</th>\n",
       "      <th>Start</th>\n",
       "      <th>Start ms</th>\n",
       "      <th>End</th>\n",
       "      <th>End ms</th>\n",
       "      <th>Dur. (ms)</th>\n",
       "      <th>IMSI</th>\n",
       "      <th>MSISDN/Number</th>\n",
       "      <th>IMEI</th>\n",
       "      <th>Last Location Name</th>\n",
       "      <th>...</th>\n",
       "      <th>Youtube DL (Bytes)</th>\n",
       "      <th>Youtube UL (Bytes)</th>\n",
       "      <th>Netflix DL (Bytes)</th>\n",
       "      <th>Netflix UL (Bytes)</th>\n",
       "      <th>Gaming DL (Bytes)</th>\n",
       "      <th>Gaming UL (Bytes)</th>\n",
       "      <th>Other DL (Bytes)</th>\n",
       "      <th>Other UL (Bytes)</th>\n",
       "      <th>Total UL (Bytes)</th>\n",
       "      <th>Total DL (Bytes)</th>\n",
       "    </tr>\n",
       "  </thead>\n",
       "  <tbody>\n",
       "    <tr>\n",
       "      <th>0</th>\n",
       "      <td>13,114,483,460,844,900,352.00</td>\n",
       "      <td>4/4/2019 12:01</td>\n",
       "      <td>770.00</td>\n",
       "      <td>4/25/2019 14:35</td>\n",
       "      <td>662.00</td>\n",
       "      <td>1,823,652.00</td>\n",
       "      <td>208,201,448,079,117.00</td>\n",
       "      <td>33,664,962,239.00</td>\n",
       "      <td>35,521,209,507,511.00</td>\n",
       "      <td>9.16456699548519E+015</td>\n",
       "      <td>...</td>\n",
       "      <td>15,854,611.00</td>\n",
       "      <td>2,501,332.00</td>\n",
       "      <td>8,198,936.00</td>\n",
       "      <td>9,656,251.00</td>\n",
       "      <td>278,082,303.00</td>\n",
       "      <td>14,344,150.00</td>\n",
       "      <td>171,744,450.00</td>\n",
       "      <td>8,814,393.00</td>\n",
       "      <td>36,749,741.00</td>\n",
       "      <td>308,879,636.00</td>\n",
       "    </tr>\n",
       "    <tr>\n",
       "      <th>1</th>\n",
       "      <td>13,114,483,482,878,900,224.00</td>\n",
       "      <td>4/9/2019 13:04</td>\n",
       "      <td>235.00</td>\n",
       "      <td>4/25/2019 8:15</td>\n",
       "      <td>606.00</td>\n",
       "      <td>1,365,104.00</td>\n",
       "      <td>208,201,909,211,140.00</td>\n",
       "      <td>33,681,854,413.00</td>\n",
       "      <td>35,794,009,006,359.00</td>\n",
       "      <td>L77566A</td>\n",
       "      <td>...</td>\n",
       "      <td>20,247,395.00</td>\n",
       "      <td>19,111,729.00</td>\n",
       "      <td>18,338,413.00</td>\n",
       "      <td>17,227,132.00</td>\n",
       "      <td>608,750,074.00</td>\n",
       "      <td>1,170,709.00</td>\n",
       "      <td>526,904,238.00</td>\n",
       "      <td>15,055,145.00</td>\n",
       "      <td>53,800,391.00</td>\n",
       "      <td>653,384,965.00</td>\n",
       "    </tr>\n",
       "    <tr>\n",
       "      <th>2</th>\n",
       "      <td>13,114,483,484,080,500,736.00</td>\n",
       "      <td>4/9/2019 17:42</td>\n",
       "      <td>1.00</td>\n",
       "      <td>4/25/2019 11:58</td>\n",
       "      <td>652.00</td>\n",
       "      <td>1,361,762.00</td>\n",
       "      <td>208,200,314,458,056.00</td>\n",
       "      <td>33,760,627,129.00</td>\n",
       "      <td>35,281,510,359,387.00</td>\n",
       "      <td>D42335A</td>\n",
       "      <td>...</td>\n",
       "      <td>19,725,661.00</td>\n",
       "      <td>14,699,576.00</td>\n",
       "      <td>17,587,794.00</td>\n",
       "      <td>6,163,408.00</td>\n",
       "      <td>229,584,621.00</td>\n",
       "      <td>395,630.00</td>\n",
       "      <td>410,692,588.00</td>\n",
       "      <td>4,215,763.00</td>\n",
       "      <td>27,883,638.00</td>\n",
       "      <td>279,807,335.00</td>\n",
       "    </tr>\n",
       "    <tr>\n",
       "      <th>3</th>\n",
       "      <td>13,114,483,485,442,799,616.00</td>\n",
       "      <td>4/10/2019 0:31</td>\n",
       "      <td>486.00</td>\n",
       "      <td>4/25/2019 7:36</td>\n",
       "      <td>171.00</td>\n",
       "      <td>1,321,509.00</td>\n",
       "      <td>208,201,402,342,131.00</td>\n",
       "      <td>33,750,343,200.00</td>\n",
       "      <td>35,356,610,164,913.00</td>\n",
       "      <td>T21824A</td>\n",
       "      <td>...</td>\n",
       "      <td>21,388,122.00</td>\n",
       "      <td>15,146,643.00</td>\n",
       "      <td>13,994,646.00</td>\n",
       "      <td>1,097,942.00</td>\n",
       "      <td>799,538,153.00</td>\n",
       "      <td>10,849,722.00</td>\n",
       "      <td>749,039,933.00</td>\n",
       "      <td>12,797,283.00</td>\n",
       "      <td>43,324,218.00</td>\n",
       "      <td>846,028,530.00</td>\n",
       "    </tr>\n",
       "    <tr>\n",
       "      <th>4</th>\n",
       "      <td>13,114,483,499,480,700,928.00</td>\n",
       "      <td>4/12/2019 20:10</td>\n",
       "      <td>565.00</td>\n",
       "      <td>4/25/2019 10:40</td>\n",
       "      <td>954.00</td>\n",
       "      <td>1,089,009.00</td>\n",
       "      <td>208,201,401,415,120.00</td>\n",
       "      <td>33,699,795,932.00</td>\n",
       "      <td>35,407,009,745,539.00</td>\n",
       "      <td>D88865A</td>\n",
       "      <td>...</td>\n",
       "      <td>15,259,380.00</td>\n",
       "      <td>18,962,873.00</td>\n",
       "      <td>17,124,581.00</td>\n",
       "      <td>415,218.00</td>\n",
       "      <td>527,707,248.00</td>\n",
       "      <td>3,529,801.00</td>\n",
       "      <td>550,709,500.00</td>\n",
       "      <td>13,910,322.00</td>\n",
       "      <td>38,542,814.00</td>\n",
       "      <td>569,138,589.00</td>\n",
       "    </tr>\n",
       "  </tbody>\n",
       "</table>\n",
       "<p>5 rows × 55 columns</p>\n",
       "</div>"
      ],
      "text/plain": [
       "                      Bearer Id            Start  Start ms              End  \\\n",
       "0 13,114,483,460,844,900,352.00   4/4/2019 12:01    770.00  4/25/2019 14:35   \n",
       "1 13,114,483,482,878,900,224.00   4/9/2019 13:04    235.00   4/25/2019 8:15   \n",
       "2 13,114,483,484,080,500,736.00   4/9/2019 17:42      1.00  4/25/2019 11:58   \n",
       "3 13,114,483,485,442,799,616.00   4/10/2019 0:31    486.00   4/25/2019 7:36   \n",
       "4 13,114,483,499,480,700,928.00  4/12/2019 20:10    565.00  4/25/2019 10:40   \n",
       "\n",
       "   End ms    Dur. (ms)                   IMSI     MSISDN/Number  \\\n",
       "0  662.00 1,823,652.00 208,201,448,079,117.00 33,664,962,239.00   \n",
       "1  606.00 1,365,104.00 208,201,909,211,140.00 33,681,854,413.00   \n",
       "2  652.00 1,361,762.00 208,200,314,458,056.00 33,760,627,129.00   \n",
       "3  171.00 1,321,509.00 208,201,402,342,131.00 33,750,343,200.00   \n",
       "4  954.00 1,089,009.00 208,201,401,415,120.00 33,699,795,932.00   \n",
       "\n",
       "                   IMEI     Last Location Name  ...  Youtube DL (Bytes)  \\\n",
       "0 35,521,209,507,511.00  9.16456699548519E+015  ...       15,854,611.00   \n",
       "1 35,794,009,006,359.00                L77566A  ...       20,247,395.00   \n",
       "2 35,281,510,359,387.00                D42335A  ...       19,725,661.00   \n",
       "3 35,356,610,164,913.00                T21824A  ...       21,388,122.00   \n",
       "4 35,407,009,745,539.00                D88865A  ...       15,259,380.00   \n",
       "\n",
       "   Youtube UL (Bytes)  Netflix DL (Bytes)  Netflix UL (Bytes)  \\\n",
       "0        2,501,332.00        8,198,936.00        9,656,251.00   \n",
       "1       19,111,729.00       18,338,413.00       17,227,132.00   \n",
       "2       14,699,576.00       17,587,794.00        6,163,408.00   \n",
       "3       15,146,643.00       13,994,646.00        1,097,942.00   \n",
       "4       18,962,873.00       17,124,581.00          415,218.00   \n",
       "\n",
       "   Gaming DL (Bytes)  Gaming UL (Bytes)  Other DL (Bytes)  Other UL (Bytes)  \\\n",
       "0     278,082,303.00      14,344,150.00    171,744,450.00      8,814,393.00   \n",
       "1     608,750,074.00       1,170,709.00    526,904,238.00     15,055,145.00   \n",
       "2     229,584,621.00         395,630.00    410,692,588.00      4,215,763.00   \n",
       "3     799,538,153.00      10,849,722.00    749,039,933.00     12,797,283.00   \n",
       "4     527,707,248.00       3,529,801.00    550,709,500.00     13,910,322.00   \n",
       "\n",
       "   Total UL (Bytes)  Total DL (Bytes)  \n",
       "0     36,749,741.00    308,879,636.00  \n",
       "1     53,800,391.00    653,384,965.00  \n",
       "2     27,883,638.00    279,807,335.00  \n",
       "3     43,324,218.00    846,028,530.00  \n",
       "4     38,542,814.00    569,138,589.00  \n",
       "\n",
       "[5 rows x 55 columns]"
      ]
     },
     "execution_count": 156,
     "metadata": {},
     "output_type": "execute_result"
    }
   ],
   "source": [
    "df = pd.read_csv('../data/Week1_challenge_data_source(CSV).csv', na_values = ['?', None])\n",
    "df.head()"
   ]
  },
  {
   "cell_type": "code",
   "execution_count": 119,
   "id": "4bfc6cc3",
   "metadata": {},
   "outputs": [
    {
     "data": {
      "text/plain": [
       "['Bearer Id',\n",
       " 'Start',\n",
       " 'Start ms',\n",
       " 'End',\n",
       " 'End ms',\n",
       " 'Dur. (ms)',\n",
       " 'IMSI',\n",
       " 'MSISDN/Number',\n",
       " 'IMEI',\n",
       " 'Last Location Name',\n",
       " 'Avg RTT DL (ms)',\n",
       " 'Avg RTT UL (ms)',\n",
       " 'Avg Bearer TP DL (kbps)',\n",
       " 'Avg Bearer TP UL (kbps)',\n",
       " 'TCP DL Retrans. Vol (Bytes)',\n",
       " 'TCP UL Retrans. Vol (Bytes)',\n",
       " 'DL TP < 50 Kbps (%)',\n",
       " '50 Kbps < DL TP < 250 Kbps (%)',\n",
       " '250 Kbps < DL TP < 1 Mbps (%)',\n",
       " 'DL TP > 1 Mbps (%)',\n",
       " 'UL TP < 10 Kbps (%)',\n",
       " '10 Kbps < UL TP < 50 Kbps (%)',\n",
       " '50 Kbps < UL TP < 300 Kbps (%)',\n",
       " 'UL TP > 300 Kbps (%)',\n",
       " 'HTTP DL (Bytes)',\n",
       " 'HTTP UL (Bytes)',\n",
       " 'Activity Duration DL (ms)',\n",
       " 'Activity Duration UL (ms)',\n",
       " 'Dur. (ms).1',\n",
       " 'Handset Manufacturer',\n",
       " 'Handset Type',\n",
       " 'Nb of sec with 125000B < Vol DL',\n",
       " 'Nb of sec with 1250B < Vol UL < 6250B',\n",
       " 'Nb of sec with 31250B < Vol DL < 125000B',\n",
       " 'Nb of sec with 37500B < Vol UL',\n",
       " 'Nb of sec with 6250B < Vol DL < 31250B',\n",
       " 'Nb of sec with 6250B < Vol UL < 37500B',\n",
       " 'Nb of sec with Vol DL < 6250B',\n",
       " 'Nb of sec with Vol UL < 1250B',\n",
       " 'Social Media DL (Bytes)',\n",
       " 'Social Media UL (Bytes)',\n",
       " 'Google DL (Bytes)',\n",
       " 'Google UL (Bytes)',\n",
       " 'Email DL (Bytes)',\n",
       " 'Email UL (Bytes)',\n",
       " 'Youtube DL (Bytes)',\n",
       " 'Youtube UL (Bytes)',\n",
       " 'Netflix DL (Bytes)',\n",
       " 'Netflix UL (Bytes)',\n",
       " 'Gaming DL (Bytes)',\n",
       " 'Gaming UL (Bytes)',\n",
       " 'Other DL (Bytes)',\n",
       " 'Other UL (Bytes)',\n",
       " 'Total UL (Bytes)',\n",
       " 'Total DL (Bytes)']"
      ]
     },
     "execution_count": 119,
     "metadata": {},
     "output_type": "execute_result"
    }
   ],
   "source": [
    "# column names\n",
    "df.columns.tolist()"
   ]
  },
  {
   "cell_type": "code",
   "execution_count": 120,
   "id": "6e2d80a3",
   "metadata": {},
   "outputs": [
    {
     "name": "stdout",
     "output_type": "stream",
     "text": [
      " There are 150001 rows and 55 columns\n"
     ]
    }
   ],
   "source": [
    "# number of data points\n",
    "print(f\" There are {db.shape[0]} rows and {db.shape[1]} columns\")"
   ]
  },
  {
   "cell_type": "markdown",
   "id": "4aa0773a",
   "metadata": {},
   "source": [
    "Details of our Data"
   ]
  },
  {
   "cell_type": "code",
   "execution_count": 121,
   "id": "e818cd44",
   "metadata": {},
   "outputs": [
    {
     "name": "stdout",
     "output_type": "stream",
     "text": [
      "<class 'pandas.core.frame.DataFrame'>\n",
      "RangeIndex: 150001 entries, 0 to 150000\n",
      "Data columns (total 55 columns):\n",
      " #   Column                                    Non-Null Count   Dtype  \n",
      "---  ------                                    --------------   -----  \n",
      " 0   Bearer Id                                 149010 non-null  float64\n",
      " 1   Start                                     150000 non-null  object \n",
      " 2   Start ms                                  150000 non-null  float64\n",
      " 3   End                                       150000 non-null  object \n",
      " 4   End ms                                    150000 non-null  float64\n",
      " 5   Dur. (ms)                                 150000 non-null  float64\n",
      " 6   IMSI                                      149431 non-null  float64\n",
      " 7   MSISDN/Number                             148935 non-null  float64\n",
      " 8   IMEI                                      149429 non-null  float64\n",
      " 9   Last Location Name                        148848 non-null  object \n",
      " 10  Avg RTT DL (ms)                           122172 non-null  float64\n",
      " 11  Avg RTT UL (ms)                           122189 non-null  float64\n",
      " 12  Avg Bearer TP DL (kbps)                   150000 non-null  float64\n",
      " 13  Avg Bearer TP UL (kbps)                   150000 non-null  float64\n",
      " 14  TCP DL Retrans. Vol (Bytes)               61855 non-null   float64\n",
      " 15  TCP UL Retrans. Vol (Bytes)               53352 non-null   float64\n",
      " 16  DL TP < 50 Kbps (%)                       149247 non-null  float64\n",
      " 17  50 Kbps < DL TP < 250 Kbps (%)            149247 non-null  float64\n",
      " 18  250 Kbps < DL TP < 1 Mbps (%)             149247 non-null  float64\n",
      " 19  DL TP > 1 Mbps (%)                        149247 non-null  float64\n",
      " 20  UL TP < 10 Kbps (%)                       149209 non-null  float64\n",
      " 21  10 Kbps < UL TP < 50 Kbps (%)             149209 non-null  float64\n",
      " 22  50 Kbps < UL TP < 300 Kbps (%)            149209 non-null  float64\n",
      " 23  UL TP > 300 Kbps (%)                      149209 non-null  float64\n",
      " 24  HTTP DL (Bytes)                           68527 non-null   float64\n",
      " 25  HTTP UL (Bytes)                           68191 non-null   float64\n",
      " 26  Activity Duration DL (ms)                 150000 non-null  float64\n",
      " 27  Activity Duration UL (ms)                 150000 non-null  float64\n",
      " 28  Dur. (ms).1                               150000 non-null  float64\n",
      " 29  Handset Manufacturer                      149429 non-null  object \n",
      " 30  Handset Type                              149429 non-null  object \n",
      " 31  Nb of sec with 125000B < Vol DL           52463 non-null   float64\n",
      " 32  Nb of sec with 1250B < Vol UL < 6250B     57107 non-null   float64\n",
      " 33  Nb of sec with 31250B < Vol DL < 125000B  56415 non-null   float64\n",
      " 34  Nb of sec with 37500B < Vol UL            19747 non-null   float64\n",
      " 35  Nb of sec with 6250B < Vol DL < 31250B    61684 non-null   float64\n",
      " 36  Nb of sec with 6250B < Vol UL < 37500B    38158 non-null   float64\n",
      " 37  Nb of sec with Vol DL < 6250B             149246 non-null  float64\n",
      " 38  Nb of sec with Vol UL < 1250B             149208 non-null  float64\n",
      " 39  Social Media DL (Bytes)                   150001 non-null  float64\n",
      " 40  Social Media UL (Bytes)                   150001 non-null  float64\n",
      " 41  Google DL (Bytes)                         150001 non-null  float64\n",
      " 42  Google UL (Bytes)                         150001 non-null  float64\n",
      " 43  Email DL (Bytes)                          150001 non-null  float64\n",
      " 44  Email UL (Bytes)                          150001 non-null  float64\n",
      " 45  Youtube DL (Bytes)                        150001 non-null  float64\n",
      " 46  Youtube UL (Bytes)                        150001 non-null  float64\n",
      " 47  Netflix DL (Bytes)                        150001 non-null  float64\n",
      " 48  Netflix UL (Bytes)                        150001 non-null  float64\n",
      " 49  Gaming DL (Bytes)                         150001 non-null  float64\n",
      " 50  Gaming UL (Bytes)                         150001 non-null  float64\n",
      " 51  Other DL (Bytes)                          150001 non-null  float64\n",
      " 52  Other UL (Bytes)                          150001 non-null  float64\n",
      " 53  Total UL (Bytes)                          150000 non-null  float64\n",
      " 54  Total DL (Bytes)                          150000 non-null  float64\n",
      "dtypes: float64(50), object(5)\n",
      "memory usage: 62.9+ MB\n"
     ]
    }
   ],
   "source": [
    "df.info()"
   ]
  },
  {
   "cell_type": "code",
   "execution_count": 122,
   "id": "3081889e",
   "metadata": {},
   "outputs": [
    {
     "data": {
      "text/plain": [
       "Bearer Id                                   149010\n",
       "Start                                       150000\n",
       "Start ms                                    150000\n",
       "End                                         150000\n",
       "End ms                                      150000\n",
       "Dur. (ms)                                   150000\n",
       "IMSI                                        149431\n",
       "MSISDN/Number                               148935\n",
       "IMEI                                        149429\n",
       "Last Location Name                          148848\n",
       "Avg RTT DL (ms)                             122172\n",
       "Avg RTT UL (ms)                             122189\n",
       "Avg Bearer TP DL (kbps)                     150000\n",
       "Avg Bearer TP UL (kbps)                     150000\n",
       "TCP DL Retrans. Vol (Bytes)                  61855\n",
       "TCP UL Retrans. Vol (Bytes)                  53352\n",
       "DL TP < 50 Kbps (%)                         149247\n",
       "50 Kbps < DL TP < 250 Kbps (%)              149247\n",
       "250 Kbps < DL TP < 1 Mbps (%)               149247\n",
       "DL TP > 1 Mbps (%)                          149247\n",
       "UL TP < 10 Kbps (%)                         149209\n",
       "10 Kbps < UL TP < 50 Kbps (%)               149209\n",
       "50 Kbps < UL TP < 300 Kbps (%)              149209\n",
       "UL TP > 300 Kbps (%)                        149209\n",
       "HTTP DL (Bytes)                              68527\n",
       "HTTP UL (Bytes)                              68191\n",
       "Activity Duration DL (ms)                   150000\n",
       "Activity Duration UL (ms)                   150000\n",
       "Dur. (ms).1                                 150000\n",
       "Handset Manufacturer                        149429\n",
       "Handset Type                                149429\n",
       "Nb of sec with 125000B < Vol DL              52463\n",
       "Nb of sec with 1250B < Vol UL < 6250B        57107\n",
       "Nb of sec with 31250B < Vol DL < 125000B     56415\n",
       "Nb of sec with 37500B < Vol UL               19747\n",
       "Nb of sec with 6250B < Vol DL < 31250B       61684\n",
       "Nb of sec with 6250B < Vol UL < 37500B       38158\n",
       "Nb of sec with Vol DL < 6250B               149246\n",
       "Nb of sec with Vol UL < 1250B               149208\n",
       "Social Media DL (Bytes)                     150001\n",
       "Social Media UL (Bytes)                     150001\n",
       "Google DL (Bytes)                           150001\n",
       "Google UL (Bytes)                           150001\n",
       "Email DL (Bytes)                            150001\n",
       "Email UL (Bytes)                            150001\n",
       "Youtube DL (Bytes)                          150001\n",
       "Youtube UL (Bytes)                          150001\n",
       "Netflix DL (Bytes)                          150001\n",
       "Netflix UL (Bytes)                          150001\n",
       "Gaming DL (Bytes)                           150001\n",
       "Gaming UL (Bytes)                           150001\n",
       "Other DL (Bytes)                            150001\n",
       "Other UL (Bytes)                            150001\n",
       "Total UL (Bytes)                            150000\n",
       "Total DL (Bytes)                            150000\n",
       "dtype: int64"
      ]
     },
     "execution_count": 122,
     "metadata": {},
     "output_type": "execute_result"
    }
   ],
   "source": [
    "df.count()"
   ]
  },
  {
   "cell_type": "markdown",
   "id": "8def4f2c",
   "metadata": {},
   "source": [
    "### Null Percentage"
   ]
  },
  {
   "cell_type": "code",
   "execution_count": 123,
   "id": "9bec8a93",
   "metadata": {},
   "outputs": [
    {
     "data": {
      "text/plain": [
       "'Data Fraame contain null values of 12.5%'"
      ]
     },
     "execution_count": 123,
     "metadata": {},
     "output_type": "execute_result"
    }
   ],
   "source": [
    "def null_percentage(df):\n",
    "    number_of_rows, number_of_columns = df.shape\n",
    "    df_size = number_of_rows * number_of_columns\n",
    "    \n",
    "    null_size = (df.isnull().sum()).sum()\n",
    "    percentage = round((null_size / df_size) * 100, 2)\n",
    "    return f\"Data Fraame contain null values of { percentage }%\"\n",
    "null_percentage(df)"
   ]
  },
  {
   "cell_type": "code",
   "execution_count": 124,
   "id": "0850273b",
   "metadata": {},
   "outputs": [
    {
     "name": "stdout",
     "output_type": "stream",
     "text": [
      "Bearer Id                                      991\n",
      "Start                                            1\n",
      "Start ms                                         1\n",
      "End                                              1\n",
      "End ms                                           1\n",
      "Dur. (ms)                                        1\n",
      "IMSI                                           570\n",
      "MSISDN/Number                                 1066\n",
      "IMEI                                           572\n",
      "Last Location Name                            1153\n",
      "Avg RTT DL (ms)                              27829\n",
      "Avg RTT UL (ms)                              27812\n",
      "Avg Bearer TP DL (kbps)                          1\n",
      "Avg Bearer TP UL (kbps)                          1\n",
      "TCP DL Retrans. Vol (Bytes)                  88146\n",
      "TCP UL Retrans. Vol (Bytes)                  96649\n",
      "DL TP < 50 Kbps (%)                            754\n",
      "50 Kbps < DL TP < 250 Kbps (%)                 754\n",
      "250 Kbps < DL TP < 1 Mbps (%)                  754\n",
      "DL TP > 1 Mbps (%)                             754\n",
      "UL TP < 10 Kbps (%)                            792\n",
      "10 Kbps < UL TP < 50 Kbps (%)                  792\n",
      "50 Kbps < UL TP < 300 Kbps (%)                 792\n",
      "UL TP > 300 Kbps (%)                           792\n",
      "HTTP DL (Bytes)                              81474\n",
      "HTTP UL (Bytes)                              81810\n",
      "Activity Duration DL (ms)                        1\n",
      "Activity Duration UL (ms)                        1\n",
      "Dur. (ms).1                                      1\n",
      "Handset Manufacturer                           572\n",
      "Handset Type                                   572\n",
      "Nb of sec with 125000B < Vol DL              97538\n",
      "Nb of sec with 1250B < Vol UL < 6250B        92894\n",
      "Nb of sec with 31250B < Vol DL < 125000B     93586\n",
      "Nb of sec with 37500B < Vol UL              130254\n",
      "Nb of sec with 6250B < Vol DL < 31250B       88317\n",
      "Nb of sec with 6250B < Vol UL < 37500B      111843\n",
      "Nb of sec with Vol DL < 6250B                  755\n",
      "Nb of sec with Vol UL < 1250B                  793\n",
      "Social Media DL (Bytes)                          0\n",
      "Social Media UL (Bytes)                          0\n",
      "Google DL (Bytes)                                0\n",
      "Google UL (Bytes)                                0\n",
      "Email DL (Bytes)                                 0\n",
      "Email UL (Bytes)                                 0\n",
      "Youtube DL (Bytes)                               0\n",
      "Youtube UL (Bytes)                               0\n",
      "Netflix DL (Bytes)                               0\n",
      "Netflix UL (Bytes)                               0\n",
      "Gaming DL (Bytes)                                0\n",
      "Gaming UL (Bytes)                                0\n",
      "Other DL (Bytes)                                 0\n",
      "Other UL (Bytes)                                 0\n",
      "Total UL (Bytes)                                 1\n",
      "Total DL (Bytes)                                 1\n",
      "dtype: int64\n"
     ]
    }
   ],
   "source": [
    "'''\n",
    "Display Null Counts of each column\n",
    "'''\n",
    "print(df.isnull().sum())"
   ]
  },
  {
   "cell_type": "markdown",
   "id": "0e1e85e6",
   "metadata": {},
   "source": [
    "#### Skewness"
   ]
  },
  {
   "cell_type": "code",
   "execution_count": 125,
   "id": "34a60cc4",
   "metadata": {},
   "outputs": [
    {
     "name": "stderr",
     "output_type": "stream",
     "text": [
      "C:\\Users\\user\\AppData\\Local\\Temp\\ipykernel_10256\\3531980633.py:9: FutureWarning: Dropping of nuisance columns in DataFrame reductions (with 'numeric_only=None') is deprecated; in a future version this will raise TypeError.  Select only valid columns before calling the reduction.\n",
      "  df.skew(axis=0)\n"
     ]
    },
    {
     "data": {
      "text/plain": [
       "Bearer Id                                    0.03\n",
       "Start ms                                     0.00\n",
       "End ms                                      -0.00\n",
       "Dur. (ms)                                    3.95\n",
       "IMSI                                        41.05\n",
       "MSISDN/Number                              332.16\n",
       "IMEI                                         1.07\n",
       "Avg RTT DL (ms)                             62.91\n",
       "Avg RTT UL (ms)                             28.46\n",
       "Avg Bearer TP DL (kbps)                      2.59\n",
       "Avg Bearer TP UL (kbps)                      4.50\n",
       "TCP DL Retrans. Vol (Bytes)                 15.95\n",
       "TCP UL Retrans. Vol (Bytes)                 84.11\n",
       "DL TP < 50 Kbps (%)                         -2.30\n",
       "50 Kbps < DL TP < 250 Kbps (%)               3.27\n",
       "250 Kbps < DL TP < 1 Mbps (%)                4.57\n",
       "DL TP > 1 Mbps (%)                           5.37\n",
       "UL TP < 10 Kbps (%)                         -8.99\n",
       "10 Kbps < UL TP < 50 Kbps (%)               10.94\n",
       "50 Kbps < UL TP < 300 Kbps (%)              21.88\n",
       "UL TP > 300 Kbps (%)                        36.17\n",
       "HTTP DL (Bytes)                             38.94\n",
       "HTTP UL (Bytes)                             32.47\n",
       "Activity Duration DL (ms)                    5.87\n",
       "Activity Duration UL (ms)                    7.38\n",
       "Dur. (ms).1                                  3.95\n",
       "Nb of sec with 125000B < Vol DL              6.59\n",
       "Nb of sec with 1250B < Vol UL < 6250B       22.04\n",
       "Nb of sec with 31250B < Vol DL < 125000B     6.61\n",
       "Nb of sec with 37500B < Vol UL              21.56\n",
       "Nb of sec with 6250B < Vol DL < 31250B       6.90\n",
       "Nb of sec with 6250B < Vol UL < 37500B      19.64\n",
       "Nb of sec with Vol DL < 6250B                9.04\n",
       "Nb of sec with Vol UL < 1250B                7.50\n",
       "Social Media DL (Bytes)                     -0.00\n",
       "Social Media UL (Bytes)                     -0.00\n",
       "Google DL (Bytes)                           -0.01\n",
       "Google UL (Bytes)                            0.00\n",
       "Email DL (Bytes)                            -0.00\n",
       "Email UL (Bytes)                             0.01\n",
       "Youtube DL (Bytes)                           0.00\n",
       "Youtube UL (Bytes)                          -0.00\n",
       "Netflix DL (Bytes)                          -0.00\n",
       "Netflix UL (Bytes)                          -0.00\n",
       "Gaming DL (Bytes)                           -0.00\n",
       "Gaming UL (Bytes)                           -0.00\n",
       "Other DL (Bytes)                             0.00\n",
       "Other UL (Bytes)                             0.00\n",
       "Total UL (Bytes)                            -0.00\n",
       "Total DL (Bytes)                            -0.00\n",
       "dtype: float64"
      ]
     },
     "execution_count": 125,
     "metadata": {},
     "output_type": "execute_result"
    }
   ],
   "source": [
    "# skewness\n",
    "'''\n",
    "    Display The skew value of each column.\n",
    "    skewness b/n -0.5 - 0.5 : good\n",
    "    skewness b/n -1 - -0.5  : negative skew\n",
    "    skewness b/n 0.5 - 1    : positive skew\n",
    "    other values: are highly skewed\n",
    "    '''\n",
    "df.skew(axis=0)"
   ]
  },
  {
   "cell_type": "code",
   "execution_count": 129,
   "id": "bf8fe7f6",
   "metadata": {},
   "outputs": [
    {
     "name": "stdout",
     "output_type": "stream",
     "text": [
      "['TCP DL Retrans. Vol (Bytes)', 'TCP UL Retrans. Vol (Bytes)', 'HTTP DL (Bytes)', 'HTTP UL (Bytes)', 'Nb of sec with 125000B < Vol DL', 'Nb of sec with 1250B < Vol UL < 6250B', 'Nb of sec with 31250B < Vol DL < 125000B', 'Nb of sec with 37500B < Vol UL', 'Nb of sec with 6250B < Vol DL < 31250B', 'Nb of sec with 6250B < Vol UL < 37500B']\n"
     ]
    }
   ],
   "source": [
    "# this helps us to Calculate columns with more than 50 % null value\n",
    "def drop_insignificant_columns(df):\n",
    "    size = df.shape[0]\n",
    "    col = df.columns\n",
    "    insgnifican_column = []\n",
    "    for column in col:\n",
    "        col_value_null = df[column].isnull().sum()\n",
    "        percent = round( (col_value_null / size) * 100 , 2)\n",
    "        if(percent > 30):\n",
    "            insgnifican_column.append(column)\n",
    "            \n",
    "        df = df.drop(insgnifican_column, axis=1)\n",
    "        \n",
    "    return df\n",
    "print(insgnifican_column)"
   ]
  },
  {
   "cell_type": "code",
   "execution_count": 130,
   "id": "12c26881",
   "metadata": {},
   "outputs": [
    {
     "name": "stdout",
     "output_type": "stream",
     "text": [
      "10  columns with missing values grater than 30 %.\n"
     ]
    }
   ],
   "source": [
    "print(len(insgnifican_column), \" columns with missing values grater than 30 %.\")"
   ]
  },
  {
   "cell_type": "code",
   "execution_count": 131,
   "id": "fdbc8ba3",
   "metadata": {},
   "outputs": [
    {
     "data": {
      "text/plain": [
       "(150001, 55)"
      ]
     },
     "execution_count": 131,
     "metadata": {},
     "output_type": "execute_result"
    }
   ],
   "source": [
    "df.shape"
   ]
  },
  {
   "cell_type": "markdown",
   "id": "f0c3017c",
   "metadata": {},
   "source": [
    "##### Cleaning"
   ]
  },
  {
   "cell_type": "code",
   "execution_count": 133,
   "id": "fa07f571",
   "metadata": {},
   "outputs": [],
   "source": [
    "# droping columns\n",
    "def drop_insignificant_columns(df):\n",
    "    size_df = df.shape[0]\n",
    "    col_list = df.columns\n",
    "    insgnifican_col = []\n",
    "    for column in col_list:\n",
    "        col_value_null = df[column].isnull().sum()\n",
    "        percent = round( (col_value_null / size_df) * 100 , 2)\n",
    "        if(percent > 50):\n",
    "            #print(\"hello\")\n",
    "            insgnifican_col.append(column)\n",
    "        #insgnifican_column.append('Dur. (ms)')\n",
    "    df = df.drop(insgnifican_col, axis=1)\n",
    "    return df"
   ]
  },
  {
   "cell_type": "code",
   "execution_count": 134,
   "id": "949d9e12",
   "metadata": {},
   "outputs": [],
   "source": [
    "df = drop_insignificant_columns(df)"
   ]
  },
  {
   "cell_type": "code",
   "execution_count": 135,
   "id": "348ca37e",
   "metadata": {},
   "outputs": [
    {
     "data": {
      "text/plain": [
       "(150001, 45)"
      ]
     },
     "execution_count": 135,
     "metadata": {},
     "output_type": "execute_result"
    }
   ],
   "source": [
    "df.shape"
   ]
  },
  {
   "cell_type": "code",
   "execution_count": 136,
   "id": "ab2ccc49",
   "metadata": {},
   "outputs": [
    {
     "name": "stdout",
     "output_type": "stream",
     "text": [
      "<class 'pandas.core.frame.DataFrame'>\n",
      "RangeIndex: 150001 entries, 0 to 150000\n",
      "Data columns (total 45 columns):\n",
      " #   Column                          Non-Null Count   Dtype  \n",
      "---  ------                          --------------   -----  \n",
      " 0   Bearer Id                       149010 non-null  float64\n",
      " 1   Start                           150000 non-null  object \n",
      " 2   Start ms                        150000 non-null  float64\n",
      " 3   End                             150000 non-null  object \n",
      " 4   End ms                          150000 non-null  float64\n",
      " 5   Dur. (ms)                       150000 non-null  float64\n",
      " 6   IMSI                            149431 non-null  float64\n",
      " 7   MSISDN/Number                   148935 non-null  float64\n",
      " 8   IMEI                            149429 non-null  float64\n",
      " 9   Last Location Name              148848 non-null  object \n",
      " 10  Avg RTT DL (ms)                 122172 non-null  float64\n",
      " 11  Avg RTT UL (ms)                 122189 non-null  float64\n",
      " 12  Avg Bearer TP DL (kbps)         150000 non-null  float64\n",
      " 13  Avg Bearer TP UL (kbps)         150000 non-null  float64\n",
      " 14  DL TP < 50 Kbps (%)             149247 non-null  float64\n",
      " 15  50 Kbps < DL TP < 250 Kbps (%)  149247 non-null  float64\n",
      " 16  250 Kbps < DL TP < 1 Mbps (%)   149247 non-null  float64\n",
      " 17  DL TP > 1 Mbps (%)              149247 non-null  float64\n",
      " 18  UL TP < 10 Kbps (%)             149209 non-null  float64\n",
      " 19  10 Kbps < UL TP < 50 Kbps (%)   149209 non-null  float64\n",
      " 20  50 Kbps < UL TP < 300 Kbps (%)  149209 non-null  float64\n",
      " 21  UL TP > 300 Kbps (%)            149209 non-null  float64\n",
      " 22  Activity Duration DL (ms)       150000 non-null  float64\n",
      " 23  Activity Duration UL (ms)       150000 non-null  float64\n",
      " 24  Dur. (ms).1                     150000 non-null  float64\n",
      " 25  Handset Manufacturer            149429 non-null  object \n",
      " 26  Handset Type                    149429 non-null  object \n",
      " 27  Nb of sec with Vol DL < 6250B   149246 non-null  float64\n",
      " 28  Nb of sec with Vol UL < 1250B   149208 non-null  float64\n",
      " 29  Social Media DL (Bytes)         150001 non-null  float64\n",
      " 30  Social Media UL (Bytes)         150001 non-null  float64\n",
      " 31  Google DL (Bytes)               150001 non-null  float64\n",
      " 32  Google UL (Bytes)               150001 non-null  float64\n",
      " 33  Email DL (Bytes)                150001 non-null  float64\n",
      " 34  Email UL (Bytes)                150001 non-null  float64\n",
      " 35  Youtube DL (Bytes)              150001 non-null  float64\n",
      " 36  Youtube UL (Bytes)              150001 non-null  float64\n",
      " 37  Netflix DL (Bytes)              150001 non-null  float64\n",
      " 38  Netflix UL (Bytes)              150001 non-null  float64\n",
      " 39  Gaming DL (Bytes)               150001 non-null  float64\n",
      " 40  Gaming UL (Bytes)               150001 non-null  float64\n",
      " 41  Other DL (Bytes)                150001 non-null  float64\n",
      " 42  Other UL (Bytes)                150001 non-null  float64\n",
      " 43  Total UL (Bytes)                150000 non-null  float64\n",
      " 44  Total DL (Bytes)                150000 non-null  float64\n",
      "dtypes: float64(40), object(5)\n",
      "memory usage: 51.5+ MB\n"
     ]
    }
   ],
   "source": [
    "df.info()"
   ]
  },
  {
   "cell_type": "markdown",
   "id": "8287e680",
   "metadata": {},
   "source": [
    "#### Handling Missing Value"
   ]
  },
  {
   "cell_type": "code",
   "execution_count": 137,
   "id": "0c744db1",
   "metadata": {},
   "outputs": [],
   "source": [
    "#handling missing value of objet columns\n",
    "column = ['Start', 'End', 'Last Location Name', 'Handset Manufacturer', 'Handset Type']\n",
    "for col in column:\n",
    "    mode = df[col].mode()[0]\n",
    "    df[col] = df[col].fillna(mode)"
   ]
  },
  {
   "cell_type": "code",
   "execution_count": 106,
   "id": "17c83827",
   "metadata": {},
   "outputs": [],
   "source": [
    "#df.fillna(df.mean(), inplace = True)"
   ]
  },
  {
   "cell_type": "code",
   "execution_count": 138,
   "id": "45947559",
   "metadata": {},
   "outputs": [
    {
     "name": "stderr",
     "output_type": "stream",
     "text": [
      "C:\\Users\\user\\AppData\\Local\\Temp\\ipykernel_10256\\684057553.py:2: FutureWarning: Dropping of nuisance columns in DataFrame reductions (with 'numeric_only=None') is deprecated; in a future version this will raise TypeError.  Select only valid columns before calling the reduction.\n",
      "  df = df.fillna(df.median())\n"
     ]
    }
   ],
   "source": [
    "#handling missing value of numeric columns\n",
    "df = df.fillna(df.median())"
   ]
  },
  {
   "cell_type": "code",
   "execution_count": 139,
   "id": "bba4a018",
   "metadata": {},
   "outputs": [
    {
     "data": {
      "text/plain": [
       "'Data Fraame contain null values of 0.0%'"
      ]
     },
     "execution_count": 139,
     "metadata": {},
     "output_type": "execute_result"
    }
   ],
   "source": [
    "#checking null values\n",
    "def null_percentage(df):\n",
    "    number_of_rows, number_of_columns = df.shape\n",
    "    df_size = number_of_rows * number_of_columns\n",
    "    \n",
    "    null_size = (df.isnull().sum()).sum()\n",
    "    percentage = round((null_size / df_size) * 100, 2)\n",
    "    return f\"Data Fraame contain null values of { percentage }%\"\n",
    "null_percentage(df)"
   ]
  },
  {
   "cell_type": "code",
   "execution_count": 140,
   "id": "c6c90bd4",
   "metadata": {},
   "outputs": [
    {
     "data": {
      "text/html": [
       "<div>\n",
       "<style scoped>\n",
       "    .dataframe tbody tr th:only-of-type {\n",
       "        vertical-align: middle;\n",
       "    }\n",
       "\n",
       "    .dataframe tbody tr th {\n",
       "        vertical-align: top;\n",
       "    }\n",
       "\n",
       "    .dataframe thead th {\n",
       "        text-align: right;\n",
       "    }\n",
       "</style>\n",
       "<table border=\"1\" class=\"dataframe\">\n",
       "  <thead>\n",
       "    <tr style=\"text-align: right;\">\n",
       "      <th></th>\n",
       "      <th>Bearer Id</th>\n",
       "      <th>Start</th>\n",
       "      <th>Start ms</th>\n",
       "      <th>End</th>\n",
       "      <th>End ms</th>\n",
       "      <th>Dur. (ms)</th>\n",
       "      <th>IMSI</th>\n",
       "      <th>MSISDN/Number</th>\n",
       "      <th>IMEI</th>\n",
       "      <th>Last Location Name</th>\n",
       "      <th>...</th>\n",
       "      <th>Youtube DL (Bytes)</th>\n",
       "      <th>Youtube UL (Bytes)</th>\n",
       "      <th>Netflix DL (Bytes)</th>\n",
       "      <th>Netflix UL (Bytes)</th>\n",
       "      <th>Gaming DL (Bytes)</th>\n",
       "      <th>Gaming UL (Bytes)</th>\n",
       "      <th>Other DL (Bytes)</th>\n",
       "      <th>Other UL (Bytes)</th>\n",
       "      <th>Total UL (Bytes)</th>\n",
       "      <th>Total DL (Bytes)</th>\n",
       "    </tr>\n",
       "  </thead>\n",
       "  <tbody>\n",
       "    <tr>\n",
       "      <th>0</th>\n",
       "      <td>1.31144834608449e+19</td>\n",
       "      <td>2019-04-04 12:01:00</td>\n",
       "      <td>770.00</td>\n",
       "      <td>2019-04-25 14:35:00</td>\n",
       "      <td>662.00</td>\n",
       "      <td>1,823,652.00</td>\n",
       "      <td>208201448079117</td>\n",
       "      <td>33664962239</td>\n",
       "      <td>35521209507511</td>\n",
       "      <td>9.16456699548519E+015</td>\n",
       "      <td>...</td>\n",
       "      <td>15,854,611.00</td>\n",
       "      <td>2,501,332.00</td>\n",
       "      <td>8,198,936.00</td>\n",
       "      <td>9,656,251.00</td>\n",
       "      <td>278,082,303.00</td>\n",
       "      <td>14,344,150.00</td>\n",
       "      <td>171,744,450.00</td>\n",
       "      <td>8,814,393.00</td>\n",
       "      <td>36,749,741.00</td>\n",
       "      <td>308,879,636.00</td>\n",
       "    </tr>\n",
       "    <tr>\n",
       "      <th>1</th>\n",
       "      <td>1.31144834828789e+19</td>\n",
       "      <td>2019-04-09 13:04:00</td>\n",
       "      <td>235.00</td>\n",
       "      <td>2019-04-25 08:15:00</td>\n",
       "      <td>606.00</td>\n",
       "      <td>1,365,104.00</td>\n",
       "      <td>208201909211140</td>\n",
       "      <td>33681854413</td>\n",
       "      <td>35794009006359</td>\n",
       "      <td>L77566A</td>\n",
       "      <td>...</td>\n",
       "      <td>20,247,395.00</td>\n",
       "      <td>19,111,729.00</td>\n",
       "      <td>18,338,413.00</td>\n",
       "      <td>17,227,132.00</td>\n",
       "      <td>608,750,074.00</td>\n",
       "      <td>1,170,709.00</td>\n",
       "      <td>526,904,238.00</td>\n",
       "      <td>15,055,145.00</td>\n",
       "      <td>53,800,391.00</td>\n",
       "      <td>653,384,965.00</td>\n",
       "    </tr>\n",
       "    <tr>\n",
       "      <th>2</th>\n",
       "      <td>1.31144834840805e+19</td>\n",
       "      <td>2019-04-09 17:42:00</td>\n",
       "      <td>1.00</td>\n",
       "      <td>2019-04-25 11:58:00</td>\n",
       "      <td>652.00</td>\n",
       "      <td>1,361,762.00</td>\n",
       "      <td>208200314458056</td>\n",
       "      <td>33760627129</td>\n",
       "      <td>35281510359387</td>\n",
       "      <td>D42335A</td>\n",
       "      <td>...</td>\n",
       "      <td>19,725,661.00</td>\n",
       "      <td>14,699,576.00</td>\n",
       "      <td>17,587,794.00</td>\n",
       "      <td>6,163,408.00</td>\n",
       "      <td>229,584,621.00</td>\n",
       "      <td>395,630.00</td>\n",
       "      <td>410,692,588.00</td>\n",
       "      <td>4,215,763.00</td>\n",
       "      <td>27,883,638.00</td>\n",
       "      <td>279,807,335.00</td>\n",
       "    </tr>\n",
       "    <tr>\n",
       "      <th>3</th>\n",
       "      <td>1.31144834854428e+19</td>\n",
       "      <td>2019-04-10 00:31:00</td>\n",
       "      <td>486.00</td>\n",
       "      <td>2019-04-25 07:36:00</td>\n",
       "      <td>171.00</td>\n",
       "      <td>1,321,509.00</td>\n",
       "      <td>208201402342131</td>\n",
       "      <td>33750343200</td>\n",
       "      <td>35356610164913</td>\n",
       "      <td>T21824A</td>\n",
       "      <td>...</td>\n",
       "      <td>21,388,122.00</td>\n",
       "      <td>15,146,643.00</td>\n",
       "      <td>13,994,646.00</td>\n",
       "      <td>1,097,942.00</td>\n",
       "      <td>799,538,153.00</td>\n",
       "      <td>10,849,722.00</td>\n",
       "      <td>749,039,933.00</td>\n",
       "      <td>12,797,283.00</td>\n",
       "      <td>43,324,218.00</td>\n",
       "      <td>846,028,530.00</td>\n",
       "    </tr>\n",
       "    <tr>\n",
       "      <th>4</th>\n",
       "      <td>1.31144834994807e+19</td>\n",
       "      <td>2019-04-12 20:10:00</td>\n",
       "      <td>565.00</td>\n",
       "      <td>2019-04-25 10:40:00</td>\n",
       "      <td>954.00</td>\n",
       "      <td>1,089,009.00</td>\n",
       "      <td>208201401415120</td>\n",
       "      <td>33699795932</td>\n",
       "      <td>35407009745539</td>\n",
       "      <td>D88865A</td>\n",
       "      <td>...</td>\n",
       "      <td>15,259,380.00</td>\n",
       "      <td>18,962,873.00</td>\n",
       "      <td>17,124,581.00</td>\n",
       "      <td>415,218.00</td>\n",
       "      <td>527,707,248.00</td>\n",
       "      <td>3,529,801.00</td>\n",
       "      <td>550,709,500.00</td>\n",
       "      <td>13,910,322.00</td>\n",
       "      <td>38,542,814.00</td>\n",
       "      <td>569,138,589.00</td>\n",
       "    </tr>\n",
       "  </tbody>\n",
       "</table>\n",
       "<p>5 rows × 45 columns</p>\n",
       "</div>"
      ],
      "text/plain": [
       "              Bearer Id               Start  Start ms                 End  \\\n",
       "0  1.31144834608449e+19 2019-04-04 12:01:00    770.00 2019-04-25 14:35:00   \n",
       "1  1.31144834828789e+19 2019-04-09 13:04:00    235.00 2019-04-25 08:15:00   \n",
       "2  1.31144834840805e+19 2019-04-09 17:42:00      1.00 2019-04-25 11:58:00   \n",
       "3  1.31144834854428e+19 2019-04-10 00:31:00    486.00 2019-04-25 07:36:00   \n",
       "4  1.31144834994807e+19 2019-04-12 20:10:00    565.00 2019-04-25 10:40:00   \n",
       "\n",
       "   End ms    Dur. (ms)             IMSI MSISDN/Number            IMEI  \\\n",
       "0  662.00 1,823,652.00  208201448079117   33664962239  35521209507511   \n",
       "1  606.00 1,365,104.00  208201909211140   33681854413  35794009006359   \n",
       "2  652.00 1,361,762.00  208200314458056   33760627129  35281510359387   \n",
       "3  171.00 1,321,509.00  208201402342131   33750343200  35356610164913   \n",
       "4  954.00 1,089,009.00  208201401415120   33699795932  35407009745539   \n",
       "\n",
       "      Last Location Name  ...  Youtube DL (Bytes)  Youtube UL (Bytes)  \\\n",
       "0  9.16456699548519E+015  ...       15,854,611.00        2,501,332.00   \n",
       "1                L77566A  ...       20,247,395.00       19,111,729.00   \n",
       "2                D42335A  ...       19,725,661.00       14,699,576.00   \n",
       "3                T21824A  ...       21,388,122.00       15,146,643.00   \n",
       "4                D88865A  ...       15,259,380.00       18,962,873.00   \n",
       "\n",
       "   Netflix DL (Bytes)  Netflix UL (Bytes)  Gaming DL (Bytes)  \\\n",
       "0        8,198,936.00        9,656,251.00     278,082,303.00   \n",
       "1       18,338,413.00       17,227,132.00     608,750,074.00   \n",
       "2       17,587,794.00        6,163,408.00     229,584,621.00   \n",
       "3       13,994,646.00        1,097,942.00     799,538,153.00   \n",
       "4       17,124,581.00          415,218.00     527,707,248.00   \n",
       "\n",
       "   Gaming UL (Bytes)  Other DL (Bytes)  Other UL (Bytes)  Total UL (Bytes)  \\\n",
       "0      14,344,150.00    171,744,450.00      8,814,393.00     36,749,741.00   \n",
       "1       1,170,709.00    526,904,238.00     15,055,145.00     53,800,391.00   \n",
       "2         395,630.00    410,692,588.00      4,215,763.00     27,883,638.00   \n",
       "3      10,849,722.00    749,039,933.00     12,797,283.00     43,324,218.00   \n",
       "4       3,529,801.00    550,709,500.00     13,910,322.00     38,542,814.00   \n",
       "\n",
       "   Total DL (Bytes)  \n",
       "0    308,879,636.00  \n",
       "1    653,384,965.00  \n",
       "2    279,807,335.00  \n",
       "3    846,028,530.00  \n",
       "4    569,138,589.00  \n",
       "\n",
       "[5 rows x 45 columns]"
      ]
     },
     "execution_count": 140,
     "metadata": {},
     "output_type": "execute_result"
    }
   ],
   "source": [
    "# change data type and formats\n",
    "df['Bearer Id'] = df['Bearer Id'].astype('str')\n",
    "\n",
    "df['MSISDN/Number'] = df['MSISDN/Number'].apply(lambda x: '{:.0f}'.format(x)).astype('str')\n",
    "\n",
    "df['IMSI'] = df['IMSI'].apply(lambda x: '{:.0f}'.format(x)).astype('str')\n",
    "\n",
    "df['IMEI'] = df['IMEI'].apply(lambda x: '{:.0f}'.format(x)).astype('str')\n",
    "\n",
    "df['Start']=pd.to_datetime(df['Start'])\n",
    "df['End']=pd.to_datetime(df['End'])\n",
    "\n",
    "df['Handset Manufacturer'] = df['Handset Manufacturer'].astype('str')\n",
    "df['Last Location Name'] = df['Last Location Name'].astype('str')\n",
    "\n",
    "df.head()"
   ]
  },
  {
   "cell_type": "code",
   "execution_count": 141,
   "id": "51129177",
   "metadata": {},
   "outputs": [
    {
     "data": {
      "text/plain": [
       "Bearer Id                                 object\n",
       "Start                             datetime64[ns]\n",
       "Start ms                                 float64\n",
       "End                               datetime64[ns]\n",
       "End ms                                   float64\n",
       "Dur. (ms)                                float64\n",
       "IMSI                                      object\n",
       "MSISDN/Number                             object\n",
       "IMEI                                      object\n",
       "Last Location Name                        object\n",
       "Avg RTT DL (ms)                          float64\n",
       "Avg RTT UL (ms)                          float64\n",
       "Avg Bearer TP DL (kbps)                  float64\n",
       "Avg Bearer TP UL (kbps)                  float64\n",
       "DL TP < 50 Kbps (%)                      float64\n",
       "50 Kbps < DL TP < 250 Kbps (%)           float64\n",
       "250 Kbps < DL TP < 1 Mbps (%)            float64\n",
       "DL TP > 1 Mbps (%)                       float64\n",
       "UL TP < 10 Kbps (%)                      float64\n",
       "10 Kbps < UL TP < 50 Kbps (%)            float64\n",
       "50 Kbps < UL TP < 300 Kbps (%)           float64\n",
       "UL TP > 300 Kbps (%)                     float64\n",
       "Activity Duration DL (ms)                float64\n",
       "Activity Duration UL (ms)                float64\n",
       "Dur. (ms).1                              float64\n",
       "Handset Manufacturer                      object\n",
       "Handset Type                              object\n",
       "Nb of sec with Vol DL < 6250B            float64\n",
       "Nb of sec with Vol UL < 1250B            float64\n",
       "Social Media DL (Bytes)                  float64\n",
       "Social Media UL (Bytes)                  float64\n",
       "Google DL (Bytes)                        float64\n",
       "Google UL (Bytes)                        float64\n",
       "Email DL (Bytes)                         float64\n",
       "Email UL (Bytes)                         float64\n",
       "Youtube DL (Bytes)                       float64\n",
       "Youtube UL (Bytes)                       float64\n",
       "Netflix DL (Bytes)                       float64\n",
       "Netflix UL (Bytes)                       float64\n",
       "Gaming DL (Bytes)                        float64\n",
       "Gaming UL (Bytes)                        float64\n",
       "Other DL (Bytes)                         float64\n",
       "Other UL (Bytes)                         float64\n",
       "Total UL (Bytes)                         float64\n",
       "Total DL (Bytes)                         float64\n",
       "dtype: object"
      ]
     },
     "execution_count": 141,
     "metadata": {},
     "output_type": "execute_result"
    }
   ],
   "source": [
    "df.dtypes"
   ]
  },
  {
   "cell_type": "code",
   "execution_count": 145,
   "id": "50144e29",
   "metadata": {},
   "outputs": [
    {
     "name": "stdout",
     "output_type": "stream",
     "text": [
      "Data Frame cleaned and Saved  Succesfully!\n"
     ]
    }
   ],
   "source": [
    "# saving the file \n",
    "df.to_csv('../data/cleaned_data.csv', index = False)\n",
    "#df.to_csv('../C:/Users/user/Desktop/10Academy/Week-1/task-1/cleaned_data.csv', index = False)\n",
    "print(\"Data Frame cleaned and Saved  Succesfully!\")"
   ]
  },
  {
   "cell_type": "markdown",
   "id": "6716dfd9",
   "metadata": {},
   "source": [
    "# Transforming Data\n",
    "\n",
    "Scaling and Normalization"
   ]
  },
  {
   "cell_type": "code",
   "execution_count": 146,
   "id": "866e4d71",
   "metadata": {},
   "outputs": [
    {
     "data": {
      "text/html": [
       "<div>\n",
       "<style scoped>\n",
       "    .dataframe tbody tr th:only-of-type {\n",
       "        vertical-align: middle;\n",
       "    }\n",
       "\n",
       "    .dataframe tbody tr th {\n",
       "        vertical-align: top;\n",
       "    }\n",
       "\n",
       "    .dataframe thead th {\n",
       "        text-align: right;\n",
       "    }\n",
       "</style>\n",
       "<table border=\"1\" class=\"dataframe\">\n",
       "  <thead>\n",
       "    <tr style=\"text-align: right;\">\n",
       "      <th></th>\n",
       "      <th>0</th>\n",
       "    </tr>\n",
       "  </thead>\n",
       "  <tbody>\n",
       "    <tr>\n",
       "      <th>1151</th>\n",
       "      <td>933.44</td>\n",
       "    </tr>\n",
       "    <tr>\n",
       "      <th>1523</th>\n",
       "      <td>236.15</td>\n",
       "    </tr>\n",
       "    <tr>\n",
       "      <th>1643</th>\n",
       "      <td>194.44</td>\n",
       "    </tr>\n",
       "    <tr>\n",
       "      <th>730</th>\n",
       "      <td>158.16</td>\n",
       "    </tr>\n",
       "    <tr>\n",
       "      <th>1122</th>\n",
       "      <td>80.83</td>\n",
       "    </tr>\n",
       "  </tbody>\n",
       "</table>\n",
       "</div>"
      ],
      "text/plain": [
       "          0\n",
       "1151 933.44\n",
       "1523 236.15\n",
       "1643 194.44\n",
       "730  158.16\n",
       "1122  80.83"
      ]
     },
     "execution_count": 146,
     "metadata": {},
     "output_type": "execute_result"
    }
   ],
   "source": [
    "from sklearn.preprocessing import MinMaxScaler\n",
    "\n",
    "minmax_scaler = MinMaxScaler()\n",
    "\n",
    "# generate 1000 data points randomly drawn from an exponential distribution\n",
    "original_data = pd.DataFrame(np.random.exponential(200, size=2000))\n",
    "\n",
    "original_data.sample(5)"
   ]
  },
  {
   "cell_type": "code",
   "execution_count": 147,
   "id": "8b281200",
   "metadata": {},
   "outputs": [
    {
     "data": {
      "text/plain": [
       "(0.0527554782457742, 2046.504115358621)"
      ]
     },
     "execution_count": 147,
     "metadata": {},
     "output_type": "execute_result"
    }
   ],
   "source": [
    "original_data[0].min(), original_data[0].max()"
   ]
  },
  {
   "cell_type": "code",
   "execution_count": 148,
   "id": "893fae27",
   "metadata": {},
   "outputs": [
    {
     "data": {
      "image/png": "[encoded data removed]",
      "text/plain": [
       "<Figure size 432x288 with 1 Axes>"
      ]
     },
     "metadata": {
      "needs_background": "light"
     },
     "output_type": "display_data"
    }
   ],
   "source": [
    "count, bins, ignored = plt.hist(original_data, 14)\n",
    "plt.show()"
   ]
  },
  {
   "cell_type": "code",
   "execution_count": 149,
   "id": "7fdd2d4d",
   "metadata": {},
   "outputs": [
    {
     "data": {
      "image/png": "[encoded data removed]",
      "text/plain": [
       "<Figure size 720x432 with 2 Axes>"
      ]
     },
     "metadata": {
      "needs_background": "light"
     },
     "output_type": "display_data"
    }
   ],
   "source": [
    "# mix-max scale the data between 0 and 1\n",
    "def scaler(df):\n",
    "    scaled_data = minmax_scaler.fit_transform(df)\n",
    "\n",
    "    # plot both together to compare\n",
    "    fig, ax = plt.subplots(1,2, figsize=(10, 6))\n",
    "    sns.histplot(original_data, ax=ax[0])\n",
    "    ax[0].set_title(\"Original Data\")\n",
    "    sns.histplot(scaled_data, ax=ax[1])\n",
    "    ax[1].set_title(\"Scaled data\")\n",
    "    \n",
    "scaler(original_data)"
   ]
  },
  {
   "cell_type": "markdown",
   "id": "28f065b1",
   "metadata": {},
   "source": [
    "# Normalization"
   ]
  },
  {
   "cell_type": "code",
   "execution_count": 150,
   "id": "f158fd73",
   "metadata": {},
   "outputs": [
    {
     "data": {
      "image/png": "[encoded data removed]",
      "text/plain": [
       "<Figure size 720x432 with 2 Axes>"
      ]
     },
     "metadata": {
      "needs_background": "light"
     },
     "output_type": "display_data"
    }
   ],
   "source": [
    "from sklearn.preprocessing import Normalizer\n",
    "#Data Normallization\n",
    "def normalizer(df):\n",
    "    norm = Normalizer()\n",
    "    # normalize the exponential data with boxcox\n",
    "    normalized_data = norm.fit_transform(df)\n",
    "\n",
    "    # plot both together to compare\n",
    "    fig, ax=plt.subplots(1,2, figsize=(10, 6))\n",
    "    sns.histplot(df, ax=ax[0])\n",
    "    ax[0].set_title(\"Original Data\")\n",
    "    sns.histplot(normalized_data[0], ax=ax[1])\n",
    "    ax[1].set_title(\"Normalized data\")\n",
    "\n",
    "normalizer(original_data)"
   ]
  },
  {
   "cell_type": "code",
   "execution_count": 151,
   "id": "ab3e27b9",
   "metadata": {},
   "outputs": [],
   "source": [
    "# Function to calculate missing values by column\n",
    "def missing_values_table(df):\n",
    "    # Total missing values\n",
    "    mis_val = df.isnull().sum()\n",
    "\n",
    "    # Percentage of missing values\n",
    "    mis_val_percent = 100 * df.isnull().sum() / len(df)\n",
    "\n",
    "    # dtype of missing values\n",
    "    mis_val_dtype = df.dtypes\n",
    "\n",
    "    # Make a table with the results\n",
    "    mis_val_table = pd.concat([mis_val, mis_val_percent, mis_val_dtype], axis=1)\n",
    "\n",
    "    # Rename the columns\n",
    "    mis_val_table_ren_columns = mis_val_table.rename(\n",
    "    columns = {0 : 'Missing Values', 1 : '% of Total Values', 2: 'Dtype'})\n",
    "\n",
    "    # Sort the table by percentage of missing descending\n",
    "    mis_val_table_ren_columns = mis_val_table_ren_columns[\n",
    "        mis_val_table_ren_columns.iloc[:,1] != 0].sort_values(\n",
    "    '% of Total Values', ascending=False).round(1)\n",
    "\n",
    "    # Print some summary information\n",
    "    print (\"Your selected dataframe has \" + str(df.shape[1]) + \" columns.\\n\"      \n",
    "        \"There are \" + str(mis_val_table_ren_columns.shape[0]) +\n",
    "          \" columns that have missing values.\")\n",
    "\n",
    "    # Return the dataframe with missing information\n",
    "    return mis_val_table_ren_columns\n",
    "\n",
    "def format_float(value):\n",
    "    return f'{value:,.2f}'\n",
    "\n",
    "def find_agg(df:pd.DataFrame, agg_column:str, agg_metric:str, col_name:str, top:int, order=False )->pd.DataFrame:\n",
    "    \n",
    "    new_df = df.groupby(agg_column)[agg_column].agg(agg_metric).reset_index(name=col_name).\\\n",
    "                        sort_values(by=col_name, ascending=order)[:top]\n",
    "    \n",
    "    return new_df\n",
    "\n",
    "def convert_bytes_to_megabytes(df, bytes_data):\n",
    "    \"\"\"\n",
    "        This function takes the dataframe and the column which has the bytes values\n",
    "        returns the megabytesof that value\n",
    "        \n",
    "        Args:\n",
    "        -----\n",
    "        df: dataframe\n",
    "        bytes_data: column with bytes values\n",
    "        \n",
    "        Returns:\n",
    "        --------\n",
    "        A series\n",
    "    \"\"\"\n",
    "    \n",
    "    megabyte = 1*10e+5\n",
    "    df[bytes_data] = df[bytes_data] / megabyte\n",
    "    \n",
    "    return df[bytes_data]\n",
    "\n",
    "pd.options.display.float_format = format_float"
   ]
  },
  {
   "cell_type": "code",
   "execution_count": 152,
   "id": "2bdc66ed",
   "metadata": {},
   "outputs": [
    {
     "name": "stdout",
     "output_type": "stream",
     "text": [
      "Your selected dataframe has 45 columns.\n",
      "There are 0 columns that have missing values.\n"
     ]
    },
    {
     "data": {
      "text/html": [
       "<div>\n",
       "<style scoped>\n",
       "    .dataframe tbody tr th:only-of-type {\n",
       "        vertical-align: middle;\n",
       "    }\n",
       "\n",
       "    .dataframe tbody tr th {\n",
       "        vertical-align: top;\n",
       "    }\n",
       "\n",
       "    .dataframe thead th {\n",
       "        text-align: right;\n",
       "    }\n",
       "</style>\n",
       "<table border=\"1\" class=\"dataframe\">\n",
       "  <thead>\n",
       "    <tr style=\"text-align: right;\">\n",
       "      <th></th>\n",
       "      <th>Missing Values</th>\n",
       "      <th>% of Total Values</th>\n",
       "      <th>Dtype</th>\n",
       "    </tr>\n",
       "  </thead>\n",
       "  <tbody>\n",
       "  </tbody>\n",
       "</table>\n",
       "</div>"
      ],
      "text/plain": [
       "Empty DataFrame\n",
       "Columns: [Missing Values, % of Total Values, Dtype]\n",
       "Index: []"
      ]
     },
     "execution_count": 152,
     "metadata": {},
     "output_type": "execute_result"
    }
   ],
   "source": [
    "#extracting data\n",
    "missing_values_table(df)"
   ]
  },
  {
   "cell_type": "code",
   "execution_count": null,
   "id": "d57c8a50",
   "metadata": {},
   "outputs": [],
   "source": []
  }
 ],
 "metadata": {
  "kernelspec": {
   "display_name": "Python 3 (ipykernel)",
   "language": "python",
   "name": "python3"
  },
  "language_info": {
   "codemirror_mode": {
    "name": "ipython",
    "version": 3
   },
   "file_extension": ".py",
   "mimetype": "text/x-python",
   "name": "python",
   "nbconvert_exporter": "python",
   "pygments_lexer": "ipython3",
   "version": "3.9.12"
  }
 },
 "nbformat": 4,
 "nbformat_minor": 5
}
