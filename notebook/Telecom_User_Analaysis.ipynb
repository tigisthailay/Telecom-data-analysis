{
 "cells": [
  {
   "cell_type": "code",
   "execution_count": 169,
   "id": "069f8a8d",
   "metadata": {},
   "outputs": [],
   "source": [
    "\n",
    "import pandas as pd\n",
    "import numpy as np\n",
    "import matplotlib.pyplot as plt\n",
    "%matplotlib inline\n",
    "import seaborn as sns\n",
    "import statsmodels.api as sm\n",
    "import scipy.stats as stats\n",
    "sns.set()\n",
    "from sklearn.preprocessing import StandardScaler\n",
    "from sklearn.decomposition import PCA\n",
    "from sklearn.preprocessing import StandardScaler\n",
    "from sklearn import preprocessing\n",
    "from sklearn.cluster import KMeans\n",
    "from sklearn.linear_model import LinearRegression\n",
    "from sklearn.preprocessing import StandardScaler\n",
    "import pickle"
   ]
  },
  {
   "cell_type": "markdown",
   "id": "093f5a16",
   "metadata": {},
   "source": [
    "#Load Data"
   ]
  },
  {
   "cell_type": "code",
   "execution_count": 170,
   "id": "3d36003a",
   "metadata": {},
   "outputs": [],
   "source": [
    "#here we have cleaned data from the prior work of data cleaning and exploration data\n",
    "df = pd.read_csv('C:/Users/user/Desktop/10Academy/Week-1/data/cleaned_data.csv')"
   ]
  },
  {
   "cell_type": "code",
   "execution_count": 171,
   "id": "542b5fe4",
   "metadata": {},
   "outputs": [
    {
     "data": {
      "text/html": [
       "<div>\n",
       "<style scoped>\n",
       "    .dataframe tbody tr th:only-of-type {\n",
       "        vertical-align: middle;\n",
       "    }\n",
       "\n",
       "    .dataframe tbody tr th {\n",
       "        vertical-align: top;\n",
       "    }\n",
       "\n",
       "    .dataframe thead th {\n",
       "        text-align: right;\n",
       "    }\n",
       "</style>\n",
       "<table border=\"1\" class=\"dataframe\">\n",
       "  <thead>\n",
       "    <tr style=\"text-align: right;\">\n",
       "      <th></th>\n",
       "      <th>Bearer Id</th>\n",
       "      <th>Start</th>\n",
       "      <th>Start ms</th>\n",
       "      <th>End</th>\n",
       "      <th>End ms</th>\n",
       "      <th>Dur. (ms)</th>\n",
       "      <th>IMSI</th>\n",
       "      <th>MSISDN/Number</th>\n",
       "      <th>IMEI</th>\n",
       "      <th>Last Location Name</th>\n",
       "      <th>...</th>\n",
       "      <th>Youtube DL (Bytes)</th>\n",
       "      <th>Youtube UL (Bytes)</th>\n",
       "      <th>Netflix DL (Bytes)</th>\n",
       "      <th>Netflix UL (Bytes)</th>\n",
       "      <th>Gaming DL (Bytes)</th>\n",
       "      <th>Gaming UL (Bytes)</th>\n",
       "      <th>Other DL (Bytes)</th>\n",
       "      <th>Other UL (Bytes)</th>\n",
       "      <th>Total UL (Bytes)</th>\n",
       "      <th>Total DL (Bytes)</th>\n",
       "    </tr>\n",
       "  </thead>\n",
       "  <tbody>\n",
       "    <tr>\n",
       "      <th>0</th>\n",
       "      <td>13,114,483,460,844,900,352.00</td>\n",
       "      <td>2019-04-04 12:01:00</td>\n",
       "      <td>770.00</td>\n",
       "      <td>2019-04-25 14:35:00</td>\n",
       "      <td>662.00</td>\n",
       "      <td>1,823,652.00</td>\n",
       "      <td>208201448079117</td>\n",
       "      <td>33664962239</td>\n",
       "      <td>35521209507511</td>\n",
       "      <td>9.16456699548519E+015</td>\n",
       "      <td>...</td>\n",
       "      <td>15,854,611.00</td>\n",
       "      <td>2,501,332.00</td>\n",
       "      <td>8,198,936.00</td>\n",
       "      <td>9,656,251.00</td>\n",
       "      <td>278,082,303.00</td>\n",
       "      <td>14,344,150.00</td>\n",
       "      <td>171,744,450.00</td>\n",
       "      <td>8,814,393.00</td>\n",
       "      <td>36,749,741.00</td>\n",
       "      <td>308,879,636.00</td>\n",
       "    </tr>\n",
       "    <tr>\n",
       "      <th>1</th>\n",
       "      <td>13,114,483,482,878,900,224.00</td>\n",
       "      <td>2019-04-09 13:04:00</td>\n",
       "      <td>235.00</td>\n",
       "      <td>2019-04-25 08:15:00</td>\n",
       "      <td>606.00</td>\n",
       "      <td>1,365,104.00</td>\n",
       "      <td>208201909211140</td>\n",
       "      <td>33681854413</td>\n",
       "      <td>35794009006359</td>\n",
       "      <td>L77566A</td>\n",
       "      <td>...</td>\n",
       "      <td>20,247,395.00</td>\n",
       "      <td>19,111,729.00</td>\n",
       "      <td>18,338,413.00</td>\n",
       "      <td>17,227,132.00</td>\n",
       "      <td>608,750,074.00</td>\n",
       "      <td>1,170,709.00</td>\n",
       "      <td>526,904,238.00</td>\n",
       "      <td>15,055,145.00</td>\n",
       "      <td>53,800,391.00</td>\n",
       "      <td>653,384,965.00</td>\n",
       "    </tr>\n",
       "    <tr>\n",
       "      <th>2</th>\n",
       "      <td>13,114,483,484,080,500,736.00</td>\n",
       "      <td>2019-04-09 17:42:00</td>\n",
       "      <td>1.00</td>\n",
       "      <td>2019-04-25 11:58:00</td>\n",
       "      <td>652.00</td>\n",
       "      <td>1,361,762.00</td>\n",
       "      <td>208200314458056</td>\n",
       "      <td>33760627129</td>\n",
       "      <td>35281510359387</td>\n",
       "      <td>D42335A</td>\n",
       "      <td>...</td>\n",
       "      <td>19,725,661.00</td>\n",
       "      <td>14,699,576.00</td>\n",
       "      <td>17,587,794.00</td>\n",
       "      <td>6,163,408.00</td>\n",
       "      <td>229,584,621.00</td>\n",
       "      <td>395,630.00</td>\n",
       "      <td>410,692,588.00</td>\n",
       "      <td>4,215,763.00</td>\n",
       "      <td>27,883,638.00</td>\n",
       "      <td>279,807,335.00</td>\n",
       "    </tr>\n",
       "    <tr>\n",
       "      <th>3</th>\n",
       "      <td>13,114,483,485,442,799,616.00</td>\n",
       "      <td>2019-04-10 00:31:00</td>\n",
       "      <td>486.00</td>\n",
       "      <td>2019-04-25 07:36:00</td>\n",
       "      <td>171.00</td>\n",
       "      <td>1,321,509.00</td>\n",
       "      <td>208201402342131</td>\n",
       "      <td>33750343200</td>\n",
       "      <td>35356610164913</td>\n",
       "      <td>T21824A</td>\n",
       "      <td>...</td>\n",
       "      <td>21,388,122.00</td>\n",
       "      <td>15,146,643.00</td>\n",
       "      <td>13,994,646.00</td>\n",
       "      <td>1,097,942.00</td>\n",
       "      <td>799,538,153.00</td>\n",
       "      <td>10,849,722.00</td>\n",
       "      <td>749,039,933.00</td>\n",
       "      <td>12,797,283.00</td>\n",
       "      <td>43,324,218.00</td>\n",
       "      <td>846,028,530.00</td>\n",
       "    </tr>\n",
       "    <tr>\n",
       "      <th>4</th>\n",
       "      <td>13,114,483,499,480,700,928.00</td>\n",
       "      <td>2019-04-12 20:10:00</td>\n",
       "      <td>565.00</td>\n",
       "      <td>2019-04-25 10:40:00</td>\n",
       "      <td>954.00</td>\n",
       "      <td>1,089,009.00</td>\n",
       "      <td>208201401415120</td>\n",
       "      <td>33699795932</td>\n",
       "      <td>35407009745539</td>\n",
       "      <td>D88865A</td>\n",
       "      <td>...</td>\n",
       "      <td>15,259,380.00</td>\n",
       "      <td>18,962,873.00</td>\n",
       "      <td>17,124,581.00</td>\n",
       "      <td>415,218.00</td>\n",
       "      <td>527,707,248.00</td>\n",
       "      <td>3,529,801.00</td>\n",
       "      <td>550,709,500.00</td>\n",
       "      <td>13,910,322.00</td>\n",
       "      <td>38,542,814.00</td>\n",
       "      <td>569,138,589.00</td>\n",
       "    </tr>\n",
       "  </tbody>\n",
       "</table>\n",
       "<p>5 rows × 45 columns</p>\n",
       "</div>"
      ],
      "text/plain": [
       "                      Bearer Id                Start  Start ms  \\\n",
       "0 13,114,483,460,844,900,352.00  2019-04-04 12:01:00    770.00   \n",
       "1 13,114,483,482,878,900,224.00  2019-04-09 13:04:00    235.00   \n",
       "2 13,114,483,484,080,500,736.00  2019-04-09 17:42:00      1.00   \n",
       "3 13,114,483,485,442,799,616.00  2019-04-10 00:31:00    486.00   \n",
       "4 13,114,483,499,480,700,928.00  2019-04-12 20:10:00    565.00   \n",
       "\n",
       "                   End  End ms    Dur. (ms)             IMSI  MSISDN/Number  \\\n",
       "0  2019-04-25 14:35:00  662.00 1,823,652.00  208201448079117    33664962239   \n",
       "1  2019-04-25 08:15:00  606.00 1,365,104.00  208201909211140    33681854413   \n",
       "2  2019-04-25 11:58:00  652.00 1,361,762.00  208200314458056    33760627129   \n",
       "3  2019-04-25 07:36:00  171.00 1,321,509.00  208201402342131    33750343200   \n",
       "4  2019-04-25 10:40:00  954.00 1,089,009.00  208201401415120    33699795932   \n",
       "\n",
       "             IMEI     Last Location Name  ...  Youtube DL (Bytes)  \\\n",
       "0  35521209507511  9.16456699548519E+015  ...       15,854,611.00   \n",
       "1  35794009006359                L77566A  ...       20,247,395.00   \n",
       "2  35281510359387                D42335A  ...       19,725,661.00   \n",
       "3  35356610164913                T21824A  ...       21,388,122.00   \n",
       "4  35407009745539                D88865A  ...       15,259,380.00   \n",
       "\n",
       "   Youtube UL (Bytes)  Netflix DL (Bytes)  Netflix UL (Bytes)  \\\n",
       "0        2,501,332.00        8,198,936.00        9,656,251.00   \n",
       "1       19,111,729.00       18,338,413.00       17,227,132.00   \n",
       "2       14,699,576.00       17,587,794.00        6,163,408.00   \n",
       "3       15,146,643.00       13,994,646.00        1,097,942.00   \n",
       "4       18,962,873.00       17,124,581.00          415,218.00   \n",
       "\n",
       "   Gaming DL (Bytes)  Gaming UL (Bytes)  Other DL (Bytes)  Other UL (Bytes)  \\\n",
       "0     278,082,303.00      14,344,150.00    171,744,450.00      8,814,393.00   \n",
       "1     608,750,074.00       1,170,709.00    526,904,238.00     15,055,145.00   \n",
       "2     229,584,621.00         395,630.00    410,692,588.00      4,215,763.00   \n",
       "3     799,538,153.00      10,849,722.00    749,039,933.00     12,797,283.00   \n",
       "4     527,707,248.00       3,529,801.00    550,709,500.00     13,910,322.00   \n",
       "\n",
       "   Total UL (Bytes)  Total DL (Bytes)  \n",
       "0     36,749,741.00    308,879,636.00  \n",
       "1     53,800,391.00    653,384,965.00  \n",
       "2     27,883,638.00    279,807,335.00  \n",
       "3     43,324,218.00    846,028,530.00  \n",
       "4     38,542,814.00    569,138,589.00  \n",
       "\n",
       "[5 rows x 45 columns]"
      ]
     },
     "execution_count": 171,
     "metadata": {},
     "output_type": "execute_result"
    }
   ],
   "source": [
    "df.head(5)"
   ]
  },
  {
   "cell_type": "code",
   "execution_count": 148,
   "id": "cadebba5",
   "metadata": {},
   "outputs": [
    {
     "data": {
      "text/plain": [
       "['Bearer Id',\n",
       " 'Start',\n",
       " 'Start ms',\n",
       " 'End',\n",
       " 'End ms',\n",
       " 'Dur. (ms)',\n",
       " 'IMSI',\n",
       " 'MSISDN/Number',\n",
       " 'IMEI',\n",
       " 'Last Location Name',\n",
       " 'Avg RTT DL (ms)',\n",
       " 'Avg RTT UL (ms)',\n",
       " 'Avg Bearer TP DL (kbps)',\n",
       " 'Avg Bearer TP UL (kbps)',\n",
       " 'DL TP < 50 Kbps (%)',\n",
       " '50 Kbps < DL TP < 250 Kbps (%)',\n",
       " '250 Kbps < DL TP < 1 Mbps (%)',\n",
       " 'DL TP > 1 Mbps (%)',\n",
       " 'UL TP < 10 Kbps (%)',\n",
       " '10 Kbps < UL TP < 50 Kbps (%)',\n",
       " '50 Kbps < UL TP < 300 Kbps (%)',\n",
       " 'UL TP > 300 Kbps (%)',\n",
       " 'Activity Duration DL (ms)',\n",
       " 'Activity Duration UL (ms)',\n",
       " 'Dur. (ms).1',\n",
       " 'Handset Manufacturer',\n",
       " 'Handset Type',\n",
       " 'Nb of sec with Vol DL < 6250B',\n",
       " 'Nb of sec with Vol UL < 1250B',\n",
       " 'Social Media DL (Bytes)',\n",
       " 'Social Media UL (Bytes)',\n",
       " 'Google DL (Bytes)',\n",
       " 'Google UL (Bytes)',\n",
       " 'Email DL (Bytes)',\n",
       " 'Email UL (Bytes)',\n",
       " 'Youtube DL (Bytes)',\n",
       " 'Youtube UL (Bytes)',\n",
       " 'Netflix DL (Bytes)',\n",
       " 'Netflix UL (Bytes)',\n",
       " 'Gaming DL (Bytes)',\n",
       " 'Gaming UL (Bytes)',\n",
       " 'Other DL (Bytes)',\n",
       " 'Other UL (Bytes)',\n",
       " 'Total UL (Bytes)',\n",
       " 'Total DL (Bytes)']"
      ]
     },
     "execution_count": 148,
     "metadata": {},
     "output_type": "execute_result"
    }
   ],
   "source": [
    "# column names\n",
    "#list(df.columns)\n",
    "df.columns.tolist()\n"
   ]
  },
  {
   "cell_type": "code",
   "execution_count": 149,
   "id": "2a9f714e",
   "metadata": {},
   "outputs": [
    {
     "name": "stdout",
     "output_type": "stream",
     "text": [
      " There are 150001 rows and 45 columns\n"
     ]
    }
   ],
   "source": [
    "# number of data points\n",
    "#df.shape\n",
    "print(f\" There are {df.shape[0]} rows and {df.shape[1]} columns\")"
   ]
  },
  {
   "cell_type": "code",
   "execution_count": 172,
   "id": "e9a9f662",
   "metadata": {},
   "outputs": [],
   "source": [
    "###################################PLOTTING FUNCTIONS For User Analytics on Telcco###################################\n",
    "\n",
    "def plot_hist(df:pd.DataFrame, column:str, color:str)->None:\n",
    "    # plt.figure(figsize=(15, 10))\n",
    "    # fig, ax = plt.subplots(1, figsize=(12, 7))\n",
    "    sns.displot(data=df, x=column, color=color, kde=True, height=7, aspect=2)\n",
    "    plt.title(f'Distribution of {column}', size=20, fontweight='bold')\n",
    "    plt.show()\n",
    "\n",
    "def plot_count(df:pd.DataFrame, column:str) -> None:\n",
    "    plt.figure(figsize=(12, 7))\n",
    "    sns.countplot(data=df, x=column)\n",
    "    plt.title(f'Distribution of {column}', size=20, fontweight='bold')\n",
    "    plt.show()\n",
    "    \n",
    "def plot_bar(df:pd.DataFrame, x_col:str, y_col:str, title:str, xlabel:str, ylabel:str)->None:\n",
    "    plt.figure(figsize=(12, 7))\n",
    "    sns.barplot(data = df, x=x_col, y=y_col)\n",
    "    plt.title(title, size=20)\n",
    "    plt.xticks(rotation=75, fontsize=14)\n",
    "    plt.yticks( fontsize=14)\n",
    "    plt.xlabel(xlabel, fontsize=16)\n",
    "    plt.ylabel(ylabel, fontsize=16)\n",
    "    plt.show()\n",
    "\n",
    "def plot_heatmap(df:pd.DataFrame, title:str, cbar=False)->None:\n",
    "    plt.figure(figsize=(12, 7))\n",
    "    sns.heatmap(df, annot=True, cmap='viridis', vmin=0, vmax=1, fmt='.2f', linewidths=.7, cbar=cbar )\n",
    "    plt.title(title, size=18, fontweight='bold')\n",
    "    plt.show()\n",
    "\n",
    "def plot_box(df:pd.DataFrame, x_col:str, title:str) -> None:\n",
    "    plt.figure(figsize=(12, 7))\n",
    "    sns.boxplot(data = df, x=x_col)\n",
    "    plt.title(title, size=20)\n",
    "    plt.xticks(rotation=75, fontsize=14)\n",
    "    plt.show()\n",
    "\n",
    "def plot_box_multi(df:pd.DataFrame, x_col:str, y_col:str, title:str) -> None:\n",
    "    plt.figure(figsize=(12, 7))\n",
    "    sns.boxplot(data = df, x=x_col, y=y_col)\n",
    "    plt.title(title, size=20)\n",
    "    plt.xticks(rotation=75, fontsize=14)\n",
    "    plt.yticks( fontsize=14)\n",
    "    plt.show()\n",
    "\n",
    "def plot_scatter(df: pd.DataFrame, x_col: str, y_col: str, title: str, hue: str, style: str) -> None:\n",
    "    plt.figure(figsize=(12, 7))\n",
    "    sns.scatterplot(data = df, x=x_col, y=y_col, hue=hue)\n",
    "    plt.title(title, size=20)\n",
    "    plt.xticks(fontsize=14)\n",
    "    plt.yticks( fontsize=14)\n",
    "    plt.show()\n",
    "\n",
    "def format_float(value):\n",
    "    return f'{value:,.2f}'\n",
    "\n",
    "def fix_outlier(df, column):\n",
    "    df[column] = np.where(df[column] > df[column].quantile(0.95), df[column].median(),df[column])\n",
    "    \n",
    "    return df[column]\n",
    "\n",
    "\n",
    "pd.options.display.float_format = format_float"
   ]
  },
  {
   "cell_type": "markdown",
   "id": "1caa6af9",
   "metadata": {},
   "source": [
    "# Task 1:"
   ]
  },
  {
   "cell_type": "markdown",
   "id": "4abbc3c4",
   "metadata": {},
   "source": [
    "#### Top 10 handsets used by the customers"
   ]
  },
  {
   "cell_type": "code",
   "execution_count": 173,
   "id": "fec7b9a8",
   "metadata": {},
   "outputs": [
    {
     "data": {
      "text/html": [
       "<div>\n",
       "<style scoped>\n",
       "    .dataframe tbody tr th:only-of-type {\n",
       "        vertical-align: middle;\n",
       "    }\n",
       "\n",
       "    .dataframe tbody tr th {\n",
       "        vertical-align: top;\n",
       "    }\n",
       "\n",
       "    .dataframe thead th {\n",
       "        text-align: right;\n",
       "    }\n",
       "</style>\n",
       "<table border=\"1\" class=\"dataframe\">\n",
       "  <thead>\n",
       "    <tr style=\"text-align: right;\">\n",
       "      <th></th>\n",
       "      <th>Handset Type</th>\n",
       "      <th>Total</th>\n",
       "    </tr>\n",
       "  </thead>\n",
       "  <tbody>\n",
       "    <tr>\n",
       "      <th>316</th>\n",
       "      <td>Huawei B528S-23A</td>\n",
       "      <td>10641</td>\n",
       "    </tr>\n",
       "    <tr>\n",
       "      <th>53</th>\n",
       "      <td>Apple iPhone 6S (A1688)</td>\n",
       "      <td>6765</td>\n",
       "    </tr>\n",
       "    <tr>\n",
       "      <th>1395</th>\n",
       "      <td>undefined</td>\n",
       "      <td>6716</td>\n",
       "    </tr>\n",
       "    <tr>\n",
       "      <th>49</th>\n",
       "      <td>Apple iPhone 6 (A1586)</td>\n",
       "      <td>6271</td>\n",
       "    </tr>\n",
       "    <tr>\n",
       "      <th>59</th>\n",
       "      <td>Apple iPhone 7 (A1778)</td>\n",
       "      <td>4721</td>\n",
       "    </tr>\n",
       "    <tr>\n",
       "      <th>73</th>\n",
       "      <td>Apple iPhone Se (A1723)</td>\n",
       "      <td>3764</td>\n",
       "    </tr>\n",
       "    <tr>\n",
       "      <th>66</th>\n",
       "      <td>Apple iPhone 8 (A1905)</td>\n",
       "      <td>3550</td>\n",
       "    </tr>\n",
       "    <tr>\n",
       "      <th>955</th>\n",
       "      <td>Samsung Galaxy S8 (Sm-G950F)</td>\n",
       "      <td>3275</td>\n",
       "    </tr>\n",
       "    <tr>\n",
       "      <th>78</th>\n",
       "      <td>Apple iPhone Xr (A2105)</td>\n",
       "      <td>3077</td>\n",
       "    </tr>\n",
       "    <tr>\n",
       "      <th>888</th>\n",
       "      <td>Samsung Galaxy J5 (Sm-J530)</td>\n",
       "      <td>2760</td>\n",
       "    </tr>\n",
       "  </tbody>\n",
       "</table>\n",
       "</div>"
      ],
      "text/plain": [
       "                      Handset Type  Total\n",
       "316               Huawei B528S-23A  10641\n",
       "53         Apple iPhone 6S (A1688)   6765\n",
       "1395                     undefined   6716\n",
       "49          Apple iPhone 6 (A1586)   6271\n",
       "59          Apple iPhone 7 (A1778)   4721\n",
       "73         Apple iPhone Se (A1723)   3764\n",
       "66          Apple iPhone 8 (A1905)   3550\n",
       "955   Samsung Galaxy S8 (Sm-G950F)   3275\n",
       "78         Apple iPhone Xr (A2105)   3077\n",
       "888    Samsung Galaxy J5 (Sm-J530)   2760"
      ]
     },
     "execution_count": 173,
     "metadata": {},
     "output_type": "execute_result"
    }
   ],
   "source": [
    "# The top 10 handsets used by the customers\n",
    "top10_handsets_customers = df[['Handset Type','IMSI']].groupby(['Handset Type'])\n",
    "#top10 = data.sort_values(['Handset Type','IMSI'], ascending=False).groupby('Handset Type')\n",
    "top10_handsets_customers = top10_handsets_customers['IMSI'].nunique()\n",
    "top10_handsets_customers = top10_handsets_customers.reset_index(name='Total')\n",
    "top10_handsets_customers = top10_handsets_customers.sort_values(['Total'], ascending=False)\n",
    "top10_handsets_customers.head(10)"
   ]
  },
  {
   "cell_type": "markdown",
   "id": "db2e3854",
   "metadata": {},
   "source": [
    "#### top 3 handset manufacturers"
   ]
  },
  {
   "cell_type": "code",
   "execution_count": 174,
   "id": "feeccc43",
   "metadata": {},
   "outputs": [
    {
     "data": {
      "text/html": [
       "<div>\n",
       "<style scoped>\n",
       "    .dataframe tbody tr th:only-of-type {\n",
       "        vertical-align: middle;\n",
       "    }\n",
       "\n",
       "    .dataframe tbody tr th {\n",
       "        vertical-align: top;\n",
       "    }\n",
       "\n",
       "    .dataframe thead th {\n",
       "        text-align: right;\n",
       "    }\n",
       "</style>\n",
       "<table border=\"1\" class=\"dataframe\">\n",
       "  <thead>\n",
       "    <tr style=\"text-align: right;\">\n",
       "      <th></th>\n",
       "      <th>Handset Manufacturer</th>\n",
       "      <th>IMSI</th>\n",
       "    </tr>\n",
       "  </thead>\n",
       "  <tbody>\n",
       "    <tr>\n",
       "      <th>0</th>\n",
       "      <td>Apple</td>\n",
       "      <td>42687</td>\n",
       "    </tr>\n",
       "    <tr>\n",
       "      <th>1</th>\n",
       "      <td>Samsung</td>\n",
       "      <td>30980</td>\n",
       "    </tr>\n",
       "    <tr>\n",
       "      <th>2</th>\n",
       "      <td>Huawei</td>\n",
       "      <td>21742</td>\n",
       "    </tr>\n",
       "  </tbody>\n",
       "</table>\n",
       "</div>"
      ],
      "text/plain": [
       "  Handset Manufacturer   IMSI\n",
       "0                Apple  42687\n",
       "1              Samsung  30980\n",
       "2               Huawei  21742"
      ]
     },
     "execution_count": 174,
     "metadata": {},
     "output_type": "execute_result"
    }
   ],
   "source": [
    "# top 3 handset manufacturers\n",
    "top3_handset_manufacturers = df[['Handset Manufacturer','IMSI']].groupby(['Handset Manufacturer'])\n",
    "top3_handset_manufacturers = top3_handset_manufacturers['IMSI'].nunique().nlargest(3).reset_index()\n",
    "top3_handset_manufacturers"
   ]
  },
  {
   "cell_type": "markdown",
   "id": "2a8adfb2",
   "metadata": {},
   "source": [
    "#### top 5 handsets per top 3 handset manufacturer"
   ]
  },
  {
   "cell_type": "markdown",
   "id": "f87eebd9",
   "metadata": {},
   "source": [
    "#### top 5 handset manfacturer for Apple"
   ]
  },
  {
   "cell_type": "code",
   "execution_count": 153,
   "id": "5ffb1e51",
   "metadata": {},
   "outputs": [
    {
     "data": {
      "text/html": [
       "<div>\n",
       "<style scoped>\n",
       "    .dataframe tbody tr th:only-of-type {\n",
       "        vertical-align: middle;\n",
       "    }\n",
       "\n",
       "    .dataframe tbody tr th {\n",
       "        vertical-align: top;\n",
       "    }\n",
       "\n",
       "    .dataframe thead th {\n",
       "        text-align: right;\n",
       "    }\n",
       "</style>\n",
       "<table border=\"1\" class=\"dataframe\">\n",
       "  <thead>\n",
       "    <tr style=\"text-align: right;\">\n",
       "      <th></th>\n",
       "      <th>Handset Type</th>\n",
       "      <th>IMSI</th>\n",
       "    </tr>\n",
       "  </thead>\n",
       "  <tbody>\n",
       "    <tr>\n",
       "      <th>0</th>\n",
       "      <td>Apple iPhone 6S (A1688)</td>\n",
       "      <td>6765</td>\n",
       "    </tr>\n",
       "    <tr>\n",
       "      <th>1</th>\n",
       "      <td>Apple iPhone 6 (A1586)</td>\n",
       "      <td>6271</td>\n",
       "    </tr>\n",
       "    <tr>\n",
       "      <th>2</th>\n",
       "      <td>Apple iPhone 7 (A1778)</td>\n",
       "      <td>4721</td>\n",
       "    </tr>\n",
       "    <tr>\n",
       "      <th>3</th>\n",
       "      <td>Apple iPhone Se (A1723)</td>\n",
       "      <td>3764</td>\n",
       "    </tr>\n",
       "    <tr>\n",
       "      <th>4</th>\n",
       "      <td>Apple iPhone 8 (A1905)</td>\n",
       "      <td>3550</td>\n",
       "    </tr>\n",
       "  </tbody>\n",
       "</table>\n",
       "</div>"
      ],
      "text/plain": [
       "              Handset Type  IMSI\n",
       "0  Apple iPhone 6S (A1688)  6765\n",
       "1   Apple iPhone 6 (A1586)  6271\n",
       "2   Apple iPhone 7 (A1778)  4721\n",
       "3  Apple iPhone Se (A1723)  3764\n",
       "4   Apple iPhone 8 (A1905)  3550"
      ]
     },
     "execution_count": 153,
     "metadata": {},
     "output_type": "execute_result"
    }
   ],
   "source": [
    "# top 5 handset manfacturer for Apple\n",
    "Apple_handsets = df[df['Handset Manufacturer']=='Apple']\n",
    "Apple_handsets = Apple_handsets.groupby(['Handset Type'])['IMSI']\n",
    "Apple_handsets = Apple_handsets.nunique().nlargest(5).reset_index()\n",
    "Apple_handsets"
   ]
  },
  {
   "cell_type": "markdown",
   "id": "1c3872b3",
   "metadata": {},
   "source": [
    "#### top 5 handset manfacturer for Huawei"
   ]
  },
  {
   "cell_type": "code",
   "execution_count": 154,
   "id": "28e48e51",
   "metadata": {},
   "outputs": [
    {
     "data": {
      "text/html": [
       "<div>\n",
       "<style scoped>\n",
       "    .dataframe tbody tr th:only-of-type {\n",
       "        vertical-align: middle;\n",
       "    }\n",
       "\n",
       "    .dataframe tbody tr th {\n",
       "        vertical-align: top;\n",
       "    }\n",
       "\n",
       "    .dataframe thead th {\n",
       "        text-align: right;\n",
       "    }\n",
       "</style>\n",
       "<table border=\"1\" class=\"dataframe\">\n",
       "  <thead>\n",
       "    <tr style=\"text-align: right;\">\n",
       "      <th></th>\n",
       "      <th>Handset Type</th>\n",
       "      <th>IMSI</th>\n",
       "    </tr>\n",
       "  </thead>\n",
       "  <tbody>\n",
       "    <tr>\n",
       "      <th>0</th>\n",
       "      <td>Huawei B528S-23A</td>\n",
       "      <td>10638</td>\n",
       "    </tr>\n",
       "    <tr>\n",
       "      <th>1</th>\n",
       "      <td>Huawei P20 Lite Huawei Nova 3E</td>\n",
       "      <td>1534</td>\n",
       "    </tr>\n",
       "    <tr>\n",
       "      <th>2</th>\n",
       "      <td>Huawei E5180</td>\n",
       "      <td>1185</td>\n",
       "    </tr>\n",
       "    <tr>\n",
       "      <th>3</th>\n",
       "      <td>Huawei P20</td>\n",
       "      <td>1110</td>\n",
       "    </tr>\n",
       "    <tr>\n",
       "      <th>4</th>\n",
       "      <td>Huawei Y6 2018</td>\n",
       "      <td>757</td>\n",
       "    </tr>\n",
       "  </tbody>\n",
       "</table>\n",
       "</div>"
      ],
      "text/plain": [
       "                     Handset Type   IMSI\n",
       "0                Huawei B528S-23A  10638\n",
       "1  Huawei P20 Lite Huawei Nova 3E   1534\n",
       "2                    Huawei E5180   1185\n",
       "3                      Huawei P20   1110\n",
       "4                  Huawei Y6 2018    757"
      ]
     },
     "execution_count": 154,
     "metadata": {},
     "output_type": "execute_result"
    }
   ],
   "source": [
    "# top 5 handset manfacturer for Huawei\n",
    "Huawei_handsets = df[df['Handset Manufacturer']=='Huawei']\n",
    "Huawei_handsets = Huawei_handsets.groupby(['Handset Type'])['IMSI']\n",
    "Huawei_handsets = Huawei_handsets.nunique().nlargest(5).reset_index()\n",
    "Huawei_handsets"
   ]
  },
  {
   "cell_type": "markdown",
   "id": "860f10ab",
   "metadata": {},
   "source": [
    "#### top 5 handset manfacturer for Samsung"
   ]
  },
  {
   "cell_type": "code",
   "execution_count": 155,
   "id": "c14684be",
   "metadata": {},
   "outputs": [
    {
     "data": {
      "text/html": [
       "<div>\n",
       "<style scoped>\n",
       "    .dataframe tbody tr th:only-of-type {\n",
       "        vertical-align: middle;\n",
       "    }\n",
       "\n",
       "    .dataframe tbody tr th {\n",
       "        vertical-align: top;\n",
       "    }\n",
       "\n",
       "    .dataframe thead th {\n",
       "        text-align: right;\n",
       "    }\n",
       "</style>\n",
       "<table border=\"1\" class=\"dataframe\">\n",
       "  <thead>\n",
       "    <tr style=\"text-align: right;\">\n",
       "      <th></th>\n",
       "      <th>Handset Type</th>\n",
       "      <th>IMSI</th>\n",
       "    </tr>\n",
       "  </thead>\n",
       "  <tbody>\n",
       "    <tr>\n",
       "      <th>0</th>\n",
       "      <td>Samsung Galaxy S8 (Sm-G950F)</td>\n",
       "      <td>3275</td>\n",
       "    </tr>\n",
       "    <tr>\n",
       "      <th>1</th>\n",
       "      <td>Samsung Galaxy J5 (Sm-J530)</td>\n",
       "      <td>2760</td>\n",
       "    </tr>\n",
       "    <tr>\n",
       "      <th>2</th>\n",
       "      <td>Samsung Galaxy A5 Sm-A520F</td>\n",
       "      <td>2721</td>\n",
       "    </tr>\n",
       "    <tr>\n",
       "      <th>3</th>\n",
       "      <td>Samsung Galaxy J3 (Sm-J330)</td>\n",
       "      <td>2606</td>\n",
       "    </tr>\n",
       "    <tr>\n",
       "      <th>4</th>\n",
       "      <td>Samsung Galaxy S7 (Sm-G930X)</td>\n",
       "      <td>2310</td>\n",
       "    </tr>\n",
       "  </tbody>\n",
       "</table>\n",
       "</div>"
      ],
      "text/plain": [
       "                   Handset Type  IMSI\n",
       "0  Samsung Galaxy S8 (Sm-G950F)  3275\n",
       "1   Samsung Galaxy J5 (Sm-J530)  2760\n",
       "2    Samsung Galaxy A5 Sm-A520F  2721\n",
       "3   Samsung Galaxy J3 (Sm-J330)  2606\n",
       "4  Samsung Galaxy S7 (Sm-G930X)  2310"
      ]
     },
     "execution_count": 155,
     "metadata": {},
     "output_type": "execute_result"
    }
   ],
   "source": [
    "#top 5 handset manfacturer for Samsung\n",
    "Samsung_handset = df[df['Handset Manufacturer']=='Samsung']\n",
    "Samsung_handset = Samsung_handset.groupby(['Handset Type'])['IMSI']\n",
    "Samsung_handset = Samsung_handset.nunique().nlargest(5).reset_index()\n",
    "Samsung_handset"
   ]
  },
  {
   "cell_type": "markdown",
   "id": "ea7b40c2",
   "metadata": {},
   "source": [
    "#### Task 1.1 - Your employer wants to have an overview of the users’ behavior on those\n",
    "\n",
    "applications.\n",
    "\n",
    "Aggregate per user the following information in the column\n",
    "\n",
    "    *   number of xDR sessions\n",
    "    *   Session duration\n",
    "    *   the total download (DL) and upload (UL) data\n",
    "    *   the total data volume (in Bytes) during this session for each application\n",
    "\n"
   ]
  },
  {
   "cell_type": "markdown",
   "id": "49d11bcb",
   "metadata": {},
   "source": [
    "##### number of xDR sessions"
   ]
  },
  {
   "cell_type": "code",
   "execution_count": 175,
   "id": "512fedec",
   "metadata": {},
   "outputs": [
    {
     "data": {
      "text/html": [
       "<div>\n",
       "<style scoped>\n",
       "    .dataframe tbody tr th:only-of-type {\n",
       "        vertical-align: middle;\n",
       "    }\n",
       "\n",
       "    .dataframe tbody tr th {\n",
       "        vertical-align: top;\n",
       "    }\n",
       "\n",
       "    .dataframe thead th {\n",
       "        text-align: right;\n",
       "    }\n",
       "</style>\n",
       "<table border=\"1\" class=\"dataframe\">\n",
       "  <thead>\n",
       "    <tr style=\"text-align: right;\">\n",
       "      <th></th>\n",
       "      <th>Bearer Id</th>\n",
       "    </tr>\n",
       "    <tr>\n",
       "      <th>MSISDN/Number</th>\n",
       "      <th></th>\n",
       "    </tr>\n",
       "  </thead>\n",
       "  <tbody>\n",
       "    <tr>\n",
       "      <th>33601001722</th>\n",
       "      <td>1</td>\n",
       "    </tr>\n",
       "    <tr>\n",
       "      <th>33601001754</th>\n",
       "      <td>1</td>\n",
       "    </tr>\n",
       "    <tr>\n",
       "      <th>33601002511</th>\n",
       "      <td>1</td>\n",
       "    </tr>\n",
       "    <tr>\n",
       "      <th>33601007832</th>\n",
       "      <td>1</td>\n",
       "    </tr>\n",
       "    <tr>\n",
       "      <th>33601008617</th>\n",
       "      <td>2</td>\n",
       "    </tr>\n",
       "    <tr>\n",
       "      <th>...</th>\n",
       "      <td>...</td>\n",
       "    </tr>\n",
       "    <tr>\n",
       "      <th>33789996170</th>\n",
       "      <td>1</td>\n",
       "    </tr>\n",
       "    <tr>\n",
       "      <th>33789997247</th>\n",
       "      <td>1</td>\n",
       "    </tr>\n",
       "    <tr>\n",
       "      <th>3197020876596</th>\n",
       "      <td>1</td>\n",
       "    </tr>\n",
       "    <tr>\n",
       "      <th>337000037000919</th>\n",
       "      <td>1</td>\n",
       "    </tr>\n",
       "    <tr>\n",
       "      <th>882397108489451</th>\n",
       "      <td>1</td>\n",
       "    </tr>\n",
       "  </tbody>\n",
       "</table>\n",
       "<p>106856 rows × 1 columns</p>\n",
       "</div>"
      ],
      "text/plain": [
       "                 Bearer Id\n",
       "MSISDN/Number             \n",
       "33601001722              1\n",
       "33601001754              1\n",
       "33601002511              1\n",
       "33601007832              1\n",
       "33601008617              2\n",
       "...                    ...\n",
       "33789996170              1\n",
       "33789997247              1\n",
       "3197020876596            1\n",
       "337000037000919          1\n",
       "882397108489451          1\n",
       "\n",
       "[106856 rows x 1 columns]"
      ]
     },
     "execution_count": 175,
     "metadata": {},
     "output_type": "execute_result"
    }
   ],
   "source": [
    "number_of_xDR_sessions = df.groupby('MSISDN/Number')\n",
    "number_of_xDR_sessions.agg({\"Bearer Id\": \"count\"})"
   ]
  },
  {
   "cell_type": "code",
   "execution_count": 157,
   "id": "96072098",
   "metadata": {},
   "outputs": [],
   "source": [
    "#number_of_xDR_sessions.describe()"
   ]
  },
  {
   "cell_type": "markdown",
   "id": "c9ea27ce",
   "metadata": {},
   "source": [
    "#### Session duration"
   ]
  },
  {
   "cell_type": "code",
   "execution_count": 158,
   "id": "6d4d83c9",
   "metadata": {},
   "outputs": [
    {
     "data": {
      "text/html": [
       "<div>\n",
       "<style scoped>\n",
       "    .dataframe tbody tr th:only-of-type {\n",
       "        vertical-align: middle;\n",
       "    }\n",
       "\n",
       "    .dataframe tbody tr th {\n",
       "        vertical-align: top;\n",
       "    }\n",
       "\n",
       "    .dataframe thead th {\n",
       "        text-align: right;\n",
       "    }\n",
       "</style>\n",
       "<table border=\"1\" class=\"dataframe\">\n",
       "  <thead>\n",
       "    <tr style=\"text-align: right;\">\n",
       "      <th></th>\n",
       "      <th>Dur. (ms)</th>\n",
       "    </tr>\n",
       "    <tr>\n",
       "      <th>MSISDN/Number</th>\n",
       "      <th></th>\n",
       "    </tr>\n",
       "  </thead>\n",
       "  <tbody>\n",
       "    <tr>\n",
       "      <th>33601001722</th>\n",
       "      <td>116,720.00</td>\n",
       "    </tr>\n",
       "    <tr>\n",
       "      <th>33601001754</th>\n",
       "      <td>181,230.00</td>\n",
       "    </tr>\n",
       "    <tr>\n",
       "      <th>33601002511</th>\n",
       "      <td>134,969.00</td>\n",
       "    </tr>\n",
       "    <tr>\n",
       "      <th>33601007832</th>\n",
       "      <td>49,878.00</td>\n",
       "    </tr>\n",
       "    <tr>\n",
       "      <th>33601008617</th>\n",
       "      <td>37,104.00</td>\n",
       "    </tr>\n",
       "    <tr>\n",
       "      <th>...</th>\n",
       "      <td>...</td>\n",
       "    </tr>\n",
       "    <tr>\n",
       "      <th>33789996170</th>\n",
       "      <td>8,810.00</td>\n",
       "    </tr>\n",
       "    <tr>\n",
       "      <th>33789997247</th>\n",
       "      <td>140,988.00</td>\n",
       "    </tr>\n",
       "    <tr>\n",
       "      <th>3197020876596</th>\n",
       "      <td>877,385.00</td>\n",
       "    </tr>\n",
       "    <tr>\n",
       "      <th>337000037000919</th>\n",
       "      <td>253,030.00</td>\n",
       "    </tr>\n",
       "    <tr>\n",
       "      <th>882397108489451</th>\n",
       "      <td>869,844.00</td>\n",
       "    </tr>\n",
       "  </tbody>\n",
       "</table>\n",
       "<p>106856 rows × 1 columns</p>\n",
       "</div>"
      ],
      "text/plain": [
       "                 Dur. (ms)\n",
       "MSISDN/Number             \n",
       "33601001722     116,720.00\n",
       "33601001754     181,230.00\n",
       "33601002511     134,969.00\n",
       "33601007832      49,878.00\n",
       "33601008617      37,104.00\n",
       "...                    ...\n",
       "33789996170       8,810.00\n",
       "33789997247     140,988.00\n",
       "3197020876596   877,385.00\n",
       "337000037000919 253,030.00\n",
       "882397108489451 869,844.00\n",
       "\n",
       "[106856 rows x 1 columns]"
      ]
     },
     "execution_count": 158,
     "metadata": {},
     "output_type": "execute_result"
    }
   ],
   "source": [
    "#Session duration\n",
    "session_duration = df.groupby('MSISDN/Number')\n",
    "session_duration.agg({\"Dur. (ms)\": \"sum\"})"
   ]
  },
  {
   "cell_type": "code",
   "execution_count": 159,
   "id": "9d9fb644",
   "metadata": {},
   "outputs": [],
   "source": [
    "#session_duration.describe()"
   ]
  },
  {
   "cell_type": "markdown",
   "id": "94e3d1af",
   "metadata": {},
   "source": [
    "#### the total download (DL) and upload (UL) data"
   ]
  },
  {
   "cell_type": "code",
   "execution_count": 176,
   "id": "b7bf8398",
   "metadata": {},
   "outputs": [
    {
     "name": "stderr",
     "output_type": "stream",
     "text": [
      "C:\\Users\\user\\AppData\\Local\\Temp\\ipykernel_5924\\433596818.py:2: FutureWarning: Indexing with multiple keys (implicitly converted to a tuple of keys) will be deprecated, use a list instead.\n",
      "  total_DL_UL = df.groupby(['IMSI'])['Total UL (Bytes)', 'Total DL (Bytes)'].sum()\n"
     ]
    },
    {
     "data": {
      "text/html": [
       "<div>\n",
       "<style scoped>\n",
       "    .dataframe tbody tr th:only-of-type {\n",
       "        vertical-align: middle;\n",
       "    }\n",
       "\n",
       "    .dataframe tbody tr th {\n",
       "        vertical-align: top;\n",
       "    }\n",
       "\n",
       "    .dataframe thead th {\n",
       "        text-align: right;\n",
       "    }\n",
       "</style>\n",
       "<table border=\"1\" class=\"dataframe\">\n",
       "  <thead>\n",
       "    <tr style=\"text-align: right;\">\n",
       "      <th></th>\n",
       "      <th>Total UL (Bytes)</th>\n",
       "      <th>Total DL (Bytes)</th>\n",
       "    </tr>\n",
       "    <tr>\n",
       "      <th>IMSI</th>\n",
       "      <th></th>\n",
       "      <th></th>\n",
       "    </tr>\n",
       "  </thead>\n",
       "  <tbody>\n",
       "    <tr>\n",
       "      <th>204047108489451</th>\n",
       "      <td>60,456,049.00</td>\n",
       "      <td>78,697,597.00</td>\n",
       "    </tr>\n",
       "    <tr>\n",
       "      <th>204080810288647</th>\n",
       "      <td>37,295,915.00</td>\n",
       "      <td>194,828,056.00</td>\n",
       "    </tr>\n",
       "    <tr>\n",
       "      <th>208200101016140</th>\n",
       "      <td>53,794,658.00</td>\n",
       "      <td>31,376,981.00</td>\n",
       "    </tr>\n",
       "    <tr>\n",
       "      <th>208200101127285</th>\n",
       "      <td>33,583,272.00</td>\n",
       "      <td>392,918,313.00</td>\n",
       "    </tr>\n",
       "    <tr>\n",
       "      <th>208200101148045</th>\n",
       "      <td>71,325,004.00</td>\n",
       "      <td>961,767,023.00</td>\n",
       "    </tr>\n",
       "  </tbody>\n",
       "</table>\n",
       "</div>"
      ],
      "text/plain": [
       "                 Total UL (Bytes)  Total DL (Bytes)\n",
       "IMSI                                               \n",
       "204047108489451     60,456,049.00     78,697,597.00\n",
       "204080810288647     37,295,915.00    194,828,056.00\n",
       "208200101016140     53,794,658.00     31,376,981.00\n",
       "208200101127285     33,583,272.00    392,918,313.00\n",
       "208200101148045     71,325,004.00    961,767,023.00"
      ]
     },
     "execution_count": 176,
     "metadata": {},
     "output_type": "execute_result"
    }
   ],
   "source": [
    "# the total download (DL) and upload (UL) data\n",
    "total_DL_UL = df.groupby(['IMSI'])['Total UL (Bytes)', 'Total DL (Bytes)'].sum()\n",
    "total_DL_UL.head(5)"
   ]
  },
  {
   "cell_type": "code",
   "execution_count": 161,
   "id": "af30144b",
   "metadata": {},
   "outputs": [],
   "source": [
    "#total_DL_UL.describe()"
   ]
  },
  {
   "cell_type": "markdown",
   "id": "77c17860",
   "metadata": {},
   "source": [
    "#### upper and lower boundries"
   ]
  },
  {
   "cell_type": "code",
   "execution_count": 177,
   "id": "ae647205",
   "metadata": {},
   "outputs": [],
   "source": [
    "\"\"\"\n",
    "calculate the boundaries outside which sit the outliers\n",
    "for a Gaussian distribution\n",
    "\"\"\"\n",
    "def normal_boundaries(df, variable, distance):\n",
    "    upper_boundary = df[variable].mean() + distance * df[variable].std()\n",
    "    lower_boundary = df[variable].mean() - distance * df[variable].std()\n",
    "    return upper_boundary, lower_boundary"
   ]
  },
  {
   "cell_type": "code",
   "execution_count": 178,
   "id": "83192190",
   "metadata": {},
   "outputs": [
    {
     "data": {
      "text/plain": [
       "(226164.4864389334, -16947.608538119413)"
      ]
     },
     "execution_count": 178,
     "metadata": {},
     "output_type": "execute_result"
    }
   ],
   "source": [
    "# Upper and lower limits of duration\n",
    "dur_upper_limit, dur_lower_limit = normal_boundaries(df, 'Dur. (ms)', 1.5)\n",
    "dur_upper_limit, dur_lower_limit"
   ]
  },
  {
   "cell_type": "code",
   "execution_count": 179,
   "id": "90bb4c99",
   "metadata": {},
   "outputs": [],
   "source": [
    "# Replacing the outliers by the maximum and minimum limit\n",
    "df['Dur. (ms)']= np.where(df['Dur. (ms)'] > dur_upper_limit, dur_upper_limit,\\\n",
    "                       np.where(df['Dur. (ms)'] < dur_lower_limit, dur_lower_limit, df['Dur. (ms)']))"
   ]
  },
  {
   "cell_type": "markdown",
   "id": "11a7d7de",
   "metadata": {},
   "source": [
    "#### Total data volume"
   ]
  },
  {
   "cell_type": "code",
   "execution_count": 180,
   "id": "7914169d",
   "metadata": {},
   "outputs": [
    {
     "data": {
      "text/plain": [
       "count       150,001.00\n",
       "mean    495,764,644.50\n",
       "std     244,380,987.06\n",
       "min      28,956,107.00\n",
       "25%     284,476,442.00\n",
       "50%     496,861,209.00\n",
       "75%     706,505,411.00\n",
       "max     955,984,776.00\n",
       "dtype: float64"
      ]
     },
     "execution_count": 180,
     "metadata": {},
     "output_type": "execute_result"
    }
   ],
   "source": [
    "x = df['Total_data'] = df['Total UL (Bytes)'] + df['Total DL (Bytes)']\n",
    "x.describe()"
   ]
  },
  {
   "cell_type": "code",
   "execution_count": null,
   "id": "0a592a1b",
   "metadata": {},
   "outputs": [],
   "source": [
    "grouped_data= df.groupby('MSISDN/Number')\n",
    "grouped_data.agg('Total_data').describe()"
   ]
  },
  {
   "cell_type": "code",
   "execution_count": 181,
   "id": "5b78e53f",
   "metadata": {},
   "outputs": [],
   "source": [
    "# total data\n",
    "def total_data(df):\n",
    "    cols = ['Social Media DL (Bytes)', 'Social Media UL (Bytes)', 'Google DL (Bytes)', 'Google UL (Bytes)',\n",
    "            'Email DL (Bytes)', 'Email UL (Bytes)', 'Youtube DL (Bytes)', 'Youtube UL (Bytes)', \n",
    "            'Netflix DL (Bytes)', 'Netflix UL (Bytes)', 'Gaming DL (Bytes)', 'Gaming UL (Bytes)',\n",
    "            'Other DL (Bytes)', 'Other UL (Bytes)', 'Total UL (Bytes)', 'Total DL (Bytes)']\n",
    "    df['Social Media'] = df[cols[0]] + df[cols[1]]\n",
    "    df['Google'] = df[cols[2]] + df[cols[3]]\n",
    "    df['Email'] = df[cols[4]] + df[cols[5]]\n",
    "    df['Youtube'] = df[cols[6]] + df[cols[7]]\n",
    "    df['Netflix'] = df[cols[8]] + df[cols[9]]\n",
    "    df['Gaming'] = df[cols[10]] + df[cols[11]]\n",
    "    df['Other'] = df[cols[12]] + df[cols[13]]\n",
    "    df['Total'] = df[cols[14]] + df[cols[15]]\n",
    "    return df\n",
    "data = total_data(df)"
   ]
  },
  {
   "cell_type": "markdown",
   "id": "abf86c19",
   "metadata": {},
   "source": [
    "#### Total data volume (in Bytes) for Email"
   ]
  },
  {
   "cell_type": "code",
   "execution_count": 247,
   "id": "a5e3d7a1",
   "metadata": {},
   "outputs": [
    {
     "data": {
      "text/plain": [
       "0        3,701,304.00\n",
       "1          937,385.00\n",
       "2        3,363,124.00\n",
       "3        2,070,983.00\n",
       "4        2,110,349.00\n",
       "             ...     \n",
       "149996     690,876.00\n",
       "149997   2,121,718.00\n",
       "149998   2,058,277.00\n",
       "149999   2,850,914.00\n",
       "150000   2,259,102.31\n",
       "Name: Email, Length: 150001, dtype: float64"
      ]
     },
     "execution_count": 247,
     "metadata": {},
     "output_type": "execute_result"
    }
   ],
   "source": [
    "email_data = data['Email']\n",
    "email_data"
   ]
  },
  {
   "cell_type": "code",
   "execution_count": 248,
   "id": "a8f7ec6d",
   "metadata": {},
   "outputs": [
    {
     "data": {
      "text/plain": [
       "count     150,001.00\n",
       "mean    2,259,102.31\n",
       "std     1,071,109.06\n",
       "min         8,359.00\n",
       "25%     1,359,344.00\n",
       "50%     2,263,567.00\n",
       "75%     3,159,818.00\n",
       "max     4,518,036.00\n",
       "Name: Email, dtype: float64"
      ]
     },
     "execution_count": 248,
     "metadata": {},
     "output_type": "execute_result"
    }
   ],
   "source": [
    "email_data.describe()"
   ]
  },
  {
   "cell_type": "code",
   "execution_count": 249,
   "id": "b7521c21",
   "metadata": {},
   "outputs": [
    {
     "data": {
      "text/plain": [
       "<AxesSubplot:>"
      ]
     },
     "execution_count": 249,
     "metadata": {},
     "output_type": "execute_result"
    },
    {
     "data": {
      "image/png": "[encoded data removed]",
      "text/plain": [
       "<Figure size 432x288 with 1 Axes>"
      ]
     },
     "metadata": {},
     "output_type": "display_data"
    }
   ],
   "source": [
    "email_data.hist()"
   ]
  },
  {
   "cell_type": "markdown",
   "id": "d2865317",
   "metadata": {},
   "source": [
    "#### Total data volume (in Bytes) for Social media"
   ]
  },
  {
   "cell_type": "code",
   "execution_count": 250,
   "id": "35f4fd9d",
   "metadata": {},
   "outputs": [
    {
     "data": {
      "text/plain": [
       "0        1,570,185.00\n",
       "1        1,933,278.00\n",
       "2        1,726,277.00\n",
       "3          657,493.00\n",
       "4          912,788.00\n",
       "             ...     \n",
       "149996   3,517,065.00\n",
       "149997   2,352,181.00\n",
       "149998   1,260,239.00\n",
       "149999     823,109.00\n",
       "150000   1,828,250.21\n",
       "Name: Social Media, Length: 150001, dtype: float64"
      ]
     },
     "execution_count": 250,
     "metadata": {},
     "output_type": "execute_result"
    }
   ],
   "source": [
    "social_data = data['Social Media']\n",
    "social_data "
   ]
  },
  {
   "cell_type": "code",
   "execution_count": 251,
   "id": "cadd6dbf",
   "metadata": {},
   "outputs": [
    {
     "data": {
      "text/plain": [
       "count     150,001.00\n",
       "mean    1,828,250.21\n",
       "std     1,035,646.14\n",
       "min         1,563.00\n",
       "25%       932,218.00\n",
       "50%     1,826,471.00\n",
       "75%     2,727,487.00\n",
       "max     3,650,861.00\n",
       "Name: Social Media, dtype: float64"
      ]
     },
     "execution_count": 251,
     "metadata": {},
     "output_type": "execute_result"
    }
   ],
   "source": [
    "social_data.describe()"
   ]
  },
  {
   "cell_type": "code",
   "execution_count": 252,
   "id": "e8c2ded3",
   "metadata": {},
   "outputs": [
    {
     "data": {
      "text/plain": [
       "<AxesSubplot:>"
      ]
     },
     "execution_count": 252,
     "metadata": {},
     "output_type": "execute_result"
    },
    {
     "data": {
      "image/png": "[encoded data removed]",
      "text/plain": [
       "<Figure size 432x288 with 1 Axes>"
      ]
     },
     "metadata": {},
     "output_type": "display_data"
    }
   ],
   "source": [
    "social_data.hist()"
   ]
  },
  {
   "cell_type": "markdown",
   "id": "088974fc",
   "metadata": {},
   "source": [
    "#### Total data volume (in Bytes) for Google"
   ]
  },
  {
   "cell_type": "code",
   "execution_count": 253,
   "id": "f7e597e1",
   "metadata": {},
   "outputs": [
    {
     "data": {
      "text/plain": [
       "0         2,905,912.00\n",
       "1         4,414,096.00\n",
       "2        10,229,119.00\n",
       "3        11,811,761.00\n",
       "4         7,748,843.00\n",
       "              ...     \n",
       "149996   12,784,914.00\n",
       "149997    4,415,361.00\n",
       "149998    6,585,469.00\n",
       "149999    7,757,267.00\n",
       "150000    7,807,294.55\n",
       "Name: Google, Length: 150001, dtype: float64"
      ]
     },
     "execution_count": 253,
     "metadata": {},
     "output_type": "execute_result"
    }
   ],
   "source": [
    "google_data = data['Google']\n",
    "google_data "
   ]
  },
  {
   "cell_type": "code",
   "execution_count": 254,
   "id": "d0843f23",
   "metadata": {},
   "outputs": [
    {
     "data": {
      "text/plain": [
       "count      150,001.00\n",
       "mean     7,807,294.55\n",
       "std      3,516,420.24\n",
       "min         40,330.00\n",
       "25%      4,943,599.00\n",
       "50%      7,812,835.00\n",
       "75%     10,682,796.00\n",
       "max     15,528,782.00\n",
       "Name: Google, dtype: float64"
      ]
     },
     "execution_count": 254,
     "metadata": {},
     "output_type": "execute_result"
    }
   ],
   "source": [
    "google_data.describe()"
   ]
  },
  {
   "cell_type": "code",
   "execution_count": 255,
   "id": "8559b6b9",
   "metadata": {},
   "outputs": [
    {
     "data": {
      "text/plain": [
       "<AxesSubplot:>"
      ]
     },
     "execution_count": 255,
     "metadata": {},
     "output_type": "execute_result"
    },
    {
     "data": {
      "image/png": "[encoded data removed]",
      "text/plain": [
       "<Figure size 432x288 with 1 Axes>"
      ]
     },
     "metadata": {},
     "output_type": "display_data"
    }
   ],
   "source": [
    "google_data.hist()"
   ]
  },
  {
   "cell_type": "markdown",
   "id": "adf2ab86",
   "metadata": {},
   "source": [
    "#### Total data volume (in Bytes) for Youtube"
   ]
  },
  {
   "cell_type": "code",
   "execution_count": 256,
   "id": "711d1b0a",
   "metadata": {},
   "outputs": [
    {
     "data": {
      "text/plain": [
       "0        18,355,943.00\n",
       "1        39,359,124.00\n",
       "2        34,425,237.00\n",
       "3        36,534,765.00\n",
       "4        34,222,253.00\n",
       "              ...     \n",
       "149996   27,955,095.00\n",
       "149997   22,165,518.00\n",
       "149998   24,516,413.00\n",
       "149999   17,122,508.00\n",
       "150000   22,643,482.64\n",
       "Name: Youtube, Length: 150001, dtype: float64"
      ]
     },
     "execution_count": 256,
     "metadata": {},
     "output_type": "execute_result"
    }
   ],
   "source": [
    "youtube_data = data['Youtube']\n",
    "youtube_data"
   ]
  },
  {
   "cell_type": "code",
   "execution_count": 257,
   "id": "91e5aabc",
   "metadata": {},
   "outputs": [
    {
     "data": {
      "text/plain": [
       "count      150,001.00\n",
       "mean    22,643,482.64\n",
       "std      9,246,800.31\n",
       "min         78,903.00\n",
       "25%     15,998,463.00\n",
       "50%     22,661,770.00\n",
       "75%     29,292,604.00\n",
       "max     45,190,078.00\n",
       "Name: Youtube, dtype: float64"
      ]
     },
     "execution_count": 257,
     "metadata": {},
     "output_type": "execute_result"
    }
   ],
   "source": [
    "youtube_data.describe()"
   ]
  },
  {
   "cell_type": "code",
   "execution_count": 258,
   "id": "6ccf8300",
   "metadata": {},
   "outputs": [
    {
     "data": {
      "text/plain": [
       "<AxesSubplot:>"
      ]
     },
     "execution_count": 258,
     "metadata": {},
     "output_type": "execute_result"
    },
    {
     "data": {
      "image/png": "[encoded data removed]",
      "text/plain": [
       "<Figure size 432x288 with 1 Axes>"
      ]
     },
     "metadata": {},
     "output_type": "display_data"
    }
   ],
   "source": [
    "youtube_data.hist()"
   ]
  },
  {
   "cell_type": "markdown",
   "id": "b8309a28",
   "metadata": {},
   "source": [
    "#### Total data volume (in Bytes) for Netflix"
   ]
  },
  {
   "cell_type": "code",
   "execution_count": 259,
   "id": "a787372b",
   "metadata": {},
   "outputs": [
    {
     "data": {
      "text/plain": [
       "0        17,855,187.00\n",
       "1        35,565,545.00\n",
       "2        23,751,202.00\n",
       "3        15,092,588.00\n",
       "4        17,539,799.00\n",
       "              ...     \n",
       "149996   37,561,864.00\n",
       "149997   40,643,294.00\n",
       "149998   15,029,702.00\n",
       "149999   16,494,842.00\n",
       "150000   22,628,606.54\n",
       "Name: Netflix, Length: 150001, dtype: float64"
      ]
     },
     "execution_count": 259,
     "metadata": {},
     "output_type": "execute_result"
    }
   ],
   "source": [
    "netflix_data = data['Netflix']\n",
    "netflix_data"
   ]
  },
  {
   "cell_type": "code",
   "execution_count": 260,
   "id": "fec09833",
   "metadata": {},
   "outputs": [
    {
     "data": {
      "text/plain": [
       "count      150,001.00\n",
       "mean    22,628,606.54\n",
       "std      9,260,820.09\n",
       "min         98,432.00\n",
       "25%     15,979,455.00\n",
       "50%     22,635,545.00\n",
       "75%     29,290,445.00\n",
       "max     45,198,153.00\n",
       "Name: Netflix, dtype: float64"
      ]
     },
     "execution_count": 260,
     "metadata": {},
     "output_type": "execute_result"
    }
   ],
   "source": [
    "netflix_data.describe()"
   ]
  },
  {
   "cell_type": "code",
   "execution_count": 261,
   "id": "ad9858cc",
   "metadata": {},
   "outputs": [
    {
     "data": {
      "text/plain": [
       "<AxesSubplot:>"
      ]
     },
     "execution_count": 261,
     "metadata": {},
     "output_type": "execute_result"
    },
    {
     "data": {
      "image/png": "[encoded data removed]",
      "text/plain": [
       "<Figure size 432x288 with 1 Axes>"
      ]
     },
     "metadata": {},
     "output_type": "display_data"
    }
   ],
   "source": [
    "netflix_data.hist()"
   ]
  },
  {
   "cell_type": "markdown",
   "id": "af3dfaa2",
   "metadata": {},
   "source": [
    "#### Total data volume (in Bytes) for Gaming"
   ]
  },
  {
   "cell_type": "code",
   "execution_count": 262,
   "id": "e170e207",
   "metadata": {},
   "outputs": [
    {
     "data": {
      "text/plain": [
       "0        292,426,453.00\n",
       "1        609,920,783.00\n",
       "2        229,980,251.00\n",
       "3        810,387,875.00\n",
       "4        531,237,049.00\n",
       "              ...      \n",
       "149996   535,806,880.00\n",
       "149997   631,628,095.00\n",
       "149998   566,933,800.00\n",
       "149999   355,066,446.00\n",
       "150000   430,333,100.71\n",
       "Name: Gaming, Length: 150001, dtype: float64"
      ]
     },
     "execution_count": 262,
     "metadata": {},
     "output_type": "execute_result"
    }
   ],
   "source": [
    "gaming_data = data['Gaming']\n",
    "gaming_data"
   ]
  },
  {
   "cell_type": "code",
   "execution_count": 263,
   "id": "d798189a",
   "metadata": {},
   "outputs": [
    {
     "data": {
      "text/plain": [
       "count       150,001.00\n",
       "mean    430,333,100.71\n",
       "std     244,019,924.02\n",
       "min         306,358.00\n",
       "25%     218,727,939.00\n",
       "50%     431,614,977.00\n",
       "75%     641,415,878.00\n",
       "max     859,202,784.00\n",
       "Name: Gaming, dtype: float64"
      ]
     },
     "execution_count": 263,
     "metadata": {},
     "output_type": "execute_result"
    }
   ],
   "source": [
    "gaming_data.describe()"
   ]
  },
  {
   "cell_type": "code",
   "execution_count": 264,
   "id": "f2767931",
   "metadata": {},
   "outputs": [
    {
     "data": {
      "text/plain": [
       "<AxesSubplot:>"
      ]
     },
     "execution_count": 264,
     "metadata": {},
     "output_type": "execute_result"
    },
    {
     "data": {
      "image/png": "[encoded data removed]",
      "text/plain": [
       "<Figure size 432x288 with 1 Axes>"
      ]
     },
     "metadata": {},
     "output_type": "display_data"
    }
   ],
   "source": [
    "gaming_data.hist()"
   ]
  },
  {
   "cell_type": "markdown",
   "id": "a04a0bf6",
   "metadata": {},
   "source": [
    "# Task 2 - User Engagement analysis"
   ]
  },
  {
   "cell_type": "markdown",
   "id": "8bb06df4",
   "metadata": {},
   "source": [
    "Track the user’s engagement using the following engagement metrics: \n",
    "1. sessions frequency \n",
    "2. the duration of the session \n",
    "3. the sessions total traffic (download and upload (bytes))"
   ]
  },
  {
   "cell_type": "markdown",
   "id": "88f00953",
   "metadata": {},
   "source": [
    "#### Task 2.1"
   ]
  },
  {
   "cell_type": "markdown",
   "id": "7ce5c035",
   "metadata": {},
   "source": [
    "Aggregate the above metrics per customer id (MSISDN) and report the top 10 customers per engagement metric"
   ]
  },
  {
   "cell_type": "code",
   "execution_count": 186,
   "id": "03e4dc05",
   "metadata": {},
   "outputs": [
    {
     "data": {
      "text/html": [
       "<div>\n",
       "<style scoped>\n",
       "    .dataframe tbody tr th:only-of-type {\n",
       "        vertical-align: middle;\n",
       "    }\n",
       "\n",
       "    .dataframe tbody tr th {\n",
       "        vertical-align: top;\n",
       "    }\n",
       "\n",
       "    .dataframe thead th {\n",
       "        text-align: right;\n",
       "    }\n",
       "</style>\n",
       "<table border=\"1\" class=\"dataframe\">\n",
       "  <thead>\n",
       "    <tr style=\"text-align: right;\">\n",
       "      <th></th>\n",
       "      <th>Bearer Id</th>\n",
       "      <th>Dur. (ms).1</th>\n",
       "      <th>Total</th>\n",
       "    </tr>\n",
       "    <tr>\n",
       "      <th>MSISDN/Number</th>\n",
       "      <th></th>\n",
       "      <th></th>\n",
       "      <th></th>\n",
       "    </tr>\n",
       "  </thead>\n",
       "  <tbody>\n",
       "    <tr>\n",
       "      <th>33601001722</th>\n",
       "      <td>1</td>\n",
       "      <td>116,720,140.00</td>\n",
       "      <td>878,690,574.00</td>\n",
       "    </tr>\n",
       "    <tr>\n",
       "      <th>33601001754</th>\n",
       "      <td>1</td>\n",
       "      <td>181,230,963.00</td>\n",
       "      <td>156,859,643.00</td>\n",
       "    </tr>\n",
       "    <tr>\n",
       "      <th>33601002511</th>\n",
       "      <td>1</td>\n",
       "      <td>134,969,374.00</td>\n",
       "      <td>595,966,483.00</td>\n",
       "    </tr>\n",
       "    <tr>\n",
       "      <th>33601007832</th>\n",
       "      <td>1</td>\n",
       "      <td>49,878,024.00</td>\n",
       "      <td>422,320,698.00</td>\n",
       "    </tr>\n",
       "    <tr>\n",
       "      <th>33601008617</th>\n",
       "      <td>2</td>\n",
       "      <td>37,104,453.00</td>\n",
       "      <td>1,457,410,944.00</td>\n",
       "    </tr>\n",
       "  </tbody>\n",
       "</table>\n",
       "</div>"
      ],
      "text/plain": [
       "               Bearer Id    Dur. (ms).1            Total\n",
       "MSISDN/Number                                           \n",
       "33601001722            1 116,720,140.00   878,690,574.00\n",
       "33601001754            1 181,230,963.00   156,859,643.00\n",
       "33601002511            1 134,969,374.00   595,966,483.00\n",
       "33601007832            1  49,878,024.00   422,320,698.00\n",
       "33601008617            2  37,104,453.00 1,457,410,944.00"
      ]
     },
     "execution_count": 186,
     "metadata": {},
     "output_type": "execute_result"
    }
   ],
   "source": [
    "df2 = df.copy()\n",
    "df2['Total'] = df2['Total UL (Bytes)'] + df2['Total DL (Bytes)']\n",
    "df2 = df2.groupby('MSISDN/Number')\\\n",
    "    .agg({\"Bearer Id\": \"count\", 'Dur. (ms).1':'sum', 'Total':'sum'})\n",
    "\n",
    "df2.head()"
   ]
  },
  {
   "cell_type": "code",
   "execution_count": 35,
   "id": "d93c8454",
   "metadata": {},
   "outputs": [
    {
     "data": {
      "text/html": [
       "<div>\n",
       "<style scoped>\n",
       "    .dataframe tbody tr th:only-of-type {\n",
       "        vertical-align: middle;\n",
       "    }\n",
       "\n",
       "    .dataframe tbody tr th {\n",
       "        vertical-align: top;\n",
       "    }\n",
       "\n",
       "    .dataframe thead th {\n",
       "        text-align: right;\n",
       "    }\n",
       "</style>\n",
       "<table border=\"1\" class=\"dataframe\">\n",
       "  <thead>\n",
       "    <tr style=\"text-align: right;\">\n",
       "      <th></th>\n",
       "      <th>Bearer Id</th>\n",
       "      <th>Dur. (ms).1</th>\n",
       "      <th>Total</th>\n",
       "    </tr>\n",
       "    <tr>\n",
       "      <th>MSISDN/Number</th>\n",
       "      <th></th>\n",
       "      <th></th>\n",
       "      <th></th>\n",
       "    </tr>\n",
       "  </thead>\n",
       "  <tbody>\n",
       "    <tr>\n",
       "      <th>33663706799</th>\n",
       "      <td>1067</td>\n",
       "      <td>7.265611e+10</td>\n",
       "      <td>5.319636e+11</td>\n",
       "    </tr>\n",
       "    <tr>\n",
       "      <th>33626320676</th>\n",
       "      <td>18</td>\n",
       "      <td>8.791937e+09</td>\n",
       "      <td>7.971167e+09</td>\n",
       "    </tr>\n",
       "    <tr>\n",
       "      <th>33614892860</th>\n",
       "      <td>17</td>\n",
       "      <td>9.966906e+09</td>\n",
       "      <td>8.846226e+09</td>\n",
       "    </tr>\n",
       "    <tr>\n",
       "      <th>33625779332</th>\n",
       "      <td>17</td>\n",
       "      <td>1.855376e+10</td>\n",
       "      <td>8.499621e+09</td>\n",
       "    </tr>\n",
       "    <tr>\n",
       "      <th>33659725664</th>\n",
       "      <td>16</td>\n",
       "      <td>4.035436e+09</td>\n",
       "      <td>7.705863e+09</td>\n",
       "    </tr>\n",
       "    <tr>\n",
       "      <th>33675877202</th>\n",
       "      <td>15</td>\n",
       "      <td>4.865954e+09</td>\n",
       "      <td>7.891111e+09</td>\n",
       "    </tr>\n",
       "    <tr>\n",
       "      <th>33760536639</th>\n",
       "      <td>15</td>\n",
       "      <td>9.279442e+09</td>\n",
       "      <td>8.514774e+09</td>\n",
       "    </tr>\n",
       "    <tr>\n",
       "      <th>33667163239</th>\n",
       "      <td>13</td>\n",
       "      <td>8.744922e+09</td>\n",
       "      <td>5.618394e+09</td>\n",
       "    </tr>\n",
       "    <tr>\n",
       "      <th>33604515716</th>\n",
       "      <td>12</td>\n",
       "      <td>5.207995e+09</td>\n",
       "      <td>5.487855e+09</td>\n",
       "    </tr>\n",
       "    <tr>\n",
       "      <th>33760413819</th>\n",
       "      <td>12</td>\n",
       "      <td>5.321674e+09</td>\n",
       "      <td>7.132371e+09</td>\n",
       "    </tr>\n",
       "  </tbody>\n",
       "</table>\n",
       "</div>"
      ],
      "text/plain": [
       "               Bearer Id   Dur. (ms).1         Total\n",
       "MSISDN/Number                                       \n",
       "33663706799         1067  7.265611e+10  5.319636e+11\n",
       "33626320676           18  8.791937e+09  7.971167e+09\n",
       "33614892860           17  9.966906e+09  8.846226e+09\n",
       "33625779332           17  1.855376e+10  8.499621e+09\n",
       "33659725664           16  4.035436e+09  7.705863e+09\n",
       "33675877202           15  4.865954e+09  7.891111e+09\n",
       "33760536639           15  9.279442e+09  8.514774e+09\n",
       "33667163239           13  8.744922e+09  5.618394e+09\n",
       "33604515716           12  5.207995e+09  5.487855e+09\n",
       "33760413819           12  5.321674e+09  7.132371e+09"
      ]
     },
     "execution_count": 35,
     "metadata": {},
     "output_type": "execute_result"
    }
   ],
   "source": [
    "### Top 10 Beaerer id\n",
    "df2.sort_values(by='Bearer Id', ascending=False).head(10)"
   ]
  },
  {
   "cell_type": "code",
   "execution_count": 36,
   "id": "9fb2ca21",
   "metadata": {},
   "outputs": [
    {
     "data": {
      "text/html": [
       "<div>\n",
       "<style scoped>\n",
       "    .dataframe tbody tr th:only-of-type {\n",
       "        vertical-align: middle;\n",
       "    }\n",
       "\n",
       "    .dataframe tbody tr th {\n",
       "        vertical-align: top;\n",
       "    }\n",
       "\n",
       "    .dataframe thead th {\n",
       "        text-align: right;\n",
       "    }\n",
       "</style>\n",
       "<table border=\"1\" class=\"dataframe\">\n",
       "  <thead>\n",
       "    <tr style=\"text-align: right;\">\n",
       "      <th></th>\n",
       "      <th>Bearer Id</th>\n",
       "      <th>Dur. (ms).1</th>\n",
       "      <th>Total</th>\n",
       "    </tr>\n",
       "    <tr>\n",
       "      <th>MSISDN/Number</th>\n",
       "      <th></th>\n",
       "      <th></th>\n",
       "      <th></th>\n",
       "    </tr>\n",
       "  </thead>\n",
       "  <tbody>\n",
       "    <tr>\n",
       "      <th>33663706799</th>\n",
       "      <td>1067</td>\n",
       "      <td>7.265611e+10</td>\n",
       "      <td>5.319636e+11</td>\n",
       "    </tr>\n",
       "    <tr>\n",
       "      <th>33625779332</th>\n",
       "      <td>17</td>\n",
       "      <td>1.855376e+10</td>\n",
       "      <td>8.499621e+09</td>\n",
       "    </tr>\n",
       "    <tr>\n",
       "      <th>33614892860</th>\n",
       "      <td>17</td>\n",
       "      <td>9.966906e+09</td>\n",
       "      <td>8.846226e+09</td>\n",
       "    </tr>\n",
       "    <tr>\n",
       "      <th>33760536639</th>\n",
       "      <td>15</td>\n",
       "      <td>9.279442e+09</td>\n",
       "      <td>8.514774e+09</td>\n",
       "    </tr>\n",
       "    <tr>\n",
       "      <th>33626320676</th>\n",
       "      <td>18</td>\n",
       "      <td>8.791937e+09</td>\n",
       "      <td>7.971167e+09</td>\n",
       "    </tr>\n",
       "    <tr>\n",
       "      <th>33667163239</th>\n",
       "      <td>13</td>\n",
       "      <td>8.744922e+09</td>\n",
       "      <td>5.618394e+09</td>\n",
       "    </tr>\n",
       "    <tr>\n",
       "      <th>33662840755</th>\n",
       "      <td>9</td>\n",
       "      <td>6.614274e+09</td>\n",
       "      <td>4.000098e+09</td>\n",
       "    </tr>\n",
       "    <tr>\n",
       "      <th>33664693736</th>\n",
       "      <td>9</td>\n",
       "      <td>6.288736e+09</td>\n",
       "      <td>5.682007e+09</td>\n",
       "    </tr>\n",
       "    <tr>\n",
       "      <th>33603127838</th>\n",
       "      <td>12</td>\n",
       "      <td>6.287767e+09</td>\n",
       "      <td>4.976195e+09</td>\n",
       "    </tr>\n",
       "    <tr>\n",
       "      <th>33667456716</th>\n",
       "      <td>6</td>\n",
       "      <td>5.649885e+09</td>\n",
       "      <td>2.600522e+09</td>\n",
       "    </tr>\n",
       "  </tbody>\n",
       "</table>\n",
       "</div>"
      ],
      "text/plain": [
       "               Bearer Id   Dur. (ms).1         Total\n",
       "MSISDN/Number                                       \n",
       "33663706799         1067  7.265611e+10  5.319636e+11\n",
       "33625779332           17  1.855376e+10  8.499621e+09\n",
       "33614892860           17  9.966906e+09  8.846226e+09\n",
       "33760536639           15  9.279442e+09  8.514774e+09\n",
       "33626320676           18  8.791937e+09  7.971167e+09\n",
       "33667163239           13  8.744922e+09  5.618394e+09\n",
       "33662840755            9  6.614274e+09  4.000098e+09\n",
       "33664693736            9  6.288736e+09  5.682007e+09\n",
       "33603127838           12  6.287767e+09  4.976195e+09\n",
       "33667456716            6  5.649885e+09  2.600522e+09"
      ]
     },
     "execution_count": 36,
     "metadata": {},
     "output_type": "execute_result"
    }
   ],
   "source": [
    "### Top 10 Duration of session\n",
    "df2.sort_values(by='Dur. (ms).1', ascending=False).head(10)"
   ]
  },
  {
   "cell_type": "code",
   "execution_count": 39,
   "id": "6413862b",
   "metadata": {},
   "outputs": [
    {
     "data": {
      "text/html": [
       "<div>\n",
       "<style scoped>\n",
       "    .dataframe tbody tr th:only-of-type {\n",
       "        vertical-align: middle;\n",
       "    }\n",
       "\n",
       "    .dataframe tbody tr th {\n",
       "        vertical-align: top;\n",
       "    }\n",
       "\n",
       "    .dataframe thead th {\n",
       "        text-align: right;\n",
       "    }\n",
       "</style>\n",
       "<table border=\"1\" class=\"dataframe\">\n",
       "  <thead>\n",
       "    <tr style=\"text-align: right;\">\n",
       "      <th></th>\n",
       "      <th>Bearer Id</th>\n",
       "      <th>Dur. (ms).1</th>\n",
       "      <th>Total</th>\n",
       "    </tr>\n",
       "    <tr>\n",
       "      <th>MSISDN/Number</th>\n",
       "      <th></th>\n",
       "      <th></th>\n",
       "      <th></th>\n",
       "    </tr>\n",
       "  </thead>\n",
       "  <tbody>\n",
       "    <tr>\n",
       "      <th>33663706799</th>\n",
       "      <td>1067</td>\n",
       "      <td>7.265611e+10</td>\n",
       "      <td>5.319636e+11</td>\n",
       "    </tr>\n",
       "    <tr>\n",
       "      <th>33614892860</th>\n",
       "      <td>17</td>\n",
       "      <td>9.966906e+09</td>\n",
       "      <td>8.846226e+09</td>\n",
       "    </tr>\n",
       "    <tr>\n",
       "      <th>33760536639</th>\n",
       "      <td>15</td>\n",
       "      <td>9.279442e+09</td>\n",
       "      <td>8.514774e+09</td>\n",
       "    </tr>\n",
       "    <tr>\n",
       "      <th>33625779332</th>\n",
       "      <td>17</td>\n",
       "      <td>1.855376e+10</td>\n",
       "      <td>8.499621e+09</td>\n",
       "    </tr>\n",
       "    <tr>\n",
       "      <th>33626320676</th>\n",
       "      <td>18</td>\n",
       "      <td>8.791937e+09</td>\n",
       "      <td>7.971167e+09</td>\n",
       "    </tr>\n",
       "    <tr>\n",
       "      <th>33675877202</th>\n",
       "      <td>15</td>\n",
       "      <td>4.865954e+09</td>\n",
       "      <td>7.891111e+09</td>\n",
       "    </tr>\n",
       "    <tr>\n",
       "      <th>33659725664</th>\n",
       "      <td>16</td>\n",
       "      <td>4.035436e+09</td>\n",
       "      <td>7.705863e+09</td>\n",
       "    </tr>\n",
       "    <tr>\n",
       "      <th>33666464084</th>\n",
       "      <td>11</td>\n",
       "      <td>4.536764e+09</td>\n",
       "      <td>7.308501e+09</td>\n",
       "    </tr>\n",
       "    <tr>\n",
       "      <th>33760413819</th>\n",
       "      <td>12</td>\n",
       "      <td>5.321674e+09</td>\n",
       "      <td>7.132371e+09</td>\n",
       "    </tr>\n",
       "    <tr>\n",
       "      <th>33664712899</th>\n",
       "      <td>11</td>\n",
       "      <td>2.927790e+09</td>\n",
       "      <td>6.872018e+09</td>\n",
       "    </tr>\n",
       "  </tbody>\n",
       "</table>\n",
       "</div>"
      ],
      "text/plain": [
       "               Bearer Id   Dur. (ms).1         Total\n",
       "MSISDN/Number                                       \n",
       "33663706799         1067  7.265611e+10  5.319636e+11\n",
       "33614892860           17  9.966906e+09  8.846226e+09\n",
       "33760536639           15  9.279442e+09  8.514774e+09\n",
       "33625779332           17  1.855376e+10  8.499621e+09\n",
       "33626320676           18  8.791937e+09  7.971167e+09\n",
       "33675877202           15  4.865954e+09  7.891111e+09\n",
       "33659725664           16  4.035436e+09  7.705863e+09\n",
       "33666464084           11  4.536764e+09  7.308501e+09\n",
       "33760413819           12  5.321674e+09  7.132371e+09\n",
       "33664712899           11  2.927790e+09  6.872018e+09"
      ]
     },
     "execution_count": 39,
     "metadata": {},
     "output_type": "execute_result"
    }
   ],
   "source": [
    "#the sessions total traffic (download and upload (bytes))\n",
    "df2.sort_values(by='Total', ascending=False).head(10)"
   ]
  },
  {
   "cell_type": "code",
   "execution_count": 44,
   "id": "95c966e0",
   "metadata": {},
   "outputs": [
    {
     "data": {
      "text/html": [
       "<div>\n",
       "<style scoped>\n",
       "    .dataframe tbody tr th:only-of-type {\n",
       "        vertical-align: middle;\n",
       "    }\n",
       "\n",
       "    .dataframe tbody tr th {\n",
       "        vertical-align: top;\n",
       "    }\n",
       "\n",
       "    .dataframe thead th {\n",
       "        text-align: right;\n",
       "    }\n",
       "</style>\n",
       "<table border=\"1\" class=\"dataframe\">\n",
       "  <thead>\n",
       "    <tr style=\"text-align: right;\">\n",
       "      <th></th>\n",
       "      <th>Bearer Id</th>\n",
       "      <th>Dur. (ms).1</th>\n",
       "      <th>Total</th>\n",
       "    </tr>\n",
       "    <tr>\n",
       "      <th>MSISDN/Number</th>\n",
       "      <th></th>\n",
       "      <th></th>\n",
       "      <th></th>\n",
       "    </tr>\n",
       "  </thead>\n",
       "  <tbody>\n",
       "    <tr>\n",
       "      <th>33601001722</th>\n",
       "      <td>1</td>\n",
       "      <td>116720140.0</td>\n",
       "      <td>8.786906e+08</td>\n",
       "    </tr>\n",
       "    <tr>\n",
       "      <th>33601001754</th>\n",
       "      <td>1</td>\n",
       "      <td>181230963.0</td>\n",
       "      <td>1.568596e+08</td>\n",
       "    </tr>\n",
       "    <tr>\n",
       "      <th>33601002511</th>\n",
       "      <td>1</td>\n",
       "      <td>134969374.0</td>\n",
       "      <td>5.959665e+08</td>\n",
       "    </tr>\n",
       "    <tr>\n",
       "      <th>33601007832</th>\n",
       "      <td>1</td>\n",
       "      <td>49878024.0</td>\n",
       "      <td>4.223207e+08</td>\n",
       "    </tr>\n",
       "    <tr>\n",
       "      <th>33601008617</th>\n",
       "      <td>1</td>\n",
       "      <td>37104453.0</td>\n",
       "      <td>1.457411e+09</td>\n",
       "    </tr>\n",
       "    <tr>\n",
       "      <th>...</th>\n",
       "      <td>...</td>\n",
       "      <td>...</td>\n",
       "      <td>...</td>\n",
       "    </tr>\n",
       "    <tr>\n",
       "      <th>33789996170</th>\n",
       "      <td>1</td>\n",
       "      <td>8810688.0</td>\n",
       "      <td>7.146416e+08</td>\n",
       "    </tr>\n",
       "    <tr>\n",
       "      <th>33789997247</th>\n",
       "      <td>1</td>\n",
       "      <td>140988659.0</td>\n",
       "      <td>4.803073e+08</td>\n",
       "    </tr>\n",
       "    <tr>\n",
       "      <th>3197020876596</th>\n",
       "      <td>1</td>\n",
       "      <td>877385325.0</td>\n",
       "      <td>2.321240e+08</td>\n",
       "    </tr>\n",
       "    <tr>\n",
       "      <th>337000037000919</th>\n",
       "      <td>1</td>\n",
       "      <td>253030201.0</td>\n",
       "      <td>5.962878e+08</td>\n",
       "    </tr>\n",
       "    <tr>\n",
       "      <th>882397108489451</th>\n",
       "      <td>1</td>\n",
       "      <td>869844200.0</td>\n",
       "      <td>1.391536e+08</td>\n",
       "    </tr>\n",
       "  </tbody>\n",
       "</table>\n",
       "<p>106856 rows × 3 columns</p>\n",
       "</div>"
      ],
      "text/plain": [
       "                 Bearer Id  Dur. (ms).1         Total\n",
       "MSISDN/Number                                        \n",
       "33601001722              1  116720140.0  8.786906e+08\n",
       "33601001754              1  181230963.0  1.568596e+08\n",
       "33601002511              1  134969374.0  5.959665e+08\n",
       "33601007832              1   49878024.0  4.223207e+08\n",
       "33601008617              1   37104453.0  1.457411e+09\n",
       "...                    ...          ...           ...\n",
       "33789996170              1    8810688.0  7.146416e+08\n",
       "33789997247              1  140988659.0  4.803073e+08\n",
       "3197020876596            1  877385325.0  2.321240e+08\n",
       "337000037000919          1  253030201.0  5.962878e+08\n",
       "882397108489451          1  869844200.0  1.391536e+08\n",
       "\n",
       "[106856 rows x 3 columns]"
      ]
     },
     "execution_count": 44,
     "metadata": {},
     "output_type": "execute_result"
    }
   ],
   "source": [
    "# join customers per engagement metric\n",
    "sessions_frequency = df2.groupby('MSISDN/Number').agg({\"Bearer Id\": \"count\"})\n",
    "session_duration = df2.groupby('MSISDN/Number').agg({\"Dur. (ms).1\": \"sum\"})\n",
    "total_traffic = df2.groupby('MSISDN/Number').agg({\"Total\": \"sum\"})\n",
    "joined_data =pd.DataFrame(sessions_frequency.join(session_duration, how='left')).join(total_traffic, how='left')\n",
    "joined_data"
   ]
  },
  {
   "cell_type": "code",
   "execution_count": 45,
   "id": "018541b7",
   "metadata": {},
   "outputs": [
    {
     "data": {
      "text/html": [
       "<div>\n",
       "<style scoped>\n",
       "    .dataframe tbody tr th:only-of-type {\n",
       "        vertical-align: middle;\n",
       "    }\n",
       "\n",
       "    .dataframe tbody tr th {\n",
       "        vertical-align: top;\n",
       "    }\n",
       "\n",
       "    .dataframe thead th {\n",
       "        text-align: right;\n",
       "    }\n",
       "</style>\n",
       "<table border=\"1\" class=\"dataframe\">\n",
       "  <thead>\n",
       "    <tr style=\"text-align: right;\">\n",
       "      <th></th>\n",
       "      <th>Bearer Id</th>\n",
       "      <th>Dur. (ms).1</th>\n",
       "      <th>Total</th>\n",
       "    </tr>\n",
       "  </thead>\n",
       "  <tbody>\n",
       "    <tr>\n",
       "      <th>count</th>\n",
       "      <td>106856.0</td>\n",
       "      <td>1.068560e+05</td>\n",
       "      <td>1.068560e+05</td>\n",
       "    </tr>\n",
       "    <tr>\n",
       "      <th>mean</th>\n",
       "      <td>1.0</td>\n",
       "      <td>1.468467e+08</td>\n",
       "      <td>6.959384e+08</td>\n",
       "    </tr>\n",
       "    <tr>\n",
       "      <th>std</th>\n",
       "      <td>0.0</td>\n",
       "      <td>2.897122e+08</td>\n",
       "      <td>1.697806e+09</td>\n",
       "    </tr>\n",
       "    <tr>\n",
       "      <th>min</th>\n",
       "      <td>1.0</td>\n",
       "      <td>7.142988e+06</td>\n",
       "      <td>3.324901e+07</td>\n",
       "    </tr>\n",
       "    <tr>\n",
       "      <th>25%</th>\n",
       "      <td>1.0</td>\n",
       "      <td>7.130834e+07</td>\n",
       "      <td>3.585617e+08</td>\n",
       "    </tr>\n",
       "    <tr>\n",
       "      <th>50%</th>\n",
       "      <td>1.0</td>\n",
       "      <td>1.027402e+08</td>\n",
       "      <td>6.179299e+08</td>\n",
       "    </tr>\n",
       "    <tr>\n",
       "      <th>75%</th>\n",
       "      <td>1.0</td>\n",
       "      <td>1.728000e+08</td>\n",
       "      <td>8.574377e+08</td>\n",
       "    </tr>\n",
       "    <tr>\n",
       "      <th>max</th>\n",
       "      <td>1.0</td>\n",
       "      <td>7.265611e+10</td>\n",
       "      <td>5.319636e+11</td>\n",
       "    </tr>\n",
       "  </tbody>\n",
       "</table>\n",
       "</div>"
      ],
      "text/plain": [
       "       Bearer Id   Dur. (ms).1         Total\n",
       "count   106856.0  1.068560e+05  1.068560e+05\n",
       "mean         1.0  1.468467e+08  6.959384e+08\n",
       "std          0.0  2.897122e+08  1.697806e+09\n",
       "min          1.0  7.142988e+06  3.324901e+07\n",
       "25%          1.0  7.130834e+07  3.585617e+08\n",
       "50%          1.0  1.027402e+08  6.179299e+08\n",
       "75%          1.0  1.728000e+08  8.574377e+08\n",
       "max          1.0  7.265611e+10  5.319636e+11"
      ]
     },
     "execution_count": 45,
     "metadata": {},
     "output_type": "execute_result"
    }
   ],
   "source": [
    "joined_data.describe() #describe the joined customers per engagement metric"
   ]
  },
  {
   "cell_type": "markdown",
   "id": "10e5d0d3",
   "metadata": {},
   "source": [
    "Normalize each engagement metric and run a k-means (k=3) to classify customers in three groups of engagement"
   ]
  },
  {
   "cell_type": "code",
   "execution_count": 47,
   "id": "f8f266bc",
   "metadata": {},
   "outputs": [],
   "source": [
    "min_max_scaler = preprocessing.MinMaxScaler()\n",
    "df_values = df2.values\n",
    "\n",
    "scalled_values = min_max_scaler.fit_transform(df_values)\n",
    "df_normalized = pd.DataFrame(data=scalled_values, columns=df2.columns)\n",
    "\n",
    "\n",
    "kmeans = KMeans(n_clusters=3).fit(df_normalized)"
   ]
  },
  {
   "cell_type": "code",
   "execution_count": 48,
   "id": "a8b9a6ab",
   "metadata": {},
   "outputs": [
    {
     "name": "stdout",
     "output_type": "stream",
     "text": [
      "[[2.33940270e-04 1.49372140e-03 1.09791323e-03]\n",
      " [1.00000000e+00 1.00000000e+00 1.00000000e+00]\n",
      " [2.13643022e-03 7.39096546e-03 3.04374266e-03]]\n"
     ]
    }
   ],
   "source": [
    "print(kmeans.cluster_centers_)"
   ]
  },
  {
   "cell_type": "markdown",
   "id": "3f2b3223",
   "metadata": {},
   "source": [
    "Compute the minimum, maximum, average & total non- normalized metrics for each cluster.\n",
    "Interpret your results visually with accompanying text explaining your findings."
   ]
  },
  {
   "cell_type": "code",
   "execution_count": 58,
   "id": "cc1d63cd",
   "metadata": {},
   "outputs": [],
   "source": [
    "cluster = kmeans.predict(df_normalized)\n",
    "eng_df = df2.copy()\n",
    "eng_df['cluster-engagement']  = cluster\n"
   ]
  },
  {
   "cell_type": "code",
   "execution_count": 59,
   "id": "c0c84f97",
   "metadata": {},
   "outputs": [],
   "source": [
    "cluster_group_df = eng_df.groupby('cluster-engagement')\n",
    "cluster_0 = cluster_group_df.get_group(0)\n",
    "cluster_1 = cluster_group_df.get_group(1)\n",
    "cluster_2 = cluster_group_df.get_group(2)"
   ]
  },
  {
   "cell_type": "code",
   "execution_count": 63,
   "id": "664508e8",
   "metadata": {},
   "outputs": [
    {
     "data": {
      "image/png": "[encoded data removed]",
      "text/plain": [
       "<Figure size 864x504 with 1 Axes>"
      ]
     },
     "metadata": {
      "needs_background": "light"
     },
     "output_type": "display_data"
    }
   ],
   "source": [
    "# Cluster \n",
    "plot_scatter(eng_df,\"Bearer Id\", \"Total\",\"Clustering with Kmean\", \"cluster-engagement\", \"\")"
   ]
  },
  {
   "cell_type": "code",
   "execution_count": 64,
   "id": "ca697107",
   "metadata": {},
   "outputs": [
    {
     "data": {
      "text/html": [
       "<div>\n",
       "<style scoped>\n",
       "    .dataframe tbody tr th:only-of-type {\n",
       "        vertical-align: middle;\n",
       "    }\n",
       "\n",
       "    .dataframe tbody tr th {\n",
       "        vertical-align: top;\n",
       "    }\n",
       "\n",
       "    .dataframe thead th {\n",
       "        text-align: right;\n",
       "    }\n",
       "</style>\n",
       "<table border=\"1\" class=\"dataframe\">\n",
       "  <thead>\n",
       "    <tr style=\"text-align: right;\">\n",
       "      <th></th>\n",
       "      <th>Bearer Id</th>\n",
       "      <th>Dur. (ms).1</th>\n",
       "      <th>Total</th>\n",
       "      <th>cluster-engagement</th>\n",
       "    </tr>\n",
       "  </thead>\n",
       "  <tbody>\n",
       "    <tr>\n",
       "      <th>count</th>\n",
       "      <td>99,212.00</td>\n",
       "      <td>99,212.00</td>\n",
       "      <td>99,212.00</td>\n",
       "      <td>99,212.00</td>\n",
       "    </tr>\n",
       "    <tr>\n",
       "      <th>mean</th>\n",
       "      <td>1.25</td>\n",
       "      <td>115,587,132.79</td>\n",
       "      <td>617,096,507.70</td>\n",
       "      <td>0.00</td>\n",
       "    </tr>\n",
       "    <tr>\n",
       "      <th>std</th>\n",
       "      <td>0.49</td>\n",
       "      <td>72,514,272.39</td>\n",
       "      <td>361,062,664.04</td>\n",
       "      <td>0.00</td>\n",
       "    </tr>\n",
       "    <tr>\n",
       "      <th>min</th>\n",
       "      <td>1.00</td>\n",
       "      <td>7,142,988.00</td>\n",
       "      <td>33,249,009.00</td>\n",
       "      <td>0.00</td>\n",
       "    </tr>\n",
       "    <tr>\n",
       "      <th>25%</th>\n",
       "      <td>1.00</td>\n",
       "      <td>63,657,576.50</td>\n",
       "      <td>340,106,699.75</td>\n",
       "      <td>0.00</td>\n",
       "    </tr>\n",
       "    <tr>\n",
       "      <th>50%</th>\n",
       "      <td>1.00</td>\n",
       "      <td>95,747,968.50</td>\n",
       "      <td>587,671,767.50</td>\n",
       "      <td>0.00</td>\n",
       "    </tr>\n",
       "    <tr>\n",
       "      <th>75%</th>\n",
       "      <td>1.00</td>\n",
       "      <td>162,510,169.50</td>\n",
       "      <td>816,527,954.75</td>\n",
       "      <td>0.00</td>\n",
       "    </tr>\n",
       "    <tr>\n",
       "      <th>max</th>\n",
       "      <td>6.00</td>\n",
       "      <td>404,446,629.00</td>\n",
       "      <td>3,271,920,363.00</td>\n",
       "      <td>0.00</td>\n",
       "    </tr>\n",
       "  </tbody>\n",
       "</table>\n",
       "</div>"
      ],
      "text/plain": [
       "       Bearer Id    Dur. (ms).1            Total  cluster-engagement\n",
       "count  99,212.00      99,212.00        99,212.00           99,212.00\n",
       "mean        1.25 115,587,132.79   617,096,507.70                0.00\n",
       "std         0.49  72,514,272.39   361,062,664.04                0.00\n",
       "min         1.00   7,142,988.00    33,249,009.00                0.00\n",
       "25%         1.00  63,657,576.50   340,106,699.75                0.00\n",
       "50%         1.00  95,747,968.50   587,671,767.50                0.00\n",
       "75%         1.00 162,510,169.50   816,527,954.75                0.00\n",
       "max         6.00 404,446,629.00 3,271,920,363.00                0.00"
      ]
     },
     "execution_count": 64,
     "metadata": {},
     "output_type": "execute_result"
    }
   ],
   "source": [
    "# cluster 0\n",
    "cluster_0.describe()"
   ]
  },
  {
   "cell_type": "code",
   "execution_count": 65,
   "id": "d28feeae",
   "metadata": {},
   "outputs": [
    {
     "data": {
      "text/html": [
       "<div>\n",
       "<style scoped>\n",
       "    .dataframe tbody tr th:only-of-type {\n",
       "        vertical-align: middle;\n",
       "    }\n",
       "\n",
       "    .dataframe tbody tr th {\n",
       "        vertical-align: top;\n",
       "    }\n",
       "\n",
       "    .dataframe thead th {\n",
       "        text-align: right;\n",
       "    }\n",
       "</style>\n",
       "<table border=\"1\" class=\"dataframe\">\n",
       "  <thead>\n",
       "    <tr style=\"text-align: right;\">\n",
       "      <th></th>\n",
       "      <th>Bearer Id</th>\n",
       "      <th>Dur. (ms).1</th>\n",
       "      <th>Total</th>\n",
       "      <th>cluster-engagement</th>\n",
       "    </tr>\n",
       "  </thead>\n",
       "  <tbody>\n",
       "    <tr>\n",
       "      <th>count</th>\n",
       "      <td>1.00</td>\n",
       "      <td>1.00</td>\n",
       "      <td>1.00</td>\n",
       "      <td>1.00</td>\n",
       "    </tr>\n",
       "    <tr>\n",
       "      <th>mean</th>\n",
       "      <td>1,067.00</td>\n",
       "      <td>72,656,111,817.00</td>\n",
       "      <td>531,963,557,516.50</td>\n",
       "      <td>1.00</td>\n",
       "    </tr>\n",
       "    <tr>\n",
       "      <th>std</th>\n",
       "      <td>NaN</td>\n",
       "      <td>NaN</td>\n",
       "      <td>NaN</td>\n",
       "      <td>NaN</td>\n",
       "    </tr>\n",
       "    <tr>\n",
       "      <th>min</th>\n",
       "      <td>1,067.00</td>\n",
       "      <td>72,656,111,817.00</td>\n",
       "      <td>531,963,557,516.50</td>\n",
       "      <td>1.00</td>\n",
       "    </tr>\n",
       "    <tr>\n",
       "      <th>25%</th>\n",
       "      <td>1,067.00</td>\n",
       "      <td>72,656,111,817.00</td>\n",
       "      <td>531,963,557,516.50</td>\n",
       "      <td>1.00</td>\n",
       "    </tr>\n",
       "    <tr>\n",
       "      <th>50%</th>\n",
       "      <td>1,067.00</td>\n",
       "      <td>72,656,111,817.00</td>\n",
       "      <td>531,963,557,516.50</td>\n",
       "      <td>1.00</td>\n",
       "    </tr>\n",
       "    <tr>\n",
       "      <th>75%</th>\n",
       "      <td>1,067.00</td>\n",
       "      <td>72,656,111,817.00</td>\n",
       "      <td>531,963,557,516.50</td>\n",
       "      <td>1.00</td>\n",
       "    </tr>\n",
       "    <tr>\n",
       "      <th>max</th>\n",
       "      <td>1,067.00</td>\n",
       "      <td>72,656,111,817.00</td>\n",
       "      <td>531,963,557,516.50</td>\n",
       "      <td>1.00</td>\n",
       "    </tr>\n",
       "  </tbody>\n",
       "</table>\n",
       "</div>"
      ],
      "text/plain": [
       "       Bearer Id       Dur. (ms).1              Total  cluster-engagement\n",
       "count       1.00              1.00               1.00                1.00\n",
       "mean    1,067.00 72,656,111,817.00 531,963,557,516.50                1.00\n",
       "std          NaN               NaN                NaN                 NaN\n",
       "min     1,067.00 72,656,111,817.00 531,963,557,516.50                1.00\n",
       "25%     1,067.00 72,656,111,817.00 531,963,557,516.50                1.00\n",
       "50%     1,067.00 72,656,111,817.00 531,963,557,516.50                1.00\n",
       "75%     1,067.00 72,656,111,817.00 531,963,557,516.50                1.00\n",
       "max     1,067.00 72,656,111,817.00 531,963,557,516.50                1.00"
      ]
     },
     "execution_count": 65,
     "metadata": {},
     "output_type": "execute_result"
    }
   ],
   "source": [
    "# cluster 1\n",
    "cluster_1.describe()"
   ]
  },
  {
   "cell_type": "code",
   "execution_count": 66,
   "id": "9ba05552",
   "metadata": {},
   "outputs": [
    {
     "data": {
      "text/html": [
       "<div>\n",
       "<style scoped>\n",
       "    .dataframe tbody tr th:only-of-type {\n",
       "        vertical-align: middle;\n",
       "    }\n",
       "\n",
       "    .dataframe tbody tr th {\n",
       "        vertical-align: top;\n",
       "    }\n",
       "\n",
       "    .dataframe thead th {\n",
       "        text-align: right;\n",
       "    }\n",
       "</style>\n",
       "<table border=\"1\" class=\"dataframe\">\n",
       "  <thead>\n",
       "    <tr style=\"text-align: right;\">\n",
       "      <th></th>\n",
       "      <th>Bearer Id</th>\n",
       "      <th>Dur. (ms).1</th>\n",
       "      <th>Total</th>\n",
       "      <th>cluster-engagement</th>\n",
       "    </tr>\n",
       "  </thead>\n",
       "  <tbody>\n",
       "    <tr>\n",
       "      <th>count</th>\n",
       "      <td>7,643.00</td>\n",
       "      <td>7,643.00</td>\n",
       "      <td>7,643.00</td>\n",
       "      <td>7,643.00</td>\n",
       "    </tr>\n",
       "    <tr>\n",
       "      <th>mean</th>\n",
       "      <td>3.27</td>\n",
       "      <td>543,132,997.70</td>\n",
       "      <td>1,649,856,098.43</td>\n",
       "      <td>2.00</td>\n",
       "    </tr>\n",
       "    <tr>\n",
       "      <th>std</th>\n",
       "      <td>1.45</td>\n",
       "      <td>497,596,784.27</td>\n",
       "      <td>829,931,456.28</td>\n",
       "      <td>0.00</td>\n",
       "    </tr>\n",
       "    <tr>\n",
       "      <th>min</th>\n",
       "      <td>1.00</td>\n",
       "      <td>170,683,118.00</td>\n",
       "      <td>57,140,040.00</td>\n",
       "      <td>2.00</td>\n",
       "    </tr>\n",
       "    <tr>\n",
       "      <th>25%</th>\n",
       "      <td>2.00</td>\n",
       "      <td>354,259,135.50</td>\n",
       "      <td>1,064,930,195.50</td>\n",
       "      <td>2.00</td>\n",
       "    </tr>\n",
       "    <tr>\n",
       "      <th>50%</th>\n",
       "      <td>3.00</td>\n",
       "      <td>429,341,307.00</td>\n",
       "      <td>1,562,494,143.00</td>\n",
       "      <td>2.00</td>\n",
       "    </tr>\n",
       "    <tr>\n",
       "      <th>75%</th>\n",
       "      <td>4.00</td>\n",
       "      <td>533,996,189.50</td>\n",
       "      <td>2,124,510,577.50</td>\n",
       "      <td>2.00</td>\n",
       "    </tr>\n",
       "    <tr>\n",
       "      <th>max</th>\n",
       "      <td>18.00</td>\n",
       "      <td>18,553,763,486.00</td>\n",
       "      <td>8,846,226,494.00</td>\n",
       "      <td>2.00</td>\n",
       "    </tr>\n",
       "  </tbody>\n",
       "</table>\n",
       "</div>"
      ],
      "text/plain": [
       "       Bearer Id       Dur. (ms).1            Total  cluster-engagement\n",
       "count   7,643.00          7,643.00         7,643.00            7,643.00\n",
       "mean        3.27    543,132,997.70 1,649,856,098.43                2.00\n",
       "std         1.45    497,596,784.27   829,931,456.28                0.00\n",
       "min         1.00    170,683,118.00    57,140,040.00                2.00\n",
       "25%         2.00    354,259,135.50 1,064,930,195.50                2.00\n",
       "50%         3.00    429,341,307.00 1,562,494,143.00                2.00\n",
       "75%         4.00    533,996,189.50 2,124,510,577.50                2.00\n",
       "max        18.00 18,553,763,486.00 8,846,226,494.00                2.00"
      ]
     },
     "execution_count": 66,
     "metadata": {},
     "output_type": "execute_result"
    }
   ],
   "source": [
    "# cluster 2\n",
    "cluster_2.describe()"
   ]
  },
  {
   "cell_type": "markdown",
   "id": "02f1f9ca",
   "metadata": {},
   "source": [
    "Aggregate user total traffic per application and derive the top 10 most engaged users per application"
   ]
  },
  {
   "cell_type": "code",
   "execution_count": 93,
   "id": "d429252c",
   "metadata": {},
   "outputs": [
    {
     "data": {
      "text/html": [
       "<div>\n",
       "<style scoped>\n",
       "    .dataframe tbody tr th:only-of-type {\n",
       "        vertical-align: middle;\n",
       "    }\n",
       "\n",
       "    .dataframe tbody tr th {\n",
       "        vertical-align: top;\n",
       "    }\n",
       "\n",
       "    .dataframe thead th {\n",
       "        text-align: right;\n",
       "    }\n",
       "</style>\n",
       "<table border=\"1\" class=\"dataframe\">\n",
       "  <thead>\n",
       "    <tr style=\"text-align: right;\">\n",
       "      <th></th>\n",
       "      <th>Google</th>\n",
       "    </tr>\n",
       "    <tr>\n",
       "      <th>MSISDN/Number</th>\n",
       "      <th></th>\n",
       "    </tr>\n",
       "  </thead>\n",
       "  <tbody>\n",
       "    <tr>\n",
       "      <th>33663706799</th>\n",
       "      <td>8,250,701,538.55</td>\n",
       "    </tr>\n",
       "    <tr>\n",
       "      <th>33626320676</th>\n",
       "      <td>152,191,852.00</td>\n",
       "    </tr>\n",
       "    <tr>\n",
       "      <th>33625779332</th>\n",
       "      <td>142,307,915.00</td>\n",
       "    </tr>\n",
       "    <tr>\n",
       "      <th>33614892860</th>\n",
       "      <td>127,973,787.00</td>\n",
       "    </tr>\n",
       "    <tr>\n",
       "      <th>33760536639</th>\n",
       "      <td>123,223,099.00</td>\n",
       "    </tr>\n",
       "    <tr>\n",
       "      <th>33659725664</th>\n",
       "      <td>116,516,345.00</td>\n",
       "    </tr>\n",
       "    <tr>\n",
       "      <th>33786323068</th>\n",
       "      <td>110,254,484.00</td>\n",
       "    </tr>\n",
       "    <tr>\n",
       "      <th>33675877202</th>\n",
       "      <td>109,860,502.00</td>\n",
       "    </tr>\n",
       "    <tr>\n",
       "      <th>33667163239</th>\n",
       "      <td>105,032,696.00</td>\n",
       "    </tr>\n",
       "    <tr>\n",
       "      <th>33761268199</th>\n",
       "      <td>97,089,988.00</td>\n",
       "    </tr>\n",
       "  </tbody>\n",
       "</table>\n",
       "</div>"
      ],
      "text/plain": [
       "                        Google\n",
       "MSISDN/Number                 \n",
       "33663706799   8,250,701,538.55\n",
       "33626320676     152,191,852.00\n",
       "33625779332     142,307,915.00\n",
       "33614892860     127,973,787.00\n",
       "33760536639     123,223,099.00\n",
       "33659725664     116,516,345.00\n",
       "33786323068     110,254,484.00\n",
       "33675877202     109,860,502.00\n",
       "33667163239     105,032,696.00\n",
       "33761268199      97,089,988.00"
      ]
     },
     "execution_count": 93,
     "metadata": {},
     "output_type": "execute_result"
    }
   ],
   "source": [
    "# total traffic per application for google\n",
    "group_data = data.groupby('MSISDN/Number')\n",
    "google_traffic = group_data.agg({'Google': \"sum\"})\n",
    "Top10_google_traffic = google_traffic.sort_values(by='Google', ascending=False)\n",
    "Top10_google_traffic.head(10)"
   ]
  },
  {
   "cell_type": "code",
   "execution_count": 94,
   "id": "c08e1b8e",
   "metadata": {},
   "outputs": [
    {
     "data": {
      "text/html": [
       "<div>\n",
       "<style scoped>\n",
       "    .dataframe tbody tr th:only-of-type {\n",
       "        vertical-align: middle;\n",
       "    }\n",
       "\n",
       "    .dataframe tbody tr th {\n",
       "        vertical-align: top;\n",
       "    }\n",
       "\n",
       "    .dataframe thead th {\n",
       "        text-align: right;\n",
       "    }\n",
       "</style>\n",
       "<table border=\"1\" class=\"dataframe\">\n",
       "  <thead>\n",
       "    <tr style=\"text-align: right;\">\n",
       "      <th></th>\n",
       "      <th>Social Media</th>\n",
       "    </tr>\n",
       "    <tr>\n",
       "      <th>MSISDN/Number</th>\n",
       "      <th></th>\n",
       "    </tr>\n",
       "  </thead>\n",
       "  <tbody>\n",
       "    <tr>\n",
       "      <th>33663706799</th>\n",
       "      <td>1,974,198,877.21</td>\n",
       "    </tr>\n",
       "    <tr>\n",
       "      <th>33626320676</th>\n",
       "      <td>43,374,779.00</td>\n",
       "    </tr>\n",
       "    <tr>\n",
       "      <th>33760536639</th>\n",
       "      <td>39,783,189.00</td>\n",
       "    </tr>\n",
       "    <tr>\n",
       "      <th>33659725664</th>\n",
       "      <td>35,412,358.00</td>\n",
       "    </tr>\n",
       "    <tr>\n",
       "      <th>33614892860</th>\n",
       "      <td>28,294,544.00</td>\n",
       "    </tr>\n",
       "    <tr>\n",
       "      <th>33625779332</th>\n",
       "      <td>27,135,500.00</td>\n",
       "    </tr>\n",
       "    <tr>\n",
       "      <th>33667163239</th>\n",
       "      <td>24,247,850.00</td>\n",
       "    </tr>\n",
       "    <tr>\n",
       "      <th>33786323068</th>\n",
       "      <td>23,974,919.00</td>\n",
       "    </tr>\n",
       "    <tr>\n",
       "      <th>33669068942</th>\n",
       "      <td>23,800,834.00</td>\n",
       "    </tr>\n",
       "    <tr>\n",
       "      <th>33603127838</th>\n",
       "      <td>23,077,825.00</td>\n",
       "    </tr>\n",
       "  </tbody>\n",
       "</table>\n",
       "</div>"
      ],
      "text/plain": [
       "                  Social Media\n",
       "MSISDN/Number                 \n",
       "33663706799   1,974,198,877.21\n",
       "33626320676      43,374,779.00\n",
       "33760536639      39,783,189.00\n",
       "33659725664      35,412,358.00\n",
       "33614892860      28,294,544.00\n",
       "33625779332      27,135,500.00\n",
       "33667163239      24,247,850.00\n",
       "33786323068      23,974,919.00\n",
       "33669068942      23,800,834.00\n",
       "33603127838      23,077,825.00"
      ]
     },
     "execution_count": 94,
     "metadata": {},
     "output_type": "execute_result"
    }
   ],
   "source": [
    "# total traffic per application for social media\n",
    "group_data = data.groupby('MSISDN/Number')\n",
    "social_traffic = group_data.agg({'Social Media': \"sum\"})\n",
    "Top10_social_traffic = social_traffic.sort_values(by='Social Media', ascending=False)\n",
    "Top10_social_traffic.head(10)"
   ]
  },
  {
   "cell_type": "code",
   "execution_count": 95,
   "id": "0449d56a",
   "metadata": {},
   "outputs": [
    {
     "data": {
      "text/html": [
       "<div>\n",
       "<style scoped>\n",
       "    .dataframe tbody tr th:only-of-type {\n",
       "        vertical-align: middle;\n",
       "    }\n",
       "\n",
       "    .dataframe tbody tr th {\n",
       "        vertical-align: top;\n",
       "    }\n",
       "\n",
       "    .dataframe thead th {\n",
       "        text-align: right;\n",
       "    }\n",
       "</style>\n",
       "<table border=\"1\" class=\"dataframe\">\n",
       "  <thead>\n",
       "    <tr style=\"text-align: right;\">\n",
       "      <th></th>\n",
       "      <th>Email</th>\n",
       "    </tr>\n",
       "    <tr>\n",
       "      <th>MSISDN/Number</th>\n",
       "      <th></th>\n",
       "    </tr>\n",
       "  </thead>\n",
       "  <tbody>\n",
       "    <tr>\n",
       "      <th>33663706799</th>\n",
       "      <td>2,403,622,164.31</td>\n",
       "    </tr>\n",
       "    <tr>\n",
       "      <th>33626320676</th>\n",
       "      <td>42,418,782.00</td>\n",
       "    </tr>\n",
       "    <tr>\n",
       "      <th>33614892860</th>\n",
       "      <td>40,788,634.00</td>\n",
       "    </tr>\n",
       "    <tr>\n",
       "      <th>33625779332</th>\n",
       "      <td>40,633,966.00</td>\n",
       "    </tr>\n",
       "    <tr>\n",
       "      <th>33786323068</th>\n",
       "      <td>36,310,123.00</td>\n",
       "    </tr>\n",
       "    <tr>\n",
       "      <th>33659725664</th>\n",
       "      <td>35,999,792.00</td>\n",
       "    </tr>\n",
       "    <tr>\n",
       "      <th>33760536639</th>\n",
       "      <td>33,693,767.00</td>\n",
       "    </tr>\n",
       "    <tr>\n",
       "      <th>33675877202</th>\n",
       "      <td>31,514,421.00</td>\n",
       "    </tr>\n",
       "    <tr>\n",
       "      <th>33665460546</th>\n",
       "      <td>30,417,885.00</td>\n",
       "    </tr>\n",
       "    <tr>\n",
       "      <th>33667163239</th>\n",
       "      <td>30,335,796.00</td>\n",
       "    </tr>\n",
       "  </tbody>\n",
       "</table>\n",
       "</div>"
      ],
      "text/plain": [
       "                         Email\n",
       "MSISDN/Number                 \n",
       "33663706799   2,403,622,164.31\n",
       "33626320676      42,418,782.00\n",
       "33614892860      40,788,634.00\n",
       "33625779332      40,633,966.00\n",
       "33786323068      36,310,123.00\n",
       "33659725664      35,999,792.00\n",
       "33760536639      33,693,767.00\n",
       "33675877202      31,514,421.00\n",
       "33665460546      30,417,885.00\n",
       "33667163239      30,335,796.00"
      ]
     },
     "execution_count": 95,
     "metadata": {},
     "output_type": "execute_result"
    }
   ],
   "source": [
    "# total traffic per application for email\n",
    "group_data = data.groupby('MSISDN/Number')\n",
    "email_traffic = group_data.agg({\"Email\": \"sum\"})\n",
    "Top10_email_traffic = email_traffic.sort_values(by='Email', ascending=False)\n",
    "Top10_email_traffic.head(10)"
   ]
  },
  {
   "cell_type": "code",
   "execution_count": 96,
   "id": "2a62e65e",
   "metadata": {},
   "outputs": [
    {
     "data": {
      "text/html": [
       "<div>\n",
       "<style scoped>\n",
       "    .dataframe tbody tr th:only-of-type {\n",
       "        vertical-align: middle;\n",
       "    }\n",
       "\n",
       "    .dataframe tbody tr th {\n",
       "        vertical-align: top;\n",
       "    }\n",
       "\n",
       "    .dataframe thead th {\n",
       "        text-align: right;\n",
       "    }\n",
       "</style>\n",
       "<table border=\"1\" class=\"dataframe\">\n",
       "  <thead>\n",
       "    <tr style=\"text-align: right;\">\n",
       "      <th></th>\n",
       "      <th>Youtube</th>\n",
       "    </tr>\n",
       "    <tr>\n",
       "      <th>MSISDN/Number</th>\n",
       "      <th></th>\n",
       "    </tr>\n",
       "  </thead>\n",
       "  <tbody>\n",
       "    <tr>\n",
       "      <th>33663706799</th>\n",
       "      <td>24,350,725,583.64</td>\n",
       "    </tr>\n",
       "    <tr>\n",
       "      <th>33625779332</th>\n",
       "      <td>452,958,769.00</td>\n",
       "    </tr>\n",
       "    <tr>\n",
       "      <th>33760536639</th>\n",
       "      <td>396,289,198.00</td>\n",
       "    </tr>\n",
       "    <tr>\n",
       "      <th>33614892860</th>\n",
       "      <td>394,370,218.00</td>\n",
       "    </tr>\n",
       "    <tr>\n",
       "      <th>33626320676</th>\n",
       "      <td>374,483,047.00</td>\n",
       "    </tr>\n",
       "    <tr>\n",
       "      <th>33675877202</th>\n",
       "      <td>317,410,572.00</td>\n",
       "    </tr>\n",
       "    <tr>\n",
       "      <th>33667163239</th>\n",
       "      <td>315,231,310.00</td>\n",
       "    </tr>\n",
       "    <tr>\n",
       "      <th>33627080969</th>\n",
       "      <td>308,790,774.00</td>\n",
       "    </tr>\n",
       "    <tr>\n",
       "      <th>33760413819</th>\n",
       "      <td>303,169,107.00</td>\n",
       "    </tr>\n",
       "    <tr>\n",
       "      <th>33698792269</th>\n",
       "      <td>302,661,958.00</td>\n",
       "    </tr>\n",
       "  </tbody>\n",
       "</table>\n",
       "</div>"
      ],
      "text/plain": [
       "                        Youtube\n",
       "MSISDN/Number                  \n",
       "33663706799   24,350,725,583.64\n",
       "33625779332      452,958,769.00\n",
       "33760536639      396,289,198.00\n",
       "33614892860      394,370,218.00\n",
       "33626320676      374,483,047.00\n",
       "33675877202      317,410,572.00\n",
       "33667163239      315,231,310.00\n",
       "33627080969      308,790,774.00\n",
       "33760413819      303,169,107.00\n",
       "33698792269      302,661,958.00"
      ]
     },
     "execution_count": 96,
     "metadata": {},
     "output_type": "execute_result"
    }
   ],
   "source": [
    "# total traffic per application for youtube\n",
    "group_data = data.groupby('MSISDN/Number')\n",
    "youtube_traffic = group_data.agg({'Youtube': \"sum\"})\n",
    "Top10_youtube_traffic = youtube_traffic.sort_values(by='Youtube', ascending=False)\n",
    "Top10_youtube_traffic.head(10)"
   ]
  },
  {
   "cell_type": "code",
   "execution_count": 97,
   "id": "ba79a691",
   "metadata": {},
   "outputs": [
    {
     "data": {
      "text/html": [
       "<div>\n",
       "<style scoped>\n",
       "    .dataframe tbody tr th:only-of-type {\n",
       "        vertical-align: middle;\n",
       "    }\n",
       "\n",
       "    .dataframe tbody tr th {\n",
       "        vertical-align: top;\n",
       "    }\n",
       "\n",
       "    .dataframe thead th {\n",
       "        text-align: right;\n",
       "    }\n",
       "</style>\n",
       "<table border=\"1\" class=\"dataframe\">\n",
       "  <thead>\n",
       "    <tr style=\"text-align: right;\">\n",
       "      <th></th>\n",
       "      <th>Netflix</th>\n",
       "    </tr>\n",
       "    <tr>\n",
       "      <th>MSISDN/Number</th>\n",
       "      <th></th>\n",
       "    </tr>\n",
       "  </thead>\n",
       "  <tbody>\n",
       "    <tr>\n",
       "      <th>33663706799</th>\n",
       "      <td>24,282,107,369.54</td>\n",
       "    </tr>\n",
       "    <tr>\n",
       "      <th>33659725664</th>\n",
       "      <td>399,519,079.00</td>\n",
       "    </tr>\n",
       "    <tr>\n",
       "      <th>33614892860</th>\n",
       "      <td>361,401,046.00</td>\n",
       "    </tr>\n",
       "    <tr>\n",
       "      <th>33625779332</th>\n",
       "      <td>356,980,607.00</td>\n",
       "    </tr>\n",
       "    <tr>\n",
       "      <th>33760536639</th>\n",
       "      <td>334,643,269.00</td>\n",
       "    </tr>\n",
       "    <tr>\n",
       "      <th>33626320676</th>\n",
       "      <td>328,725,740.00</td>\n",
       "    </tr>\n",
       "    <tr>\n",
       "      <th>33760413819</th>\n",
       "      <td>318,347,546.00</td>\n",
       "    </tr>\n",
       "    <tr>\n",
       "      <th>33667163239</th>\n",
       "      <td>313,939,488.00</td>\n",
       "    </tr>\n",
       "    <tr>\n",
       "      <th>33675877202</th>\n",
       "      <td>309,093,159.00</td>\n",
       "    </tr>\n",
       "    <tr>\n",
       "      <th>33786323068</th>\n",
       "      <td>305,939,790.00</td>\n",
       "    </tr>\n",
       "  </tbody>\n",
       "</table>\n",
       "</div>"
      ],
      "text/plain": [
       "                        Netflix\n",
       "MSISDN/Number                  \n",
       "33663706799   24,282,107,369.54\n",
       "33659725664      399,519,079.00\n",
       "33614892860      361,401,046.00\n",
       "33625779332      356,980,607.00\n",
       "33760536639      334,643,269.00\n",
       "33626320676      328,725,740.00\n",
       "33760413819      318,347,546.00\n",
       "33667163239      313,939,488.00\n",
       "33675877202      309,093,159.00\n",
       "33786323068      305,939,790.00"
      ]
     },
     "execution_count": 97,
     "metadata": {},
     "output_type": "execute_result"
    }
   ],
   "source": [
    "# total traffic per application for netflix\n",
    "group_data = data.groupby('MSISDN/Number')\n",
    "netflix_traffic = group_data.agg({'Netflix': \"sum\"})\n",
    "Top10_netflix_traffic = netflix_traffic.sort_values(by='Netflix', ascending=False)\n",
    "Top10_netflix_traffic.head(10)"
   ]
  },
  {
   "cell_type": "code",
   "execution_count": 98,
   "id": "18917859",
   "metadata": {},
   "outputs": [
    {
     "data": {
      "text/html": [
       "<div>\n",
       "<style scoped>\n",
       "    .dataframe tbody tr th:only-of-type {\n",
       "        vertical-align: middle;\n",
       "    }\n",
       "\n",
       "    .dataframe tbody tr th {\n",
       "        vertical-align: top;\n",
       "    }\n",
       "\n",
       "    .dataframe thead th {\n",
       "        text-align: right;\n",
       "    }\n",
       "</style>\n",
       "<table border=\"1\" class=\"dataframe\">\n",
       "  <thead>\n",
       "    <tr style=\"text-align: right;\">\n",
       "      <th></th>\n",
       "      <th>Gaming</th>\n",
       "    </tr>\n",
       "    <tr>\n",
       "      <th>MSISDN/Number</th>\n",
       "      <th></th>\n",
       "    </tr>\n",
       "  </thead>\n",
       "  <tbody>\n",
       "    <tr>\n",
       "      <th>33663706799</th>\n",
       "      <td>461,634,610,932.71</td>\n",
       "    </tr>\n",
       "    <tr>\n",
       "      <th>33614892860</th>\n",
       "      <td>7,749,432,234.00</td>\n",
       "    </tr>\n",
       "    <tr>\n",
       "      <th>33760536639</th>\n",
       "      <td>7,461,045,228.00</td>\n",
       "    </tr>\n",
       "    <tr>\n",
       "      <th>33625779332</th>\n",
       "      <td>7,326,673,487.00</td>\n",
       "    </tr>\n",
       "    <tr>\n",
       "      <th>33675877202</th>\n",
       "      <td>6,970,567,597.00</td>\n",
       "    </tr>\n",
       "    <tr>\n",
       "      <th>33626320676</th>\n",
       "      <td>6,887,572,116.00</td>\n",
       "    </tr>\n",
       "    <tr>\n",
       "      <th>33659725664</th>\n",
       "      <td>6,725,559,211.00</td>\n",
       "    </tr>\n",
       "    <tr>\n",
       "      <th>33666464084</th>\n",
       "      <td>6,646,303,338.00</td>\n",
       "    </tr>\n",
       "    <tr>\n",
       "      <th>33760413819</th>\n",
       "      <td>6,268,619,592.00</td>\n",
       "    </tr>\n",
       "    <tr>\n",
       "      <th>33664712899</th>\n",
       "      <td>6,103,856,008.00</td>\n",
       "    </tr>\n",
       "  </tbody>\n",
       "</table>\n",
       "</div>"
      ],
      "text/plain": [
       "                          Gaming\n",
       "MSISDN/Number                   \n",
       "33663706799   461,634,610,932.71\n",
       "33614892860     7,749,432,234.00\n",
       "33760536639     7,461,045,228.00\n",
       "33625779332     7,326,673,487.00\n",
       "33675877202     6,970,567,597.00\n",
       "33626320676     6,887,572,116.00\n",
       "33659725664     6,725,559,211.00\n",
       "33666464084     6,646,303,338.00\n",
       "33760413819     6,268,619,592.00\n",
       "33664712899     6,103,856,008.00"
      ]
     },
     "execution_count": 98,
     "metadata": {},
     "output_type": "execute_result"
    }
   ],
   "source": [
    "# total traffic per application for gaming\n",
    "group_data = data.groupby('MSISDN/Number')\n",
    "gaming_traffic = group_data.agg({'Gaming': \"sum\"})\n",
    "Top10_gaming_traffic = gaming_traffic.sort_values(by='Gaming', ascending=False)\n",
    "Top10_gaming_traffic.head(10)"
   ]
  },
  {
   "cell_type": "code",
   "execution_count": 99,
   "id": "0a7a5b84",
   "metadata": {},
   "outputs": [
    {
     "data": {
      "text/html": [
       "<div>\n",
       "<style scoped>\n",
       "    .dataframe tbody tr th:only-of-type {\n",
       "        vertical-align: middle;\n",
       "    }\n",
       "\n",
       "    .dataframe tbody tr th {\n",
       "        vertical-align: top;\n",
       "    }\n",
       "\n",
       "    .dataframe thead th {\n",
       "        text-align: right;\n",
       "    }\n",
       "</style>\n",
       "<table border=\"1\" class=\"dataframe\">\n",
       "  <thead>\n",
       "    <tr style=\"text-align: right;\">\n",
       "      <th></th>\n",
       "      <th>Other</th>\n",
       "    </tr>\n",
       "    <tr>\n",
       "      <th>MSISDN/Number</th>\n",
       "      <th></th>\n",
       "    </tr>\n",
       "  </thead>\n",
       "  <tbody>\n",
       "    <tr>\n",
       "      <th>33663706799</th>\n",
       "      <td>451,652,149,852.62</td>\n",
       "    </tr>\n",
       "    <tr>\n",
       "      <th>33626320676</th>\n",
       "      <td>8,167,877,776.00</td>\n",
       "    </tr>\n",
       "    <tr>\n",
       "      <th>33614892860</th>\n",
       "      <td>7,639,263,572.00</td>\n",
       "    </tr>\n",
       "    <tr>\n",
       "      <th>33675877202</th>\n",
       "      <td>6,798,515,150.00</td>\n",
       "    </tr>\n",
       "    <tr>\n",
       "      <th>33625779332</th>\n",
       "      <td>6,354,583,086.00</td>\n",
       "    </tr>\n",
       "    <tr>\n",
       "      <th>33603127838</th>\n",
       "      <td>6,326,670,874.00</td>\n",
       "    </tr>\n",
       "    <tr>\n",
       "      <th>33659725664</th>\n",
       "      <td>6,317,415,487.00</td>\n",
       "    </tr>\n",
       "    <tr>\n",
       "      <th>33626948251</th>\n",
       "      <td>5,305,447,882.00</td>\n",
       "    </tr>\n",
       "    <tr>\n",
       "      <th>33627080969</th>\n",
       "      <td>5,117,790,890.00</td>\n",
       "    </tr>\n",
       "    <tr>\n",
       "      <th>33761268199</th>\n",
       "      <td>5,077,779,438.00</td>\n",
       "    </tr>\n",
       "  </tbody>\n",
       "</table>\n",
       "</div>"
      ],
      "text/plain": [
       "                           Other\n",
       "MSISDN/Number                   \n",
       "33663706799   451,652,149,852.62\n",
       "33626320676     8,167,877,776.00\n",
       "33614892860     7,639,263,572.00\n",
       "33675877202     6,798,515,150.00\n",
       "33625779332     6,354,583,086.00\n",
       "33603127838     6,326,670,874.00\n",
       "33659725664     6,317,415,487.00\n",
       "33626948251     5,305,447,882.00\n",
       "33627080969     5,117,790,890.00\n",
       "33761268199     5,077,779,438.00"
      ]
     },
     "execution_count": 99,
     "metadata": {},
     "output_type": "execute_result"
    }
   ],
   "source": [
    "# total traffic per application for other\n",
    "group_data = data.groupby('MSISDN/Number')\n",
    "other_traffic = group_data.agg({'Other': \"sum\"})\n",
    "Top10_other_traffic = other_traffic.sort_values(by='Other', ascending=False)\n",
    "Top10_other_traffic.head(10)"
   ]
  },
  {
   "cell_type": "markdown",
   "id": "c25b265c",
   "metadata": {},
   "source": [
    "Plot the top 3 most used applications using appropriate charts. "
   ]
  },
  {
   "cell_type": "code",
   "execution_count": 265,
   "id": "9a970618",
   "metadata": {},
   "outputs": [],
   "source": [
    "all_application = data[[ 'Social Media','Google', 'Email','Youtube','Netflix','Gaming','Other']].sum()"
   ]
  },
  {
   "cell_type": "code",
   "execution_count": 266,
   "id": "6c35a233",
   "metadata": {},
   "outputs": [
    {
     "data": {
      "text/plain": [
       "{'Gaming': 64550395439016.7,\n",
       " 'Other': 64405230908181.62,\n",
       " 'Youtube': 3396545039272.6387}"
      ]
     },
     "execution_count": 266,
     "metadata": {},
     "output_type": "execute_result"
    }
   ],
   "source": [
    "all_ap = dict(all_application)\n",
    "all_sum = dict(sorted(all_ap.items(), key=lambda item: item[1], reverse=True))\n",
    "top3, i = {}, 0\n",
    "for k, v in all_sum.items():\n",
    "    if i == 3: break\n",
    "    i+=1\n",
    "    top3[k] = v\n",
    "top3"
   ]
  },
  {
   "cell_type": "code",
   "execution_count": 267,
   "id": "d8a8c568",
   "metadata": {},
   "outputs": [],
   "source": [
    "#Get the Keys and store them in a list\n",
    "labels = list(top3.keys())\n",
    "\n",
    "# Get the Values and store them in a list\n",
    "values = list(top3.values())"
   ]
  },
  {
   "cell_type": "code",
   "execution_count": 268,
   "id": "13f30cb5",
   "metadata": {},
   "outputs": [
    {
     "data": {
      "image/png": "[encoded data removed]",
      "text/plain": [
       "<Figure size 432x288 with 1 Axes>"
      ]
     },
     "metadata": {},
     "output_type": "display_data"
    }
   ],
   "source": [
    "plt.pie(values, labels=labels, autopct='%1.2f%%')\n",
    "plt.show()"
   ]
  },
  {
   "cell_type": "markdown",
   "id": "623a8adf",
   "metadata": {},
   "source": [
    "Using k-means clustering algorithm, group users in k engagement clusters based on the engagement metrics: \n",
    "1. What is the optimized value of k (use elbow method for this)?  \n",
    "2. Interpret your findings."
   ]
  },
  {
   "cell_type": "code",
   "execution_count": 123,
   "id": "e048f8d3",
   "metadata": {},
   "outputs": [
    {
     "data": {
      "image/png": "[encoded data removed]",
      "text/plain": [
       "<Figure size 432x288 with 1 Axes>"
      ]
     },
     "metadata": {},
     "output_type": "display_data"
    }
   ],
   "source": [
    "distance = []\n",
    "for i in range(1,11):\n",
    "    kmeans=KMeans(n_clusters=i, init='k-means++',max_iter=300, n_init=10, random_state=0)\n",
    "    kmeans.fit(df_normalized)\n",
    "    distance.append(kmeans.inertia_)\n",
    "plt.plot(range(1,11), distance, 'bx-')\n",
    "plt.title('Elbow method')\n",
    "plt.xlabel('Number of clusters')\n",
    "plt.ylabel('distance')\n",
    "plt.show()"
   ]
  },
  {
   "cell_type": "markdown",
   "id": "a5b3681d",
   "metadata": {},
   "source": [
    "So from the above graph we observe that Number 3 is the optimum, and we should run with 3 cluster"
   ]
  },
  {
   "cell_type": "code",
   "execution_count": 125,
   "id": "cf223696",
   "metadata": {},
   "outputs": [
    {
     "data": {
      "text/plain": [
       "MSISDN/Number\n",
       "33601001722        0\n",
       "33601001754        0\n",
       "33601002511        0\n",
       "33601007832        0\n",
       "33601008617        0\n",
       "                  ..\n",
       "33789996170        0\n",
       "33789997247        0\n",
       "3197020876596      2\n",
       "337000037000919    0\n",
       "882397108489451    2\n",
       "Name: cluster, Length: 106856, dtype: int32"
      ]
     },
     "execution_count": 125,
     "metadata": {},
     "output_type": "execute_result"
    }
   ],
   "source": [
    "### \n",
    "kmeans = KMeans(n_clusters=3)\n",
    "kmeans.fit(df_normalized)\n",
    "\n",
    "cluster = kmeans.predict(df_normalized)\n",
    "cluster_df = df2.copy()\n",
    "cluster_df['cluster']  = cluster\n",
    "cluster_df['cluster']"
   ]
  },
  {
   "cell_type": "markdown",
   "id": "895c9ead",
   "metadata": {},
   "source": [
    "# Task 3 - Experience Analytics"
   ]
  },
  {
   "cell_type": "markdown",
   "id": "d5a2ec7b",
   "metadata": {},
   "source": [
    "##### Task 3. 1 - Aggregate, per customer, the following information (treat missing & outliers by replacing by the mean or the mode of the corresponding variable):"
   ]
  },
  {
   "cell_type": "markdown",
   "id": "633e86ed",
   "metadata": {},
   "source": [
    "1. Average TCP retransmission\n",
    "2. Average RTT\n",
    "3. Handset type\n",
    "4. Average throughput\n"
   ]
  },
  {
   "cell_type": "code",
   "execution_count": 188,
   "id": "948eb4ce",
   "metadata": {},
   "outputs": [],
   "source": [
    "def null_percentage(df):\n",
    "    number_of_rows, number_of_columns = df.shape\n",
    "    df_size = number_of_rows * number_of_columns\n",
    "    \n",
    "    null_size = (df.isnull().sum()).sum()\n",
    "    percentage = round((null_size / df_size) * 100, 2)\n",
    "    print(f\"Data Fraame contain null values of { percentage }%\")"
   ]
  },
  {
   "cell_type": "code",
   "execution_count": 271,
   "id": "d3fe4906",
   "metadata": {},
   "outputs": [
    {
     "name": "stdout",
     "output_type": "stream",
     "text": [
      "Data Fraame contain null values of 20.17%\n"
     ]
    },
    {
     "data": {
      "text/plain": [
       "MSISDN/Number                   1066\n",
       "Handset Type                     572\n",
       "TCP DL Retrans. Vol (Bytes)    88146\n",
       "TCP UL Retrans. Vol (Bytes)    96649\n",
       "Avg RTT DL (ms)                27829\n",
       "Avg RTT UL (ms)                27812\n",
       "Avg Bearer TP DL (kbps)            1\n",
       "Avg Bearer TP UL (kbps)            1\n",
       "dtype: int64"
      ]
     },
     "execution_count": 271,
     "metadata": {},
     "output_type": "execute_result"
    }
   ],
   "source": [
    "'''\n",
    "TCP DL Retrans. Vol (Bytes)\n",
    "TCP UL Retrans. Vol (Bytes)\n",
    "\n",
    "Avg RTT DL (ms)\n",
    "Avg RTT UL (ms)\n",
    "\n",
    "Handset type\n",
    "\n",
    "Avg Bearer TP DL (kbps)\n",
    "Avg Bearer TP UL (kbps)\n",
    "\n",
    "'''\n",
    "#Read the cleaned csv file and store it on data\n",
    "#df = pd.read_csv('C:/Users/user/Desktop/Telecommunication/data/cleaned_data.csv')\n",
    "df_task_3 = df\n",
    "new_netwok_df = df_task_3[['MSISDN/Number', 'Handset Type','TCP DL Retrans. Vol (Bytes)', 'TCP UL Retrans. Vol (Bytes)',\\\n",
    "                         'Avg RTT DL (ms)', 'Avg RTT UL (ms)',\\\n",
    "                         'Avg Bearer TP DL (kbps)', 'Avg Bearer TP UL (kbps)']]\n",
    "\n",
    "\n",
    "null_percentage(new_netwok_df)\n",
    "new_netwok_df.isnull().sum()\n"
   ]
  },
  {
   "cell_type": "code",
   "execution_count": 272,
   "id": "0521c083",
   "metadata": {},
   "outputs": [
    {
     "name": "stderr",
     "output_type": "stream",
     "text": [
      "C:\\Users\\user\\AppData\\Local\\Temp\\ipykernel_5924\\3534021026.py:4: SettingWithCopyWarning: \n",
      "A value is trying to be set on a copy of a slice from a DataFrame.\n",
      "Try using .loc[row_indexer,col_indexer] = value instead\n",
      "\n",
      "See the caveats in the documentation: https://pandas.pydata.org/pandas-docs/stable/user_guide/indexing.html#returning-a-view-versus-a-copy\n",
      "  new_netwok_df[col] = new_netwok_df[col].fillna(new_netwok_df[col].mode()[0])\n",
      "C:\\Users\\user\\AppData\\Local\\Temp\\ipykernel_5924\\3534021026.py:4: SettingWithCopyWarning: \n",
      "A value is trying to be set on a copy of a slice from a DataFrame.\n",
      "Try using .loc[row_indexer,col_indexer] = value instead\n",
      "\n",
      "See the caveats in the documentation: https://pandas.pydata.org/pandas-docs/stable/user_guide/indexing.html#returning-a-view-versus-a-copy\n",
      "  new_netwok_df[col] = new_netwok_df[col].fillna(new_netwok_df[col].mode()[0])\n",
      "C:\\Users\\user\\AppData\\Local\\Temp\\ipykernel_5924\\3534021026.py:4: SettingWithCopyWarning: \n",
      "A value is trying to be set on a copy of a slice from a DataFrame.\n",
      "Try using .loc[row_indexer,col_indexer] = value instead\n",
      "\n",
      "See the caveats in the documentation: https://pandas.pydata.org/pandas-docs/stable/user_guide/indexing.html#returning-a-view-versus-a-copy\n",
      "  new_netwok_df[col] = new_netwok_df[col].fillna(new_netwok_df[col].mode()[0])\n",
      "C:\\Users\\user\\AppData\\Local\\Temp\\ipykernel_5924\\3534021026.py:4: SettingWithCopyWarning: \n",
      "A value is trying to be set on a copy of a slice from a DataFrame.\n",
      "Try using .loc[row_indexer,col_indexer] = value instead\n",
      "\n",
      "See the caveats in the documentation: https://pandas.pydata.org/pandas-docs/stable/user_guide/indexing.html#returning-a-view-versus-a-copy\n",
      "  new_netwok_df[col] = new_netwok_df[col].fillna(new_netwok_df[col].mode()[0])\n",
      "C:\\Users\\user\\AppData\\Local\\Temp\\ipykernel_5924\\3534021026.py:4: SettingWithCopyWarning: \n",
      "A value is trying to be set on a copy of a slice from a DataFrame.\n",
      "Try using .loc[row_indexer,col_indexer] = value instead\n",
      "\n",
      "See the caveats in the documentation: https://pandas.pydata.org/pandas-docs/stable/user_guide/indexing.html#returning-a-view-versus-a-copy\n",
      "  new_netwok_df[col] = new_netwok_df[col].fillna(new_netwok_df[col].mode()[0])\n",
      "C:\\Users\\user\\AppData\\Local\\Temp\\ipykernel_5924\\3534021026.py:4: SettingWithCopyWarning: \n",
      "A value is trying to be set on a copy of a slice from a DataFrame.\n",
      "Try using .loc[row_indexer,col_indexer] = value instead\n",
      "\n",
      "See the caveats in the documentation: https://pandas.pydata.org/pandas-docs/stable/user_guide/indexing.html#returning-a-view-versus-a-copy\n",
      "  new_netwok_df[col] = new_netwok_df[col].fillna(new_netwok_df[col].mode()[0])\n",
      "C:\\Users\\user\\AppData\\Local\\Temp\\ipykernel_5924\\3534021026.py:4: SettingWithCopyWarning: \n",
      "A value is trying to be set on a copy of a slice from a DataFrame.\n",
      "Try using .loc[row_indexer,col_indexer] = value instead\n",
      "\n",
      "See the caveats in the documentation: https://pandas.pydata.org/pandas-docs/stable/user_guide/indexing.html#returning-a-view-versus-a-copy\n",
      "  new_netwok_df[col] = new_netwok_df[col].fillna(new_netwok_df[col].mode()[0])\n",
      "C:\\Users\\user\\AppData\\Local\\Temp\\ipykernel_5924\\3534021026.py:4: SettingWithCopyWarning: \n",
      "A value is trying to be set on a copy of a slice from a DataFrame.\n",
      "Try using .loc[row_indexer,col_indexer] = value instead\n",
      "\n",
      "See the caveats in the documentation: https://pandas.pydata.org/pandas-docs/stable/user_guide/indexing.html#returning-a-view-versus-a-copy\n",
      "  new_netwok_df[col] = new_netwok_df[col].fillna(new_netwok_df[col].mode()[0])\n"
     ]
    }
   ],
   "source": [
    "## Fill Mising Values\n",
    "for col in new_netwok_df.columns:\n",
    "    if(new_netwok_df[col].isnull().sum()):\n",
    "        new_netwok_df[col] = new_netwok_df[col].fillna(new_netwok_df[col].mode()[0])"
   ]
  },
  {
   "cell_type": "code",
   "execution_count": 273,
   "id": "447294c0",
   "metadata": {},
   "outputs": [
    {
     "name": "stdout",
     "output_type": "stream",
     "text": [
      "Data Fraame contain null values of 0.0%\n"
     ]
    },
    {
     "data": {
      "text/plain": [
       "MSISDN/Number                  0\n",
       "Handset Type                   0\n",
       "TCP DL Retrans. Vol (Bytes)    0\n",
       "TCP UL Retrans. Vol (Bytes)    0\n",
       "Avg RTT DL (ms)                0\n",
       "Avg RTT UL (ms)                0\n",
       "Avg Bearer TP DL (kbps)        0\n",
       "Avg Bearer TP UL (kbps)        0\n",
       "dtype: int64"
      ]
     },
     "execution_count": 273,
     "metadata": {},
     "output_type": "execute_result"
    }
   ],
   "source": [
    "null_percentage(new_netwok_df)\n",
    "new_netwok_df.isnull().sum()"
   ]
  },
  {
   "cell_type": "code",
   "execution_count": 274,
   "id": "8151bb7e",
   "metadata": {},
   "outputs": [
    {
     "name": "stderr",
     "output_type": "stream",
     "text": [
      "C:\\Users\\user\\AppData\\Local\\Temp\\ipykernel_5924\\3159838189.py:1: SettingWithCopyWarning: \n",
      "A value is trying to be set on a copy of a slice from a DataFrame.\n",
      "Try using .loc[row_indexer,col_indexer] = value instead\n",
      "\n",
      "See the caveats in the documentation: https://pandas.pydata.org/pandas-docs/stable/user_guide/indexing.html#returning-a-view-versus-a-copy\n",
      "  new_netwok_df['Total TCP Retrans'] = new_netwok_df['TCP DL Retrans. Vol (Bytes)'] +\\\n",
      "C:\\Users\\user\\AppData\\Local\\Temp\\ipykernel_5924\\3159838189.py:3: SettingWithCopyWarning: \n",
      "A value is trying to be set on a copy of a slice from a DataFrame.\n",
      "Try using .loc[row_indexer,col_indexer] = value instead\n",
      "\n",
      "See the caveats in the documentation: https://pandas.pydata.org/pandas-docs/stable/user_guide/indexing.html#returning-a-view-versus-a-copy\n",
      "  new_netwok_df['Total Throughput'] = new_netwok_df['Avg Bearer TP DL (kbps)'] +\\\n",
      "C:\\Users\\user\\AppData\\Local\\Temp\\ipykernel_5924\\3159838189.py:6: SettingWithCopyWarning: \n",
      "A value is trying to be set on a copy of a slice from a DataFrame.\n",
      "Try using .loc[row_indexer,col_indexer] = value instead\n",
      "\n",
      "See the caveats in the documentation: https://pandas.pydata.org/pandas-docs/stable/user_guide/indexing.html#returning-a-view-versus-a-copy\n",
      "  new_netwok_df['Total RTT'] = new_netwok_df['Avg RTT DL (ms)'] + new_netwok_df['Avg RTT UL (ms)']\n"
     ]
    },
    {
     "data": {
      "text/html": [
       "<div>\n",
       "<style scoped>\n",
       "    .dataframe tbody tr th:only-of-type {\n",
       "        vertical-align: middle;\n",
       "    }\n",
       "\n",
       "    .dataframe tbody tr th {\n",
       "        vertical-align: top;\n",
       "    }\n",
       "\n",
       "    .dataframe thead th {\n",
       "        text-align: right;\n",
       "    }\n",
       "</style>\n",
       "<table border=\"1\" class=\"dataframe\">\n",
       "  <thead>\n",
       "    <tr style=\"text-align: right;\">\n",
       "      <th></th>\n",
       "      <th>MSISDN/Number</th>\n",
       "      <th>Handset Type</th>\n",
       "      <th>TCP DL Retrans. Vol (Bytes)</th>\n",
       "      <th>TCP UL Retrans. Vol (Bytes)</th>\n",
       "      <th>Avg RTT DL (ms)</th>\n",
       "      <th>Avg RTT UL (ms)</th>\n",
       "      <th>Avg Bearer TP DL (kbps)</th>\n",
       "      <th>Avg Bearer TP UL (kbps)</th>\n",
       "      <th>Total TCP Retrans</th>\n",
       "      <th>Total Throughput</th>\n",
       "      <th>Total RTT</th>\n",
       "    </tr>\n",
       "  </thead>\n",
       "  <tbody>\n",
       "    <tr>\n",
       "      <th>0</th>\n",
       "      <td>33,664,962,239.00</td>\n",
       "      <td>Samsung Galaxy A5 Sm-A520F</td>\n",
       "      <td>1,330.00</td>\n",
       "      <td>1,330.00</td>\n",
       "      <td>42.00</td>\n",
       "      <td>5.00</td>\n",
       "      <td>23.00</td>\n",
       "      <td>44.00</td>\n",
       "      <td>2,660.00</td>\n",
       "      <td>46.00</td>\n",
       "      <td>47.00</td>\n",
       "    </tr>\n",
       "    <tr>\n",
       "      <th>1</th>\n",
       "      <td>33,681,854,413.00</td>\n",
       "      <td>Samsung Galaxy J5 (Sm-J530)</td>\n",
       "      <td>1,330.00</td>\n",
       "      <td>1,330.00</td>\n",
       "      <td>65.00</td>\n",
       "      <td>5.00</td>\n",
       "      <td>16.00</td>\n",
       "      <td>26.00</td>\n",
       "      <td>2,660.00</td>\n",
       "      <td>32.00</td>\n",
       "      <td>70.00</td>\n",
       "    </tr>\n",
       "    <tr>\n",
       "      <th>2</th>\n",
       "      <td>33,760,627,129.00</td>\n",
       "      <td>Samsung Galaxy A8 (2018)</td>\n",
       "      <td>1,330.00</td>\n",
       "      <td>1,330.00</td>\n",
       "      <td>28.00</td>\n",
       "      <td>5.00</td>\n",
       "      <td>6.00</td>\n",
       "      <td>9.00</td>\n",
       "      <td>2,660.00</td>\n",
       "      <td>12.00</td>\n",
       "      <td>33.00</td>\n",
       "    </tr>\n",
       "    <tr>\n",
       "      <th>3</th>\n",
       "      <td>33,750,343,200.00</td>\n",
       "      <td>undefined</td>\n",
       "      <td>1,330.00</td>\n",
       "      <td>1,330.00</td>\n",
       "      <td>28.00</td>\n",
       "      <td>5.00</td>\n",
       "      <td>44.00</td>\n",
       "      <td>44.00</td>\n",
       "      <td>2,660.00</td>\n",
       "      <td>88.00</td>\n",
       "      <td>33.00</td>\n",
       "    </tr>\n",
       "    <tr>\n",
       "      <th>4</th>\n",
       "      <td>33,699,795,932.00</td>\n",
       "      <td>Samsung Sm-G390F</td>\n",
       "      <td>1,330.00</td>\n",
       "      <td>1,330.00</td>\n",
       "      <td>28.00</td>\n",
       "      <td>5.00</td>\n",
       "      <td>6.00</td>\n",
       "      <td>9.00</td>\n",
       "      <td>2,660.00</td>\n",
       "      <td>12.00</td>\n",
       "      <td>33.00</td>\n",
       "    </tr>\n",
       "  </tbody>\n",
       "</table>\n",
       "</div>"
      ],
      "text/plain": [
       "      MSISDN/Number                 Handset Type  TCP DL Retrans. Vol (Bytes)  \\\n",
       "0 33,664,962,239.00   Samsung Galaxy A5 Sm-A520F                     1,330.00   \n",
       "1 33,681,854,413.00  Samsung Galaxy J5 (Sm-J530)                     1,330.00   \n",
       "2 33,760,627,129.00     Samsung Galaxy A8 (2018)                     1,330.00   \n",
       "3 33,750,343,200.00                    undefined                     1,330.00   \n",
       "4 33,699,795,932.00             Samsung Sm-G390F                     1,330.00   \n",
       "\n",
       "   TCP UL Retrans. Vol (Bytes)  Avg RTT DL (ms)  Avg RTT UL (ms)  \\\n",
       "0                     1,330.00            42.00             5.00   \n",
       "1                     1,330.00            65.00             5.00   \n",
       "2                     1,330.00            28.00             5.00   \n",
       "3                     1,330.00            28.00             5.00   \n",
       "4                     1,330.00            28.00             5.00   \n",
       "\n",
       "   Avg Bearer TP DL (kbps)  Avg Bearer TP UL (kbps)  Total TCP Retrans  \\\n",
       "0                    23.00                    44.00           2,660.00   \n",
       "1                    16.00                    26.00           2,660.00   \n",
       "2                     6.00                     9.00           2,660.00   \n",
       "3                    44.00                    44.00           2,660.00   \n",
       "4                     6.00                     9.00           2,660.00   \n",
       "\n",
       "   Total Throughput  Total RTT  \n",
       "0             46.00      47.00  \n",
       "1             32.00      70.00  \n",
       "2             12.00      33.00  \n",
       "3             88.00      33.00  \n",
       "4             12.00      33.00  "
      ]
     },
     "execution_count": 274,
     "metadata": {},
     "output_type": "execute_result"
    }
   ],
   "source": [
    "new_netwok_df['Total TCP Retrans'] = new_netwok_df['TCP DL Retrans. Vol (Bytes)'] +\\\n",
    "    new_netwok_df['TCP UL Retrans. Vol (Bytes)']\n",
    "new_netwok_df['Total Throughput'] = new_netwok_df['Avg Bearer TP DL (kbps)'] +\\\n",
    "    new_netwok_df['Avg Bearer TP DL (kbps)']\n",
    "\n",
    "new_netwok_df['Total RTT'] = new_netwok_df['Avg RTT DL (ms)'] + new_netwok_df['Avg RTT UL (ms)']\n",
    "\n",
    "new_netwok_df.head()"
   ]
  },
  {
   "cell_type": "code",
   "execution_count": 275,
   "id": "b2461ac3",
   "metadata": {},
   "outputs": [
    {
     "data": {
      "text/html": [
       "<div>\n",
       "<style scoped>\n",
       "    .dataframe tbody tr th:only-of-type {\n",
       "        vertical-align: middle;\n",
       "    }\n",
       "\n",
       "    .dataframe tbody tr th {\n",
       "        vertical-align: top;\n",
       "    }\n",
       "\n",
       "    .dataframe thead th {\n",
       "        text-align: right;\n",
       "    }\n",
       "</style>\n",
       "<table border=\"1\" class=\"dataframe\">\n",
       "  <thead>\n",
       "    <tr style=\"text-align: right;\">\n",
       "      <th></th>\n",
       "      <th>MSISDN/Number</th>\n",
       "      <th>Handset Type</th>\n",
       "      <th>Total TCP Retrans</th>\n",
       "      <th>Total Throughput</th>\n",
       "      <th>Total RTT</th>\n",
       "    </tr>\n",
       "  </thead>\n",
       "  <tbody>\n",
       "    <tr>\n",
       "      <th>0</th>\n",
       "      <td>33,601,001,722.00</td>\n",
       "      <td>Huawei P20 Lite Huawei Nova 3E</td>\n",
       "      <td>2,660.00</td>\n",
       "      <td>74.00</td>\n",
       "      <td>46.00</td>\n",
       "    </tr>\n",
       "    <tr>\n",
       "      <th>1</th>\n",
       "      <td>33,601,001,754.00</td>\n",
       "      <td>Apple iPhone 7 (A1778)</td>\n",
       "      <td>2,660.00</td>\n",
       "      <td>96.00</td>\n",
       "      <td>31.00</td>\n",
       "    </tr>\n",
       "    <tr>\n",
       "      <th>2</th>\n",
       "      <td>33,601,002,511.00</td>\n",
       "      <td>undefined</td>\n",
       "      <td>2,660.00</td>\n",
       "      <td>96.00</td>\n",
       "      <td>33.00</td>\n",
       "    </tr>\n",
       "    <tr>\n",
       "      <th>3</th>\n",
       "      <td>33,601,007,832.00</td>\n",
       "      <td>Apple iPhone 5S (A1457)</td>\n",
       "      <td>2,396.00</td>\n",
       "      <td>408.00</td>\n",
       "      <td>84.00</td>\n",
       "    </tr>\n",
       "    <tr>\n",
       "      <th>4</th>\n",
       "      <td>33,601,008,617.00</td>\n",
       "      <td>Apple iPhone Se (A1723)</td>\n",
       "      <td>9,373,492.00</td>\n",
       "      <td>80,790.00</td>\n",
       "      <td>119.00</td>\n",
       "    </tr>\n",
       "    <tr>\n",
       "      <th>5</th>\n",
       "      <td>33,601,010,682.00</td>\n",
       "      <td>Samsung Galaxy A8 (2018)</td>\n",
       "      <td>6,750.00</td>\n",
       "      <td>15,044.00</td>\n",
       "      <td>57.00</td>\n",
       "    </tr>\n",
       "    <tr>\n",
       "      <th>6</th>\n",
       "      <td>33,601,011,634.00</td>\n",
       "      <td>Huawei Mate 10 Pro Porsche Design Huawei Mate 10</td>\n",
       "      <td>112,892.00</td>\n",
       "      <td>81,942.00</td>\n",
       "      <td>53.00</td>\n",
       "    </tr>\n",
       "    <tr>\n",
       "      <th>7</th>\n",
       "      <td>33,601,011,959.00</td>\n",
       "      <td>Samsung Galaxy S8 Plus (Sm-G955F)</td>\n",
       "      <td>1,608.00</td>\n",
       "      <td>1,494.00</td>\n",
       "      <td>52.00</td>\n",
       "    </tr>\n",
       "    <tr>\n",
       "      <th>8</th>\n",
       "      <td>33,601,014,694.00</td>\n",
       "      <td>undefined</td>\n",
       "      <td>5,320.00</td>\n",
       "      <td>154.00</td>\n",
       "      <td>66.00</td>\n",
       "    </tr>\n",
       "    <tr>\n",
       "      <th>9</th>\n",
       "      <td>33,601,020,306.00</td>\n",
       "      <td>Apple iPhone X (A1865)</td>\n",
       "      <td>2,624.00</td>\n",
       "      <td>150.00</td>\n",
       "      <td>62.00</td>\n",
       "    </tr>\n",
       "  </tbody>\n",
       "</table>\n",
       "</div>"
      ],
      "text/plain": [
       "      MSISDN/Number                                      Handset Type  \\\n",
       "0 33,601,001,722.00                    Huawei P20 Lite Huawei Nova 3E   \n",
       "1 33,601,001,754.00                            Apple iPhone 7 (A1778)   \n",
       "2 33,601,002,511.00                                         undefined   \n",
       "3 33,601,007,832.00                           Apple iPhone 5S (A1457)   \n",
       "4 33,601,008,617.00                           Apple iPhone Se (A1723)   \n",
       "5 33,601,010,682.00                          Samsung Galaxy A8 (2018)   \n",
       "6 33,601,011,634.00  Huawei Mate 10 Pro Porsche Design Huawei Mate 10   \n",
       "7 33,601,011,959.00                 Samsung Galaxy S8 Plus (Sm-G955F)   \n",
       "8 33,601,014,694.00                                         undefined   \n",
       "9 33,601,020,306.00                            Apple iPhone X (A1865)   \n",
       "\n",
       "   Total TCP Retrans  Total Throughput  Total RTT  \n",
       "0           2,660.00             74.00      46.00  \n",
       "1           2,660.00             96.00      31.00  \n",
       "2           2,660.00             96.00      33.00  \n",
       "3           2,396.00            408.00      84.00  \n",
       "4       9,373,492.00         80,790.00     119.00  \n",
       "5           6,750.00         15,044.00      57.00  \n",
       "6         112,892.00         81,942.00      53.00  \n",
       "7           1,608.00          1,494.00      52.00  \n",
       "8           5,320.00            154.00      66.00  \n",
       "9           2,624.00            150.00      62.00  "
      ]
     },
     "execution_count": 275,
     "metadata": {},
     "output_type": "execute_result"
    }
   ],
   "source": [
    "aggregate = {'Handset Type':'first','Total TCP Retrans':'sum', 'Total Throughput':'sum', 'Total RTT':'sum'}\n",
    "columns = ['MSISDN/Number','Bearer Id','Handset Type', 'Total TCP Retrans', 'Total Throughput', 'Total RTT']\n",
    "network_per_user_df = new_netwok_df.groupby('MSISDN/Number').agg(aggregate).reset_index()\n",
    "network_per_user_df.head(10)"
   ]
  },
  {
   "cell_type": "markdown",
   "id": "02281df0",
   "metadata": {},
   "source": [
    "##### Task 3.2 - Compute & list 10 of the top, bottom and most frequent:"
   ]
  },
  {
   "cell_type": "markdown",
   "id": "03984d34",
   "metadata": {},
   "source": [
    "1. TCP values in the dataset. \n",
    "2. RTT values in the dataset.\n",
    "3. Throughput values in the dataset."
   ]
  },
  {
   "cell_type": "code",
   "execution_count": 276,
   "id": "8c0b6cc5",
   "metadata": {},
   "outputs": [
    {
     "data": {
      "image/png": "[encoded data removed]",
      "text/plain": [
       "<Figure size 864x504 with 1 Axes>"
      ]
     },
     "metadata": {},
     "output_type": "display_data"
    }
   ],
   "source": [
    "# top 10\n",
    "#df = network_per_user_df.\n",
    "result = network_per_user_df.sort_values(by='Total TCP Retrans', ascending=False)[:100]\n",
    "plot_bar(result, result['Handset Type'], result['Total TCP Retrans'], 'Highest Total TCP Retrans Handsets','','')"
   ]
  },
  {
   "cell_type": "code",
   "execution_count": 277,
   "id": "227275f7",
   "metadata": {},
   "outputs": [
    {
     "data": {
      "text/html": [
       "<div>\n",
       "<style scoped>\n",
       "    .dataframe tbody tr th:only-of-type {\n",
       "        vertical-align: middle;\n",
       "    }\n",
       "\n",
       "    .dataframe tbody tr th {\n",
       "        vertical-align: top;\n",
       "    }\n",
       "\n",
       "    .dataframe thead th {\n",
       "        text-align: right;\n",
       "    }\n",
       "</style>\n",
       "<table border=\"1\" class=\"dataframe\">\n",
       "  <thead>\n",
       "    <tr style=\"text-align: right;\">\n",
       "      <th></th>\n",
       "      <th>MSISDN/Number</th>\n",
       "      <th>Handset Type</th>\n",
       "      <th>Total TCP Retrans</th>\n",
       "      <th>Total Throughput</th>\n",
       "      <th>Total RTT</th>\n",
       "    </tr>\n",
       "  </thead>\n",
       "  <tbody>\n",
       "    <tr>\n",
       "      <th>23472</th>\n",
       "      <td>33,650,128,412.00</td>\n",
       "      <td>Apple iPhone 5S (A1457)</td>\n",
       "      <td>97.00</td>\n",
       "      <td>60,460.00</td>\n",
       "      <td>48.00</td>\n",
       "    </tr>\n",
       "    <tr>\n",
       "      <th>6359</th>\n",
       "      <td>33,614,777,138.00</td>\n",
       "      <td>Huawei Ascend Mate7</td>\n",
       "      <td>128.00</td>\n",
       "      <td>16,996.00</td>\n",
       "      <td>64.00</td>\n",
       "    </tr>\n",
       "    <tr>\n",
       "      <th>96977</th>\n",
       "      <td>33,762,062,356.00</td>\n",
       "      <td>Apple iPhone 8 (A1905)</td>\n",
       "      <td>129.00</td>\n",
       "      <td>63,080.00</td>\n",
       "      <td>41.00</td>\n",
       "    </tr>\n",
       "    <tr>\n",
       "      <th>13546</th>\n",
       "      <td>33,626,357,513.00</td>\n",
       "      <td>Apple iPhone 7 (A1778)</td>\n",
       "      <td>134.00</td>\n",
       "      <td>20,256.00</td>\n",
       "      <td>40.00</td>\n",
       "    </tr>\n",
       "    <tr>\n",
       "      <th>2177</th>\n",
       "      <td>33,607,833,304.00</td>\n",
       "      <td>Apple iPhone 5C (A1529)</td>\n",
       "      <td>143.00</td>\n",
       "      <td>32,484.00</td>\n",
       "      <td>32.00</td>\n",
       "    </tr>\n",
       "    <tr>\n",
       "      <th>102198</th>\n",
       "      <td>33,769,636,458.00</td>\n",
       "      <td>Apple iPhone 5S (A1457)</td>\n",
       "      <td>176.00</td>\n",
       "      <td>23,964.00</td>\n",
       "      <td>32.00</td>\n",
       "    </tr>\n",
       "    <tr>\n",
       "      <th>25863</th>\n",
       "      <td>33,650,681,239.00</td>\n",
       "      <td>Xiaomi Communica. Mi Max3</td>\n",
       "      <td>176.00</td>\n",
       "      <td>13,162.00</td>\n",
       "      <td>52.00</td>\n",
       "    </tr>\n",
       "    <tr>\n",
       "      <th>105775</th>\n",
       "      <td>33,784,203,839.00</td>\n",
       "      <td>Apple iPhone Xr (A2108)</td>\n",
       "      <td>177.00</td>\n",
       "      <td>11,042.00</td>\n",
       "      <td>74.00</td>\n",
       "    </tr>\n",
       "    <tr>\n",
       "      <th>78100</th>\n",
       "      <td>33,679,366,089.00</td>\n",
       "      <td>Samsung Galaxy S6 Plus (Sm-G928)</td>\n",
       "      <td>179.00</td>\n",
       "      <td>67,788.00</td>\n",
       "      <td>39.00</td>\n",
       "    </tr>\n",
       "    <tr>\n",
       "      <th>89395</th>\n",
       "      <td>33,699,694,715.00</td>\n",
       "      <td>Samsung Galaxy Trend Lite 2 (Sm-G318X)</td>\n",
       "      <td>182.00</td>\n",
       "      <td>182.00</td>\n",
       "      <td>169.00</td>\n",
       "    </tr>\n",
       "  </tbody>\n",
       "</table>\n",
       "</div>"
      ],
      "text/plain": [
       "           MSISDN/Number                            Handset Type  \\\n",
       "23472  33,650,128,412.00                 Apple iPhone 5S (A1457)   \n",
       "6359   33,614,777,138.00                     Huawei Ascend Mate7   \n",
       "96977  33,762,062,356.00                  Apple iPhone 8 (A1905)   \n",
       "13546  33,626,357,513.00                  Apple iPhone 7 (A1778)   \n",
       "2177   33,607,833,304.00                 Apple iPhone 5C (A1529)   \n",
       "102198 33,769,636,458.00                 Apple iPhone 5S (A1457)   \n",
       "25863  33,650,681,239.00               Xiaomi Communica. Mi Max3   \n",
       "105775 33,784,203,839.00                 Apple iPhone Xr (A2108)   \n",
       "78100  33,679,366,089.00        Samsung Galaxy S6 Plus (Sm-G928)   \n",
       "89395  33,699,694,715.00  Samsung Galaxy Trend Lite 2 (Sm-G318X)   \n",
       "\n",
       "        Total TCP Retrans  Total Throughput  Total RTT  \n",
       "23472               97.00         60,460.00      48.00  \n",
       "6359               128.00         16,996.00      64.00  \n",
       "96977              129.00         63,080.00      41.00  \n",
       "13546              134.00         20,256.00      40.00  \n",
       "2177               143.00         32,484.00      32.00  \n",
       "102198             176.00         23,964.00      32.00  \n",
       "25863              176.00         13,162.00      52.00  \n",
       "105775             177.00         11,042.00      74.00  \n",
       "78100              179.00         67,788.00      39.00  \n",
       "89395              182.00            182.00     169.00  "
      ]
     },
     "execution_count": 277,
     "metadata": {},
     "output_type": "execute_result"
    }
   ],
   "source": [
    "# Bottom 5\n",
    "network_per_user_df.sort_values(by='Total TCP Retrans', ascending=True)[:10]"
   ]
  },
  {
   "cell_type": "code",
   "execution_count": 278,
   "id": "be3c656a",
   "metadata": {},
   "outputs": [
    {
     "data": {
      "text/plain": [
       "2,660.00     47449\n",
       "5,320.00      7662\n",
       "7,980.00      1108\n",
       "2,624.00       363\n",
       "10,640.00      293\n",
       "3,990.00       154\n",
       "2,648.00       136\n",
       "6,650.00       107\n",
       "5,284.00       107\n",
       "13,300.00       93\n",
       "Name: Total TCP Retrans, dtype: int64"
      ]
     },
     "execution_count": 278,
     "metadata": {},
     "output_type": "execute_result"
    }
   ],
   "source": [
    "# most frequent\n",
    "network_per_user_df['Total TCP Retrans'].value_counts().head(10)"
   ]
  },
  {
   "cell_type": "markdown",
   "id": "9319f9e4",
   "metadata": {},
   "source": [
    "#### Task 3.3 - Compute & report:"
   ]
  },
  {
   "cell_type": "markdown",
   "id": "9b51cb35",
   "metadata": {},
   "source": [
    "1. The distribution of the average throughput  per handset type and provide interpretation for your findings.\n",
    "2. The average TCP retransmission view per handset type and provide interpretation for your findings."
   ]
  },
  {
   "cell_type": "code",
   "execution_count": 279,
   "id": "e1802686",
   "metadata": {},
   "outputs": [
    {
     "data": {
      "text/html": [
       "<div>\n",
       "<style scoped>\n",
       "    .dataframe tbody tr th:only-of-type {\n",
       "        vertical-align: middle;\n",
       "    }\n",
       "\n",
       "    .dataframe tbody tr th {\n",
       "        vertical-align: top;\n",
       "    }\n",
       "\n",
       "    .dataframe thead th {\n",
       "        text-align: right;\n",
       "    }\n",
       "</style>\n",
       "<table border=\"1\" class=\"dataframe\">\n",
       "  <thead>\n",
       "    <tr style=\"text-align: right;\">\n",
       "      <th></th>\n",
       "      <th>Handset Type</th>\n",
       "      <th>Total Throughput</th>\n",
       "    </tr>\n",
       "  </thead>\n",
       "  <tbody>\n",
       "    <tr>\n",
       "      <th>316</th>\n",
       "      <td>Huawei B528S-23A</td>\n",
       "      <td>1,440,008,494.00</td>\n",
       "    </tr>\n",
       "    <tr>\n",
       "      <th>1393</th>\n",
       "      <td>undefined</td>\n",
       "      <td>195,820,540.00</td>\n",
       "    </tr>\n",
       "    <tr>\n",
       "      <th>59</th>\n",
       "      <td>Apple iPhone 7 (A1778)</td>\n",
       "      <td>135,674,378.00</td>\n",
       "    </tr>\n",
       "    <tr>\n",
       "      <th>53</th>\n",
       "      <td>Apple iPhone 6S (A1688)</td>\n",
       "      <td>130,004,954.00</td>\n",
       "    </tr>\n",
       "    <tr>\n",
       "      <th>49</th>\n",
       "      <td>Apple iPhone 6 (A1586)</td>\n",
       "      <td>118,531,110.00</td>\n",
       "    </tr>\n",
       "  </tbody>\n",
       "</table>\n",
       "</div>"
      ],
      "text/plain": [
       "                 Handset Type  Total Throughput\n",
       "316          Huawei B528S-23A  1,440,008,494.00\n",
       "1393                undefined    195,820,540.00\n",
       "59     Apple iPhone 7 (A1778)    135,674,378.00\n",
       "53    Apple iPhone 6S (A1688)    130,004,954.00\n",
       "49     Apple iPhone 6 (A1586)    118,531,110.00"
      ]
     },
     "execution_count": 279,
     "metadata": {},
     "output_type": "execute_result"
    }
   ],
   "source": [
    "handset_throughput = network_per_user_df.groupby('Handset Type').agg({'Total Throughput': 'sum'}).reset_index()\n",
    "handset_throughput.sort_values(by='Total Throughput', ascending=False).head(5)\n",
    "\n",
    "## Huawi is leading but apple is follwoing closely"
   ]
  },
  {
   "cell_type": "code",
   "execution_count": 280,
   "id": "a5619ec7",
   "metadata": {},
   "outputs": [
    {
     "data": {
      "text/html": [
       "<div>\n",
       "<style scoped>\n",
       "    .dataframe tbody tr th:only-of-type {\n",
       "        vertical-align: middle;\n",
       "    }\n",
       "\n",
       "    .dataframe tbody tr th {\n",
       "        vertical-align: top;\n",
       "    }\n",
       "\n",
       "    .dataframe thead th {\n",
       "        text-align: right;\n",
       "    }\n",
       "</style>\n",
       "<table border=\"1\" class=\"dataframe\">\n",
       "  <thead>\n",
       "    <tr style=\"text-align: right;\">\n",
       "      <th></th>\n",
       "      <th>Handset Type</th>\n",
       "      <th>Total RTT</th>\n",
       "    </tr>\n",
       "  </thead>\n",
       "  <tbody>\n",
       "    <tr>\n",
       "      <th>316</th>\n",
       "      <td>Huawei B528S-23A</td>\n",
       "      <td>2,995,417.00</td>\n",
       "    </tr>\n",
       "    <tr>\n",
       "      <th>1393</th>\n",
       "      <td>undefined</td>\n",
       "      <td>999,155.00</td>\n",
       "    </tr>\n",
       "    <tr>\n",
       "      <th>49</th>\n",
       "      <td>Apple iPhone 6 (A1586)</td>\n",
       "      <td>913,046.00</td>\n",
       "    </tr>\n",
       "    <tr>\n",
       "      <th>53</th>\n",
       "      <td>Apple iPhone 6S (A1688)</td>\n",
       "      <td>730,817.00</td>\n",
       "    </tr>\n",
       "    <tr>\n",
       "      <th>59</th>\n",
       "      <td>Apple iPhone 7 (A1778)</td>\n",
       "      <td>703,139.00</td>\n",
       "    </tr>\n",
       "  </tbody>\n",
       "</table>\n",
       "</div>"
      ],
      "text/plain": [
       "                 Handset Type    Total RTT\n",
       "316          Huawei B528S-23A 2,995,417.00\n",
       "1393                undefined   999,155.00\n",
       "49     Apple iPhone 6 (A1586)   913,046.00\n",
       "53    Apple iPhone 6S (A1688)   730,817.00\n",
       "59     Apple iPhone 7 (A1778)   703,139.00"
      ]
     },
     "execution_count": 280,
     "metadata": {},
     "output_type": "execute_result"
    }
   ],
   "source": [
    "handset_rtt = network_per_user_df.groupby('Handset Type').agg({'Total RTT': 'sum'}).reset_index()\n",
    "handset_rtt.sort_values(by='Total RTT', ascending=False).head(5)\n"
   ]
  },
  {
   "cell_type": "markdown",
   "id": "9b869a92",
   "metadata": {},
   "source": [
    "#### Task 3.4 - Using the experience metrics above, perform a k-means clustering (where k = 3) to segment users into groups of experiences and provide a brief description of each cluster"
   ]
  },
  {
   "cell_type": "code",
   "execution_count": 281,
   "id": "a55d1e2a",
   "metadata": {},
   "outputs": [
    {
     "data": {
      "text/html": [
       "<div>\n",
       "<style scoped>\n",
       "    .dataframe tbody tr th:only-of-type {\n",
       "        vertical-align: middle;\n",
       "    }\n",
       "\n",
       "    .dataframe tbody tr th {\n",
       "        vertical-align: top;\n",
       "    }\n",
       "\n",
       "    .dataframe thead th {\n",
       "        text-align: right;\n",
       "    }\n",
       "</style>\n",
       "<table border=\"1\" class=\"dataframe\">\n",
       "  <thead>\n",
       "    <tr style=\"text-align: right;\">\n",
       "      <th></th>\n",
       "      <th>Total TCP Retrans</th>\n",
       "      <th>Total Throughput</th>\n",
       "      <th>Total RTT</th>\n",
       "    </tr>\n",
       "    <tr>\n",
       "      <th>MSISDN/Number</th>\n",
       "      <th></th>\n",
       "      <th></th>\n",
       "      <th></th>\n",
       "    </tr>\n",
       "  </thead>\n",
       "  <tbody>\n",
       "    <tr>\n",
       "      <th>33,601,001,722.00</th>\n",
       "      <td>2,660.00</td>\n",
       "      <td>74.00</td>\n",
       "      <td>46.00</td>\n",
       "    </tr>\n",
       "    <tr>\n",
       "      <th>33,601,001,754.00</th>\n",
       "      <td>2,660.00</td>\n",
       "      <td>96.00</td>\n",
       "      <td>31.00</td>\n",
       "    </tr>\n",
       "    <tr>\n",
       "      <th>33,601,002,511.00</th>\n",
       "      <td>2,660.00</td>\n",
       "      <td>96.00</td>\n",
       "      <td>33.00</td>\n",
       "    </tr>\n",
       "    <tr>\n",
       "      <th>33,601,007,832.00</th>\n",
       "      <td>2,396.00</td>\n",
       "      <td>408.00</td>\n",
       "      <td>84.00</td>\n",
       "    </tr>\n",
       "    <tr>\n",
       "      <th>33,601,008,617.00</th>\n",
       "      <td>9,373,492.00</td>\n",
       "      <td>80,790.00</td>\n",
       "      <td>119.00</td>\n",
       "    </tr>\n",
       "  </tbody>\n",
       "</table>\n",
       "</div>"
      ],
      "text/plain": [
       "                   Total TCP Retrans  Total Throughput  Total RTT\n",
       "MSISDN/Number                                                    \n",
       "33,601,001,722.00           2,660.00             74.00      46.00\n",
       "33,601,001,754.00           2,660.00             96.00      31.00\n",
       "33,601,002,511.00           2,660.00             96.00      33.00\n",
       "33,601,007,832.00           2,396.00            408.00      84.00\n",
       "33,601,008,617.00       9,373,492.00         80,790.00     119.00"
      ]
     },
     "execution_count": 281,
     "metadata": {},
     "output_type": "execute_result"
    }
   ],
   "source": [
    "handset= network_per_user_df['Handset Type'].unique()\n",
    "net_cluster_df = network_per_user_df.copy()\n",
    "net_cluster_df.drop('Handset Type', axis=1, inplace=True)\n",
    "net_cluster_df = net_cluster_df.set_index('MSISDN/Number')\n",
    "\n",
    "net_cluster_df.head()"
   ]
  },
  {
   "cell_type": "code",
   "execution_count": 282,
   "id": "a51909db",
   "metadata": {},
   "outputs": [],
   "source": [
    "## First normalize the Data, Then Cluster\n",
    "min_max_scaler = preprocessing.MinMaxScaler()\n",
    "network_values = net_cluster_df.values\n",
    "\n",
    "scalled_values = min_max_scaler.fit_transform(network_values)\n",
    "df_network_normalized = pd.DataFrame(data=scalled_values, columns=df2.columns)\n",
    "\n",
    "\n",
    "kmeans = KMeans(n_clusters=3).fit(df_normalized)"
   ]
  },
  {
   "cell_type": "code",
   "execution_count": 283,
   "id": "c4e9c1f1",
   "metadata": {},
   "outputs": [
    {
     "data": {
      "text/html": [
       "<div>\n",
       "<style scoped>\n",
       "    .dataframe tbody tr th:only-of-type {\n",
       "        vertical-align: middle;\n",
       "    }\n",
       "\n",
       "    .dataframe tbody tr th {\n",
       "        vertical-align: top;\n",
       "    }\n",
       "\n",
       "    .dataframe thead th {\n",
       "        text-align: right;\n",
       "    }\n",
       "</style>\n",
       "<table border=\"1\" class=\"dataframe\">\n",
       "  <thead>\n",
       "    <tr style=\"text-align: right;\">\n",
       "      <th></th>\n",
       "      <th>Handset Type</th>\n",
       "      <th>Total TCP Retrans</th>\n",
       "      <th>Total Throughput</th>\n",
       "      <th>Total RTT</th>\n",
       "      <th>cluster-experiance</th>\n",
       "    </tr>\n",
       "    <tr>\n",
       "      <th>MSISDN/Number</th>\n",
       "      <th></th>\n",
       "      <th></th>\n",
       "      <th></th>\n",
       "      <th></th>\n",
       "      <th></th>\n",
       "    </tr>\n",
       "  </thead>\n",
       "  <tbody>\n",
       "    <tr>\n",
       "      <th>33,601,001,722.00</th>\n",
       "      <td>Huawei P20 Lite Huawei Nova 3E</td>\n",
       "      <td>2,660.00</td>\n",
       "      <td>74.00</td>\n",
       "      <td>46.00</td>\n",
       "      <td>0</td>\n",
       "    </tr>\n",
       "    <tr>\n",
       "      <th>33,601,001,754.00</th>\n",
       "      <td>Apple iPhone 7 (A1778)</td>\n",
       "      <td>2,660.00</td>\n",
       "      <td>96.00</td>\n",
       "      <td>31.00</td>\n",
       "      <td>0</td>\n",
       "    </tr>\n",
       "    <tr>\n",
       "      <th>33,601,002,511.00</th>\n",
       "      <td>undefined</td>\n",
       "      <td>2,660.00</td>\n",
       "      <td>96.00</td>\n",
       "      <td>33.00</td>\n",
       "      <td>0</td>\n",
       "    </tr>\n",
       "    <tr>\n",
       "      <th>33,601,007,832.00</th>\n",
       "      <td>Apple iPhone 5S (A1457)</td>\n",
       "      <td>2,396.00</td>\n",
       "      <td>408.00</td>\n",
       "      <td>84.00</td>\n",
       "      <td>0</td>\n",
       "    </tr>\n",
       "    <tr>\n",
       "      <th>33,601,008,617.00</th>\n",
       "      <td>Apple iPhone Se (A1723)</td>\n",
       "      <td>9,373,492.00</td>\n",
       "      <td>80,790.00</td>\n",
       "      <td>119.00</td>\n",
       "      <td>0</td>\n",
       "    </tr>\n",
       "  </tbody>\n",
       "</table>\n",
       "</div>"
      ],
      "text/plain": [
       "                                     Handset Type  Total TCP Retrans  \\\n",
       "MSISDN/Number                                                          \n",
       "33,601,001,722.00  Huawei P20 Lite Huawei Nova 3E           2,660.00   \n",
       "33,601,001,754.00          Apple iPhone 7 (A1778)           2,660.00   \n",
       "33,601,002,511.00                       undefined           2,660.00   \n",
       "33,601,007,832.00         Apple iPhone 5S (A1457)           2,396.00   \n",
       "33,601,008,617.00         Apple iPhone Se (A1723)       9,373,492.00   \n",
       "\n",
       "                   Total Throughput  Total RTT  cluster-experiance  \n",
       "MSISDN/Number                                                       \n",
       "33,601,001,722.00             74.00      46.00                   0  \n",
       "33,601,001,754.00             96.00      31.00                   0  \n",
       "33,601,002,511.00             96.00      33.00                   0  \n",
       "33,601,007,832.00            408.00      84.00                   0  \n",
       "33,601,008,617.00         80,790.00     119.00                   0  "
      ]
     },
     "execution_count": 283,
     "metadata": {},
     "output_type": "execute_result"
    }
   ],
   "source": [
    "cluster = kmeans.predict(df_network_normalized)\n",
    "experiance_df = network_per_user_df.copy()\n",
    "experiance_df['cluster-experiance']  = cluster\n",
    "experiance_df = experiance_df.set_index('MSISDN/Number')\n",
    "experiance_df.head()"
   ]
  },
  {
   "cell_type": "code",
   "execution_count": 284,
   "id": "87aff6d9",
   "metadata": {},
   "outputs": [
    {
     "data": {
      "image/png": "[encoded data removed]",
      "text/plain": [
       "<Figure size 864x504 with 1 Axes>"
      ]
     },
     "metadata": {},
     "output_type": "display_data"
    }
   ],
   "source": [
    "plot_scatter(experiance_df,\"Total Throughput\", \"Total RTT\",\"Clustering with Kmean\", \"cluster-experiance\", \"\")"
   ]
  },
  {
   "cell_type": "code",
   "execution_count": 285,
   "id": "8c3b95d2",
   "metadata": {},
   "outputs": [
    {
     "data": {
      "text/plain": [
       "0    99741\n",
       "2     7114\n",
       "1        1\n",
       "Name: cluster-experiance, dtype: int64"
      ]
     },
     "execution_count": 285,
     "metadata": {},
     "output_type": "execute_result"
    }
   ],
   "source": [
    "experiance_df['cluster-experiance'].value_counts()\n"
   ]
  },
  {
   "cell_type": "markdown",
   "id": "cca43153",
   "metadata": {},
   "source": [
    "### Task 4 - Satisfaction Analysis"
   ]
  },
  {
   "cell_type": "markdown",
   "id": "02a7137a",
   "metadata": {},
   "source": [
    "1. engagement score to each user. Consider the engagement score as the Euclidean distance between the user data point & the less engaged cluster (use the first clustering for this) \n",
    "\n",
    "2. experience score to each user. Consider the experience score as the Euclidean distance between the user data point & the worst experience’s cluster."
   ]
  },
  {
   "cell_type": "code",
   "execution_count": 286,
   "id": "62e6be68",
   "metadata": {},
   "outputs": [
    {
     "data": {
      "text/plain": [
       "Bearer Id                      1.25\n",
       "Dur. (ms).1          115,587,132.79\n",
       "Total                617,096,507.70\n",
       "cluster-engagement             0.00\n",
       "dtype: float64"
      ]
     },
     "execution_count": 286,
     "metadata": {},
     "output_type": "execute_result"
    }
   ],
   "source": [
    "## Engagement Score\n",
    "lowest_engagement = eng_df.groupby('cluster-engagement').get_group(0).mean()\n",
    "lowest_engagement"
   ]
  },
  {
   "cell_type": "code",
   "execution_count": 287,
   "id": "8bb43e02",
   "metadata": {},
   "outputs": [
    {
     "data": {
      "text/html": [
       "<div>\n",
       "<style scoped>\n",
       "    .dataframe tbody tr th:only-of-type {\n",
       "        vertical-align: middle;\n",
       "    }\n",
       "\n",
       "    .dataframe tbody tr th {\n",
       "        vertical-align: top;\n",
       "    }\n",
       "\n",
       "    .dataframe thead th {\n",
       "        text-align: right;\n",
       "    }\n",
       "</style>\n",
       "<table border=\"1\" class=\"dataframe\">\n",
       "  <thead>\n",
       "    <tr style=\"text-align: right;\">\n",
       "      <th></th>\n",
       "      <th>Bearer Id</th>\n",
       "      <th>Dur. (ms).1</th>\n",
       "      <th>Total</th>\n",
       "      <th>cluster-engagement</th>\n",
       "      <th>engagement score</th>\n",
       "    </tr>\n",
       "    <tr>\n",
       "      <th>MSISDN/Number</th>\n",
       "      <th></th>\n",
       "      <th></th>\n",
       "      <th></th>\n",
       "      <th></th>\n",
       "      <th></th>\n",
       "    </tr>\n",
       "  </thead>\n",
       "  <tbody>\n",
       "    <tr>\n",
       "      <th>33601001722</th>\n",
       "      <td>1</td>\n",
       "      <td>116,720,140.00</td>\n",
       "      <td>878,690,574.00</td>\n",
       "      <td>0</td>\n",
       "      <td>261,596,519.91</td>\n",
       "    </tr>\n",
       "    <tr>\n",
       "      <th>33601001754</th>\n",
       "      <td>1</td>\n",
       "      <td>181,230,963.00</td>\n",
       "      <td>156,859,643.00</td>\n",
       "      <td>0</td>\n",
       "      <td>464,894,702.14</td>\n",
       "    </tr>\n",
       "    <tr>\n",
       "      <th>33601002511</th>\n",
       "      <td>1</td>\n",
       "      <td>134,969,374.00</td>\n",
       "      <td>595,966,483.00</td>\n",
       "      <td>0</td>\n",
       "      <td>28,673,144.55</td>\n",
       "    </tr>\n",
       "    <tr>\n",
       "      <th>33601007832</th>\n",
       "      <td>1</td>\n",
       "      <td>49,878,024.00</td>\n",
       "      <td>422,320,698.00</td>\n",
       "      <td>0</td>\n",
       "      <td>205,560,947.22</td>\n",
       "    </tr>\n",
       "    <tr>\n",
       "      <th>33601008617</th>\n",
       "      <td>2</td>\n",
       "      <td>37,104,453.00</td>\n",
       "      <td>1,457,410,944.00</td>\n",
       "      <td>0</td>\n",
       "      <td>843,971,494.11</td>\n",
       "    </tr>\n",
       "  </tbody>\n",
       "</table>\n",
       "</div>"
      ],
      "text/plain": [
       "               Bearer Id    Dur. (ms).1            Total  cluster-engagement  \\\n",
       "MSISDN/Number                                                                  \n",
       "33601001722            1 116,720,140.00   878,690,574.00                   0   \n",
       "33601001754            1 181,230,963.00   156,859,643.00                   0   \n",
       "33601002511            1 134,969,374.00   595,966,483.00                   0   \n",
       "33601007832            1  49,878,024.00   422,320,698.00                   0   \n",
       "33601008617            2  37,104,453.00 1,457,410,944.00                   0   \n",
       "\n",
       "               engagement score  \n",
       "MSISDN/Number                    \n",
       "33601001722      261,596,519.91  \n",
       "33601001754      464,894,702.14  \n",
       "33601002511       28,673,144.55  \n",
       "33601007832      205,560,947.22  \n",
       "33601008617      843,971,494.11  "
      ]
     },
     "execution_count": 287,
     "metadata": {},
     "output_type": "execute_result"
    }
   ],
   "source": [
    "def get_engagement_score(df, lowest):\n",
    "    x = float(lowest['Bearer Id'])\n",
    "    y = float(lowest['Dur. (ms).1'])\n",
    "    z = float(lowest['Total'])\n",
    "    new_df = df.copy()\n",
    "    new_df['engagement score'] = ((df['Bearer Id'] - x)**2 + (df['Dur. (ms).1'] - y)**2 + (df['Total'] - z)**2)**0.5\n",
    "    return new_df\n",
    "engagement_scored_df = get_engagement_score(eng_df, lowest_engagement)\n",
    "engagement_scored_df.head()"
   ]
  },
  {
   "cell_type": "code",
   "execution_count": 288,
   "id": "103954d7",
   "metadata": {},
   "outputs": [
    {
     "name": "stderr",
     "output_type": "stream",
     "text": [
      "C:\\Users\\user\\AppData\\Local\\Temp\\ipykernel_5924\\4270665471.py:1: FutureWarning: Dropping of nuisance columns in DataFrame reductions (with 'numeric_only=None') is deprecated; in a future version this will raise TypeError.  Select only valid columns before calling the reduction.\n",
      "  lowest_experiance = experiance_df.groupby('cluster-experiance').get_group(0).mean()\n"
     ]
    },
    {
     "data": {
      "text/plain": [
       "Total TCP Retrans    1,561,760.32\n",
       "Total Throughput        22,287.70\n",
       "Total RTT                  119.27\n",
       "cluster-experiance           0.00\n",
       "dtype: float64"
      ]
     },
     "execution_count": 288,
     "metadata": {},
     "output_type": "execute_result"
    }
   ],
   "source": [
    "lowest_experiance = experiance_df.groupby('cluster-experiance').get_group(0).mean()\n",
    "lowest_experiance"
   ]
  },
  {
   "cell_type": "code",
   "execution_count": 289,
   "id": "29df3c2f",
   "metadata": {},
   "outputs": [
    {
     "data": {
      "text/html": [
       "<div>\n",
       "<style scoped>\n",
       "    .dataframe tbody tr th:only-of-type {\n",
       "        vertical-align: middle;\n",
       "    }\n",
       "\n",
       "    .dataframe tbody tr th {\n",
       "        vertical-align: top;\n",
       "    }\n",
       "\n",
       "    .dataframe thead th {\n",
       "        text-align: right;\n",
       "    }\n",
       "</style>\n",
       "<table border=\"1\" class=\"dataframe\">\n",
       "  <thead>\n",
       "    <tr style=\"text-align: right;\">\n",
       "      <th></th>\n",
       "      <th>Handset Type</th>\n",
       "      <th>Total TCP Retrans</th>\n",
       "      <th>Total Throughput</th>\n",
       "      <th>Total RTT</th>\n",
       "      <th>cluster-experiance</th>\n",
       "      <th>experience score</th>\n",
       "    </tr>\n",
       "    <tr>\n",
       "      <th>MSISDN/Number</th>\n",
       "      <th></th>\n",
       "      <th></th>\n",
       "      <th></th>\n",
       "      <th></th>\n",
       "      <th></th>\n",
       "      <th></th>\n",
       "    </tr>\n",
       "  </thead>\n",
       "  <tbody>\n",
       "    <tr>\n",
       "      <th>33,601,001,722.00</th>\n",
       "      <td>Huawei P20 Lite Huawei Nova 3E</td>\n",
       "      <td>2,660.00</td>\n",
       "      <td>74.00</td>\n",
       "      <td>46.00</td>\n",
       "      <td>0</td>\n",
       "      <td>1,559,258.56</td>\n",
       "    </tr>\n",
       "    <tr>\n",
       "      <th>33,601,001,754.00</th>\n",
       "      <td>Apple iPhone 7 (A1778)</td>\n",
       "      <td>2,660.00</td>\n",
       "      <td>96.00</td>\n",
       "      <td>31.00</td>\n",
       "      <td>0</td>\n",
       "      <td>1,559,258.25</td>\n",
       "    </tr>\n",
       "    <tr>\n",
       "      <th>33,601,002,511.00</th>\n",
       "      <td>undefined</td>\n",
       "      <td>2,660.00</td>\n",
       "      <td>96.00</td>\n",
       "      <td>33.00</td>\n",
       "      <td>0</td>\n",
       "      <td>1,559,258.25</td>\n",
       "    </tr>\n",
       "    <tr>\n",
       "      <th>33,601,007,832.00</th>\n",
       "      <td>Apple iPhone 5S (A1457)</td>\n",
       "      <td>2,396.00</td>\n",
       "      <td>408.00</td>\n",
       "      <td>84.00</td>\n",
       "      <td>0</td>\n",
       "      <td>1,559,517.81</td>\n",
       "    </tr>\n",
       "    <tr>\n",
       "      <th>33,601,008,617.00</th>\n",
       "      <td>Apple iPhone Se (A1723)</td>\n",
       "      <td>9,373,492.00</td>\n",
       "      <td>80,790.00</td>\n",
       "      <td>119.00</td>\n",
       "      <td>0</td>\n",
       "      <td>7,811,950.74</td>\n",
       "    </tr>\n",
       "  </tbody>\n",
       "</table>\n",
       "</div>"
      ],
      "text/plain": [
       "                                     Handset Type  Total TCP Retrans  \\\n",
       "MSISDN/Number                                                          \n",
       "33,601,001,722.00  Huawei P20 Lite Huawei Nova 3E           2,660.00   \n",
       "33,601,001,754.00          Apple iPhone 7 (A1778)           2,660.00   \n",
       "33,601,002,511.00                       undefined           2,660.00   \n",
       "33,601,007,832.00         Apple iPhone 5S (A1457)           2,396.00   \n",
       "33,601,008,617.00         Apple iPhone Se (A1723)       9,373,492.00   \n",
       "\n",
       "                   Total Throughput  Total RTT  cluster-experiance  \\\n",
       "MSISDN/Number                                                        \n",
       "33,601,001,722.00             74.00      46.00                   0   \n",
       "33,601,001,754.00             96.00      31.00                   0   \n",
       "33,601,002,511.00             96.00      33.00                   0   \n",
       "33,601,007,832.00            408.00      84.00                   0   \n",
       "33,601,008,617.00         80,790.00     119.00                   0   \n",
       "\n",
       "                   experience score  \n",
       "MSISDN/Number                        \n",
       "33,601,001,722.00      1,559,258.56  \n",
       "33,601,001,754.00      1,559,258.25  \n",
       "33,601,002,511.00      1,559,258.25  \n",
       "33,601,007,832.00      1,559,517.81  \n",
       "33,601,008,617.00      7,811,950.74  "
      ]
     },
     "execution_count": 289,
     "metadata": {},
     "output_type": "execute_result"
    }
   ],
   "source": [
    "def get_experiance_score(df, low):\n",
    "    x = float(low['Total RTT'])\n",
    "    y = float(low['Total TCP Retrans'])\n",
    "    z = float(low['Total Throughput'])\n",
    "    new_df = df.copy()\n",
    "    new_df['experience score'] = ((df['Total RTT'] - x)**2 + (df['Total TCP Retrans'] - y)**2 \\\n",
    "                              + (df['Total Throughput'] - z)**2 )**0.5\n",
    "    return new_df\n",
    "experiance_scored_df = get_experiance_score(experiance_df, lowest_experiance)\n",
    "experiance_scored_df.head()"
   ]
  },
  {
   "cell_type": "markdown",
   "id": "5ef25024",
   "metadata": {},
   "source": [
    "#### Task 4.2 - Consider the average of both engagement & experience scores as the satisfaction score & report the top 10 satisfied customer"
   ]
  },
  {
   "cell_type": "code",
   "execution_count": 290,
   "id": "c1699b91",
   "metadata": {},
   "outputs": [],
   "source": [
    "satisfaction_df = pd.merge(engagement_scored_df[\"engagement score\"], experiance_scored_df['experience score'], on='MSISDN/Number')\n",
    "satisfaction_df['satisfaction score'] = (satisfaction_df['engagement score'] + satisfaction_df['experience score']) / 2"
   ]
  },
  {
   "cell_type": "code",
   "execution_count": 292,
   "id": "34d98665",
   "metadata": {},
   "outputs": [
    {
     "data": {
      "text/html": [
       "<div>\n",
       "<style scoped>\n",
       "    .dataframe tbody tr th:only-of-type {\n",
       "        vertical-align: middle;\n",
       "    }\n",
       "\n",
       "    .dataframe tbody tr th {\n",
       "        vertical-align: top;\n",
       "    }\n",
       "\n",
       "    .dataframe thead th {\n",
       "        text-align: right;\n",
       "    }\n",
       "</style>\n",
       "<table border=\"1\" class=\"dataframe\">\n",
       "  <thead>\n",
       "    <tr style=\"text-align: right;\">\n",
       "      <th></th>\n",
       "      <th>engagement score</th>\n",
       "      <th>experience score</th>\n",
       "      <th>satisfaction score</th>\n",
       "    </tr>\n",
       "    <tr>\n",
       "      <th>MSISDN/Number</th>\n",
       "      <th></th>\n",
       "      <th></th>\n",
       "      <th></th>\n",
       "    </tr>\n",
       "  </thead>\n",
       "  <tbody>\n",
       "    <tr>\n",
       "      <th>33663706799</th>\n",
       "      <td>536,275,292,501.93</td>\n",
       "      <td>1,560,255.40</td>\n",
       "      <td>268,138,426,378.67</td>\n",
       "    </tr>\n",
       "    <tr>\n",
       "      <th>33626320676</th>\n",
       "      <td>11,373,715,228.97</td>\n",
       "      <td>10,474,218,104.49</td>\n",
       "      <td>10,923,966,666.73</td>\n",
       "    </tr>\n",
       "    <tr>\n",
       "      <th>33625779332</th>\n",
       "      <td>20,052,444,619.57</td>\n",
       "      <td>1,270,605.53</td>\n",
       "      <td>10,026,857,612.55</td>\n",
       "    </tr>\n",
       "    <tr>\n",
       "      <th>33614892860</th>\n",
       "      <td>12,836,162,159.57</td>\n",
       "      <td>2,098,314.02</td>\n",
       "      <td>6,419,130,236.79</td>\n",
       "    </tr>\n",
       "    <tr>\n",
       "      <th>33760536639</th>\n",
       "      <td>12,097,501,610.46</td>\n",
       "      <td>32,977,583.69</td>\n",
       "      <td>6,065,239,597.07</td>\n",
       "    </tr>\n",
       "  </tbody>\n",
       "</table>\n",
       "</div>"
      ],
      "text/plain": [
       "                engagement score  experience score  satisfaction score\n",
       "MSISDN/Number                                                         \n",
       "33663706799   536,275,292,501.93      1,560,255.40  268,138,426,378.67\n",
       "33626320676    11,373,715,228.97 10,474,218,104.49   10,923,966,666.73\n",
       "33625779332    20,052,444,619.57      1,270,605.53   10,026,857,612.55\n",
       "33614892860    12,836,162,159.57      2,098,314.02    6,419,130,236.79\n",
       "33760536639    12,097,501,610.46     32,977,583.69    6,065,239,597.07"
      ]
     },
     "execution_count": 292,
     "metadata": {},
     "output_type": "execute_result"
    }
   ],
   "source": [
    "satisfaction_df.sort_values(by='satisfaction score', ascending=False).head(5)"
   ]
  },
  {
   "cell_type": "markdown",
   "id": "f9737118",
   "metadata": {},
   "source": [
    "#### Task 4.3 - Build a regression model of your choice to predict the satisfaction score of a customer."
   ]
  },
  {
   "cell_type": "code",
   "execution_count": 293,
   "id": "44e39883",
   "metadata": {},
   "outputs": [
    {
     "data": {
      "text/html": [
       "<div>\n",
       "<style scoped>\n",
       "    .dataframe tbody tr th:only-of-type {\n",
       "        vertical-align: middle;\n",
       "    }\n",
       "\n",
       "    .dataframe tbody tr th {\n",
       "        vertical-align: top;\n",
       "    }\n",
       "\n",
       "    .dataframe thead th {\n",
       "        text-align: right;\n",
       "    }\n",
       "</style>\n",
       "<table border=\"1\" class=\"dataframe\">\n",
       "  <thead>\n",
       "    <tr style=\"text-align: right;\">\n",
       "      <th></th>\n",
       "      <th>Bearer Id</th>\n",
       "      <th>Dur. (ms).1</th>\n",
       "      <th>Total</th>\n",
       "      <th>Total RTT</th>\n",
       "      <th>Total TCP Retrans</th>\n",
       "      <th>Total Throughput</th>\n",
       "      <th>satisfaction score</th>\n",
       "    </tr>\n",
       "    <tr>\n",
       "      <th>MSISDN/Number</th>\n",
       "      <th></th>\n",
       "      <th></th>\n",
       "      <th></th>\n",
       "      <th></th>\n",
       "      <th></th>\n",
       "      <th></th>\n",
       "      <th></th>\n",
       "    </tr>\n",
       "  </thead>\n",
       "  <tbody>\n",
       "    <tr>\n",
       "      <th>33601001722</th>\n",
       "      <td>1</td>\n",
       "      <td>116,720,140.00</td>\n",
       "      <td>878,690,574.00</td>\n",
       "      <td>46.00</td>\n",
       "      <td>2,660.00</td>\n",
       "      <td>74.00</td>\n",
       "      <td>131,577,889.23</td>\n",
       "    </tr>\n",
       "    <tr>\n",
       "      <th>33601001754</th>\n",
       "      <td>1</td>\n",
       "      <td>181,230,963.00</td>\n",
       "      <td>156,859,643.00</td>\n",
       "      <td>31.00</td>\n",
       "      <td>2,660.00</td>\n",
       "      <td>96.00</td>\n",
       "      <td>233,226,980.19</td>\n",
       "    </tr>\n",
       "    <tr>\n",
       "      <th>33601002511</th>\n",
       "      <td>1</td>\n",
       "      <td>134,969,374.00</td>\n",
       "      <td>595,966,483.00</td>\n",
       "      <td>33.00</td>\n",
       "      <td>2,660.00</td>\n",
       "      <td>96.00</td>\n",
       "      <td>15,116,201.40</td>\n",
       "    </tr>\n",
       "    <tr>\n",
       "      <th>33601007832</th>\n",
       "      <td>1</td>\n",
       "      <td>49,878,024.00</td>\n",
       "      <td>422,320,698.00</td>\n",
       "      <td>84.00</td>\n",
       "      <td>2,396.00</td>\n",
       "      <td>408.00</td>\n",
       "      <td>103,560,232.52</td>\n",
       "    </tr>\n",
       "    <tr>\n",
       "      <th>33601008617</th>\n",
       "      <td>2</td>\n",
       "      <td>37,104,453.00</td>\n",
       "      <td>1,457,410,944.00</td>\n",
       "      <td>119.00</td>\n",
       "      <td>9,373,492.00</td>\n",
       "      <td>80,790.00</td>\n",
       "      <td>425,891,722.43</td>\n",
       "    </tr>\n",
       "  </tbody>\n",
       "</table>\n",
       "</div>"
      ],
      "text/plain": [
       "               Bearer Id    Dur. (ms).1            Total  Total RTT  \\\n",
       "MSISDN/Number                                                         \n",
       "33601001722            1 116,720,140.00   878,690,574.00      46.00   \n",
       "33601001754            1 181,230,963.00   156,859,643.00      31.00   \n",
       "33601002511            1 134,969,374.00   595,966,483.00      33.00   \n",
       "33601007832            1  49,878,024.00   422,320,698.00      84.00   \n",
       "33601008617            2  37,104,453.00 1,457,410,944.00     119.00   \n",
       "\n",
       "               Total TCP Retrans  Total Throughput  satisfaction score  \n",
       "MSISDN/Number                                                           \n",
       "33601001722             2,660.00             74.00      131,577,889.23  \n",
       "33601001754             2,660.00             96.00      233,226,980.19  \n",
       "33601002511             2,660.00             96.00       15,116,201.40  \n",
       "33601007832             2,396.00            408.00      103,560,232.52  \n",
       "33601008617         9,373,492.00         80,790.00      425,891,722.43  "
      ]
     },
     "execution_count": 293,
     "metadata": {},
     "output_type": "execute_result"
    }
   ],
   "source": [
    "regretion_df = pd.merge(eng_df[['Bearer Id', 'Dur. (ms).1', 'Total']],\\\n",
    "                        experiance_df[['Total RTT','Total TCP Retrans', 'Total Throughput']],\\\n",
    "                       on='MSISDN/Number')\n",
    "regretion_df = pd.merge(regretion_df,satisfaction_df['satisfaction score'], on='MSISDN/Number' )\n",
    "regretion_df.head()"
   ]
  },
  {
   "cell_type": "code",
   "execution_count": 294,
   "id": "e3abbd9a",
   "metadata": {},
   "outputs": [
    {
     "data": {
      "text/plain": [
       "(106856, 6)"
      ]
     },
     "execution_count": 294,
     "metadata": {},
     "output_type": "execute_result"
    }
   ],
   "source": [
    "X = regretion_df[['Bearer Id', 'Dur. (ms).1', 'Total','Total RTT','Total TCP Retrans', 'Total Throughput']].values\n",
    "X = StandardScaler().fit_transform(X)\n",
    "X.shape"
   ]
  },
  {
   "cell_type": "code",
   "execution_count": 295,
   "id": "9fbe10ab",
   "metadata": {},
   "outputs": [
    {
     "data": {
      "text/plain": [
       "(106856, 1)"
      ]
     },
     "execution_count": 295,
     "metadata": {},
     "output_type": "execute_result"
    }
   ],
   "source": [
    "y = regretion_df[['satisfaction score']].values\n",
    "y = StandardScaler().fit_transform(y)\n",
    "y.shape"
   ]
  },
  {
   "cell_type": "code",
   "execution_count": 296,
   "id": "87248470",
   "metadata": {},
   "outputs": [
    {
     "data": {
      "text/plain": [
       "0.9793539178987796"
      ]
     },
     "execution_count": 296,
     "metadata": {},
     "output_type": "execute_result"
    }
   ],
   "source": [
    "model = LinearRegression().fit(X, y)\n",
    "model.score(X, y)"
   ]
  },
  {
   "cell_type": "code",
   "execution_count": 300,
   "id": "69621513",
   "metadata": {},
   "outputs": [],
   "source": [
    "pickle.dump(model, open('C:/Users/user/Desktop/Telecommunication/model/Telecom_Satisfaction_Model.sav', 'wb'))"
   ]
  },
  {
   "cell_type": "markdown",
   "id": "62244ee6",
   "metadata": {},
   "source": [
    "#### Task 4.4 - Run a k-means (k=2) on the engagement & the experience score ."
   ]
  },
  {
   "cell_type": "code",
   "execution_count": 301,
   "id": "cc9b27d9",
   "metadata": {},
   "outputs": [],
   "source": [
    "eng_exp_df = satisfaction_df[['engagement score', 'experience score']]"
   ]
  },
  {
   "cell_type": "code",
   "execution_count": 302,
   "id": "2dc44bd0",
   "metadata": {},
   "outputs": [],
   "source": [
    "min_max_scaler = preprocessing.MinMaxScaler()\n",
    "eng_exp_values = eng_exp_df.values\n",
    "\n",
    "scalled_values = min_max_scaler.fit_transform(eng_exp_values)\n",
    "eng_exp_normalized = pd.DataFrame(data=scalled_values, columns=eng_exp_df.columns)\n",
    "\n",
    "\n",
    "kmeans = KMeans(n_clusters=2).fit(eng_exp_normalized)"
   ]
  },
  {
   "cell_type": "markdown",
   "id": "6d343b86",
   "metadata": {},
   "source": [
    "#### Task 4.5 - Aggregate the average satisfaction & experience score per cluster."
   ]
  },
  {
   "cell_type": "code",
   "execution_count": 303,
   "id": "e862c6e7",
   "metadata": {},
   "outputs": [
    {
     "data": {
      "text/plain": [
       "0    106626\n",
       "1       230\n",
       "Name: clusters, dtype: int64"
      ]
     },
     "execution_count": 303,
     "metadata": {},
     "output_type": "execute_result"
    }
   ],
   "source": [
    "eng_exp_df['clusters'] = kmeans.labels_\n",
    "eng_exp_df['clusters'].value_counts()"
   ]
  },
  {
   "cell_type": "code",
   "execution_count": 304,
   "id": "32249a07",
   "metadata": {},
   "outputs": [
    {
     "data": {
      "text/html": [
       "<div>\n",
       "<style scoped>\n",
       "    .dataframe tbody tr th:only-of-type {\n",
       "        vertical-align: middle;\n",
       "    }\n",
       "\n",
       "    .dataframe tbody tr th {\n",
       "        vertical-align: top;\n",
       "    }\n",
       "\n",
       "    .dataframe thead th {\n",
       "        text-align: right;\n",
       "    }\n",
       "</style>\n",
       "<table border=\"1\" class=\"dataframe\">\n",
       "  <thead>\n",
       "    <tr style=\"text-align: right;\">\n",
       "      <th></th>\n",
       "      <th>engagement score</th>\n",
       "      <th>experience score</th>\n",
       "    </tr>\n",
       "    <tr>\n",
       "      <th>clusters</th>\n",
       "      <th></th>\n",
       "      <th></th>\n",
       "    </tr>\n",
       "  </thead>\n",
       "  <tbody>\n",
       "    <tr>\n",
       "      <th>0</th>\n",
       "      <td>364,166,433.58</td>\n",
       "      <td>6,888,690.09</td>\n",
       "    </tr>\n",
       "    <tr>\n",
       "      <th>1</th>\n",
       "      <td>776,765,310.85</td>\n",
       "      <td>2,984,904,894.91</td>\n",
       "    </tr>\n",
       "  </tbody>\n",
       "</table>\n",
       "</div>"
      ],
      "text/plain": [
       "          engagement score  experience score\n",
       "clusters                                    \n",
       "0           364,166,433.58      6,888,690.09\n",
       "1           776,765,310.85  2,984,904,894.91"
      ]
     },
     "execution_count": 304,
     "metadata": {},
     "output_type": "execute_result"
    }
   ],
   "source": [
    "result = eng_exp_df.groupby('clusters').mean()\n",
    "result"
   ]
  },
  {
   "cell_type": "markdown",
   "id": "300ea4d7",
   "metadata": {},
   "source": [
    "#### Task 4.6 - Export your final table containing all user id + engagement, experience & satisfaction scores in your local MySQL database. Report a screenshot of a select query output on the exported table. "
   ]
  },
  {
   "cell_type": "code",
   "execution_count": 305,
   "id": "c4374865",
   "metadata": {},
   "outputs": [],
   "source": [
    "satisfaction_df = satisfaction_df.reset_index()\n",
    "satisfaction_df.head()\n",
    "satisfaction_df.to_csv('C:/Users/user/Desktop/Telecommunication/data/Telecom_User_Satisfaction.csv')"
   ]
  },
  {
   "cell_type": "markdown",
   "id": "a6b6978e",
   "metadata": {},
   "source": [
    "#### Task 4.7 Model deployment tracking- deploy the model and monitor your model. Here you can use Docker or other MlOps tools which can help you to track your model’s change.  Your model tracking report includes code version, start and end time, source, parameters, metrics (loss convergence) and artifacts or any output file regarding each specific run. (CSV file, screenshot)"
   ]
  },
  {
   "cell_type": "code",
   "execution_count": null,
   "id": "4c1e1df4",
   "metadata": {},
   "outputs": [],
   "source": []
  }
 ],
 "metadata": {
  "kernelspec": {
   "display_name": "Python 3 (ipykernel)",
   "language": "python",
   "name": "python3"
  },
  "language_info": {
   "codemirror_mode": {
    "name": "ipython",
    "version": 3
   },
   "file_extension": ".py",
   "mimetype": "text/x-python",
   "name": "python",
   "nbconvert_exporter": "python",
   "pygments_lexer": "ipython3",
   "version": "3.9.12"
  }
 },
 "nbformat": 4,
 "nbformat_minor": 5
}
